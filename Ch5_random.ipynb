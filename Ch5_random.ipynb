{
 "cells": [
  {
   "cell_type": "code",
   "execution_count": null,
   "metadata": {},
   "outputs": [],
   "source": [
    "from random import *\n",
    "from math import *\n",
    "import numpy as np"
   ]
  },
  {
   "cell_type": "code",
   "execution_count": null,
   "metadata": {},
   "outputs": [],
   "source": [
    "def buffon(n, l, d):\n",
    "    l = l/2\n",
    "    d = d/2\n",
    "    hits = 0\n",
    "    for _ in range(n):\n",
    "        r1 = uniform(0, d)\n",
    "        r2 = uniform(0, pi)\n",
    "        if (r1 < l*sin(r2)):\n",
    "            hits += 1\n",
    "    return hits/n"
   ]
  },
  {
   "cell_type": "code",
   "execution_count": null,
   "metadata": {},
   "outputs": [],
   "source": [
    "n = 5000   # number of throws\n",
    "lofneedle = 15    # length of needle\n",
    "distance = 20    # distance needle 2 inches\n",
    "\n",
    "prob = buffon(n, lofneedle, distance)\n",
    "2*lofneedle / (prob * distance)"
   ]
  },
  {
   "cell_type": "code",
   "execution_count": null,
   "metadata": {},
   "outputs": [],
   "source": []
  }
 ],
 "metadata": {
  "kernelspec": {
   "display_name": "Python 3",
   "language": "python",
   "name": "python3"
  },
  "language_info": {
   "codemirror_mode": {
    "name": "ipython",
    "version": 3
   },
   "file_extension": ".py",
   "mimetype": "text/x-python",
   "name": "python",
   "nbconvert_exporter": "python",
   "pygments_lexer": "ipython3",
   "version": "3.8.5"
  }
 },
 "nbformat": 4,
 "nbformat_minor": 4
}
