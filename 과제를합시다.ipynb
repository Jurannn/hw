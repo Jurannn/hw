{
  "nbformat": 4,
  "nbformat_minor": 0,
  "metadata": {
    "colab": {
      "provenance": [],
      "collapsed_sections": [
        "nA_SjC9L_9Qn",
        "bSL6dGQka_Io",
        "X83z7XVPY5K3"
      ],
      "toc_visible": true
    },
    "kernelspec": {
      "name": "python3",
      "display_name": "Python 3"
    },
    "language_info": {
      "name": "python"
    }
  },
  "cells": [
    {
      "cell_type": "code",
      "execution_count": null,
      "metadata": {
        "id": "NhVro91qGOb6"
      },
      "outputs": [],
      "source": [
        "import numpy as np\n",
        "import pandas as pd\n",
        "import math\n",
        "from scipy import integrate"
      ]
    },
    {
      "cell_type": "markdown",
      "source": [
        "# 통계계산 과제 2"
      ],
      "metadata": {
        "id": "gg1Fa4ON0HbE"
      }
    },
    {
      "cell_type": "code",
      "source": [
        "#1"
      ],
      "metadata": {
        "id": "9JA1_d56G9bv"
      },
      "execution_count": null,
      "outputs": []
    },
    {
      "cell_type": "code",
      "source": [
        "def Quad(x):\n",
        "    return ((x[1:])**2.0 + 5*(x[:-1])**2.0)\n",
        "\n",
        "def DQuad(x,y):\n",
        "    return (np.array([2.0*x,10.0*y]))"
      ],
      "metadata": {
        "id": "0rdC5zWFHdKS"
      },
      "execution_count": null,
      "outputs": []
    },
    {
      "cell_type": "code",
      "source": [
        "!pip install dezero"
      ],
      "metadata": {
        "colab": {
          "base_uri": "https://localhost:8080/"
        },
        "id": "hQRmJRJb-eL0",
        "outputId": "bde192a6-d46d-461e-a86f-2ab9228dcb14"
      },
      "execution_count": null,
      "outputs": [
        {
          "output_type": "stream",
          "name": "stdout",
          "text": [
            "Looking in indexes: https://pypi.org/simple, https://us-python.pkg.dev/colab-wheels/public/simple/\n",
            "Collecting dezero\n",
            "  Downloading dezero-0.0.13-py3-none-any.whl (28 kB)\n",
            "Requirement already satisfied: numpy in /usr/local/lib/python3.7/dist-packages (from dezero) (1.21.6)\n",
            "Installing collected packages: dezero\n",
            "Successfully installed dezero-0.0.13\n"
          ]
        }
      ]
    },
    {
      "cell_type": "code",
      "source": [
        "import numpy as np \n",
        "from dezero import Variable\n",
        "\n",
        "def rosenbrock(x0, x1): \n",
        "    y = 100*(x1 - x0 ** 2)*(x1 - x0 ** 2) + (1 - x0) * (1 - x0)\n",
        "    return y\n",
        "x0 = Variable(np.array(0.0)) \n",
        "x1 = Variable(np.array(2.0)) \n",
        "y = rosenbrock(x0, x1) \n",
        "y.backward() \n",
        "\n",
        "print(x0.grad, x1.grad) "
      ],
      "metadata": {
        "colab": {
          "base_uri": "https://localhost:8080/"
        },
        "id": "kQDCLpI6-Xvd",
        "outputId": "af23c6b3-7c87-4e64-8fbf-48338768aee5"
      },
      "execution_count": null,
      "outputs": [
        {
          "output_type": "stream",
          "name": "stdout",
          "text": [
            "variable(-2.0) variable(400.0)\n"
          ]
        }
      ]
    },
    {
      "cell_type": "code",
      "source": [
        "def rosenbrock(x0, x1): \n",
        "    y = 100*(x1 - x0 ** 2)*(x1 - x0 ** 2) + (1 - x0) * (1 - x0)\n",
        "    return y\n",
        "\n",
        "x0 = Variable(np.array(0.0)) \n",
        "x1 = Variable(np.array(2.0)) \n",
        "lr = 0.001\n",
        "iters = 1000\n",
        "\n",
        "for i in range(iters): \n",
        "    print(x0, x1) \n",
        "    y = rosenbrock(x0, x1) \n",
        "    x0.cleargrad() \n",
        "    x1.cleargrad() \n",
        "    y.backward() \n",
        "    x0.data -= lr * x0.grad \n",
        "    x1.data -= lr * x1.grad"
      ],
      "metadata": {
        "colab": {
          "base_uri": "https://localhost:8080/",
          "height": 416
        },
        "id": "ZXyPas5R-Y6y",
        "outputId": "b7213bdf-5348-4720-c487-f8b9d6ea39f0"
      },
      "execution_count": null,
      "outputs": [
        {
          "output_type": "stream",
          "name": "stdout",
          "text": [
            "variable(0.0) variable(2.0)\n",
            "variable(variable(0.002)) variable(variable(1.6))\n"
          ]
        },
        {
          "output_type": "error",
          "ename": "TypeError",
          "evalue": "ignored",
          "traceback": [
            "\u001b[0;31m---------------------------------------------------------------------------\u001b[0m",
            "\u001b[0;31mTypeError\u001b[0m                                 Traceback (most recent call last)",
            "\u001b[0;32m<ipython-input-18-9f807f2c3d9b>\u001b[0m in \u001b[0;36m<module>\u001b[0;34m\u001b[0m\n\u001b[1;32m     10\u001b[0m \u001b[0;32mfor\u001b[0m \u001b[0mi\u001b[0m \u001b[0;32min\u001b[0m \u001b[0mrange\u001b[0m\u001b[0;34m(\u001b[0m\u001b[0miters\u001b[0m\u001b[0;34m)\u001b[0m\u001b[0;34m:\u001b[0m\u001b[0;34m\u001b[0m\u001b[0;34m\u001b[0m\u001b[0m\n\u001b[1;32m     11\u001b[0m     \u001b[0mprint\u001b[0m\u001b[0;34m(\u001b[0m\u001b[0mx0\u001b[0m\u001b[0;34m,\u001b[0m \u001b[0mx1\u001b[0m\u001b[0;34m)\u001b[0m\u001b[0;34m\u001b[0m\u001b[0;34m\u001b[0m\u001b[0m\n\u001b[0;32m---> 12\u001b[0;31m     \u001b[0my\u001b[0m \u001b[0;34m=\u001b[0m \u001b[0mrosenbrock\u001b[0m\u001b[0;34m(\u001b[0m\u001b[0mx0\u001b[0m\u001b[0;34m,\u001b[0m \u001b[0mx1\u001b[0m\u001b[0;34m)\u001b[0m\u001b[0;34m\u001b[0m\u001b[0;34m\u001b[0m\u001b[0m\n\u001b[0m\u001b[1;32m     13\u001b[0m     \u001b[0mx0\u001b[0m\u001b[0;34m.\u001b[0m\u001b[0mcleargrad\u001b[0m\u001b[0;34m(\u001b[0m\u001b[0;34m)\u001b[0m\u001b[0;34m\u001b[0m\u001b[0;34m\u001b[0m\u001b[0m\n\u001b[1;32m     14\u001b[0m     \u001b[0mx1\u001b[0m\u001b[0;34m.\u001b[0m\u001b[0mcleargrad\u001b[0m\u001b[0;34m(\u001b[0m\u001b[0;34m)\u001b[0m\u001b[0;34m\u001b[0m\u001b[0;34m\u001b[0m\u001b[0m\n",
            "\u001b[0;32m<ipython-input-18-9f807f2c3d9b>\u001b[0m in \u001b[0;36mrosenbrock\u001b[0;34m(x0, x1)\u001b[0m\n\u001b[1;32m      1\u001b[0m \u001b[0;32mdef\u001b[0m \u001b[0mrosenbrock\u001b[0m\u001b[0;34m(\u001b[0m\u001b[0mx0\u001b[0m\u001b[0;34m,\u001b[0m \u001b[0mx1\u001b[0m\u001b[0;34m)\u001b[0m\u001b[0;34m:\u001b[0m\u001b[0;34m\u001b[0m\u001b[0;34m\u001b[0m\u001b[0m\n\u001b[0;32m----> 2\u001b[0;31m     \u001b[0my\u001b[0m \u001b[0;34m=\u001b[0m \u001b[0;36m100\u001b[0m\u001b[0;34m*\u001b[0m\u001b[0;34m(\u001b[0m\u001b[0mx1\u001b[0m \u001b[0;34m-\u001b[0m \u001b[0mx0\u001b[0m \u001b[0;34m**\u001b[0m \u001b[0;36m2\u001b[0m\u001b[0;34m)\u001b[0m\u001b[0;34m*\u001b[0m\u001b[0;34m(\u001b[0m\u001b[0mx1\u001b[0m \u001b[0;34m-\u001b[0m \u001b[0mx0\u001b[0m \u001b[0;34m**\u001b[0m \u001b[0;36m2\u001b[0m\u001b[0;34m)\u001b[0m \u001b[0;34m+\u001b[0m \u001b[0;34m(\u001b[0m\u001b[0;36m1\u001b[0m \u001b[0;34m-\u001b[0m \u001b[0mx0\u001b[0m\u001b[0;34m)\u001b[0m \u001b[0;34m*\u001b[0m \u001b[0;34m(\u001b[0m\u001b[0;36m1\u001b[0m \u001b[0;34m-\u001b[0m \u001b[0mx0\u001b[0m\u001b[0;34m)\u001b[0m\u001b[0;34m\u001b[0m\u001b[0;34m\u001b[0m\u001b[0m\n\u001b[0m\u001b[1;32m      3\u001b[0m     \u001b[0;32mreturn\u001b[0m \u001b[0my\u001b[0m\u001b[0;34m\u001b[0m\u001b[0;34m\u001b[0m\u001b[0m\n\u001b[1;32m      4\u001b[0m \u001b[0;34m\u001b[0m\u001b[0m\n\u001b[1;32m      5\u001b[0m \u001b[0mx0\u001b[0m \u001b[0;34m=\u001b[0m \u001b[0mVariable\u001b[0m\u001b[0;34m(\u001b[0m\u001b[0mnp\u001b[0m\u001b[0;34m.\u001b[0m\u001b[0marray\u001b[0m\u001b[0;34m(\u001b[0m\u001b[0;36m0.0\u001b[0m\u001b[0;34m)\u001b[0m\u001b[0;34m)\u001b[0m\u001b[0;34m\u001b[0m\u001b[0;34m\u001b[0m\u001b[0m\n",
            "\u001b[0;32m/usr/local/lib/python3.7/dist-packages/dezero/core.py\u001b[0m in \u001b[0;36mpow\u001b[0;34m(x, c)\u001b[0m\n\u001b[1;32m    327\u001b[0m \u001b[0;34m\u001b[0m\u001b[0m\n\u001b[1;32m    328\u001b[0m \u001b[0;32mdef\u001b[0m \u001b[0mpow\u001b[0m\u001b[0;34m(\u001b[0m\u001b[0mx\u001b[0m\u001b[0;34m,\u001b[0m \u001b[0mc\u001b[0m\u001b[0;34m)\u001b[0m\u001b[0;34m:\u001b[0m\u001b[0;34m\u001b[0m\u001b[0;34m\u001b[0m\u001b[0m\n\u001b[0;32m--> 329\u001b[0;31m     \u001b[0;32mreturn\u001b[0m \u001b[0mPow\u001b[0m\u001b[0;34m(\u001b[0m\u001b[0mc\u001b[0m\u001b[0;34m)\u001b[0m\u001b[0;34m(\u001b[0m\u001b[0mx\u001b[0m\u001b[0;34m)\u001b[0m\u001b[0;34m\u001b[0m\u001b[0;34m\u001b[0m\u001b[0m\n\u001b[0m\u001b[1;32m    330\u001b[0m \u001b[0;34m\u001b[0m\u001b[0m\n\u001b[1;32m    331\u001b[0m \u001b[0;34m\u001b[0m\u001b[0m\n",
            "\u001b[0;32m/usr/local/lib/python3.7/dist-packages/dezero/core.py\u001b[0m in \u001b[0;36m__call__\u001b[0;34m(self, *inputs)\u001b[0m\n\u001b[1;32m    189\u001b[0m         \u001b[0;32mif\u001b[0m \u001b[0;32mnot\u001b[0m \u001b[0misinstance\u001b[0m\u001b[0;34m(\u001b[0m\u001b[0mys\u001b[0m\u001b[0;34m,\u001b[0m \u001b[0mtuple\u001b[0m\u001b[0;34m)\u001b[0m\u001b[0;34m:\u001b[0m\u001b[0;34m\u001b[0m\u001b[0;34m\u001b[0m\u001b[0m\n\u001b[1;32m    190\u001b[0m             \u001b[0mys\u001b[0m \u001b[0;34m=\u001b[0m \u001b[0;34m(\u001b[0m\u001b[0mys\u001b[0m\u001b[0;34m,\u001b[0m\u001b[0;34m)\u001b[0m\u001b[0;34m\u001b[0m\u001b[0;34m\u001b[0m\u001b[0m\n\u001b[0;32m--> 191\u001b[0;31m         \u001b[0moutputs\u001b[0m \u001b[0;34m=\u001b[0m \u001b[0;34m[\u001b[0m\u001b[0mVariable\u001b[0m\u001b[0;34m(\u001b[0m\u001b[0mas_array\u001b[0m\u001b[0;34m(\u001b[0m\u001b[0my\u001b[0m\u001b[0;34m)\u001b[0m\u001b[0;34m)\u001b[0m \u001b[0;32mfor\u001b[0m \u001b[0my\u001b[0m \u001b[0;32min\u001b[0m \u001b[0mys\u001b[0m\u001b[0;34m]\u001b[0m\u001b[0;34m\u001b[0m\u001b[0;34m\u001b[0m\u001b[0m\n\u001b[0m\u001b[1;32m    192\u001b[0m \u001b[0;34m\u001b[0m\u001b[0m\n\u001b[1;32m    193\u001b[0m         \u001b[0;32mif\u001b[0m \u001b[0mConfig\u001b[0m\u001b[0;34m.\u001b[0m\u001b[0menable_backprop\u001b[0m\u001b[0;34m:\u001b[0m\u001b[0;34m\u001b[0m\u001b[0;34m\u001b[0m\u001b[0m\n",
            "\u001b[0;32m/usr/local/lib/python3.7/dist-packages/dezero/core.py\u001b[0m in \u001b[0;36m<listcomp>\u001b[0;34m(.0)\u001b[0m\n\u001b[1;32m    189\u001b[0m         \u001b[0;32mif\u001b[0m \u001b[0;32mnot\u001b[0m \u001b[0misinstance\u001b[0m\u001b[0;34m(\u001b[0m\u001b[0mys\u001b[0m\u001b[0;34m,\u001b[0m \u001b[0mtuple\u001b[0m\u001b[0;34m)\u001b[0m\u001b[0;34m:\u001b[0m\u001b[0;34m\u001b[0m\u001b[0;34m\u001b[0m\u001b[0m\n\u001b[1;32m    190\u001b[0m             \u001b[0mys\u001b[0m \u001b[0;34m=\u001b[0m \u001b[0;34m(\u001b[0m\u001b[0mys\u001b[0m\u001b[0;34m,\u001b[0m\u001b[0;34m)\u001b[0m\u001b[0;34m\u001b[0m\u001b[0;34m\u001b[0m\u001b[0m\n\u001b[0;32m--> 191\u001b[0;31m         \u001b[0moutputs\u001b[0m \u001b[0;34m=\u001b[0m \u001b[0;34m[\u001b[0m\u001b[0mVariable\u001b[0m\u001b[0;34m(\u001b[0m\u001b[0mas_array\u001b[0m\u001b[0;34m(\u001b[0m\u001b[0my\u001b[0m\u001b[0;34m)\u001b[0m\u001b[0;34m)\u001b[0m \u001b[0;32mfor\u001b[0m \u001b[0my\u001b[0m \u001b[0;32min\u001b[0m \u001b[0mys\u001b[0m\u001b[0;34m]\u001b[0m\u001b[0;34m\u001b[0m\u001b[0;34m\u001b[0m\u001b[0m\n\u001b[0m\u001b[1;32m    192\u001b[0m \u001b[0;34m\u001b[0m\u001b[0m\n\u001b[1;32m    193\u001b[0m         \u001b[0;32mif\u001b[0m \u001b[0mConfig\u001b[0m\u001b[0;34m.\u001b[0m\u001b[0menable_backprop\u001b[0m\u001b[0;34m:\u001b[0m\u001b[0;34m\u001b[0m\u001b[0;34m\u001b[0m\u001b[0m\n",
            "\u001b[0;32m/usr/local/lib/python3.7/dist-packages/dezero/core.py\u001b[0m in \u001b[0;36m__init__\u001b[0;34m(self, data, name)\u001b[0m\n\u001b[1;32m     46\u001b[0m         \u001b[0;32mif\u001b[0m \u001b[0mdata\u001b[0m \u001b[0;32mis\u001b[0m \u001b[0;32mnot\u001b[0m \u001b[0;32mNone\u001b[0m\u001b[0;34m:\u001b[0m\u001b[0;34m\u001b[0m\u001b[0;34m\u001b[0m\u001b[0m\n\u001b[1;32m     47\u001b[0m             \u001b[0;32mif\u001b[0m \u001b[0;32mnot\u001b[0m \u001b[0misinstance\u001b[0m\u001b[0;34m(\u001b[0m\u001b[0mdata\u001b[0m\u001b[0;34m,\u001b[0m \u001b[0marray_types\u001b[0m\u001b[0;34m)\u001b[0m\u001b[0;34m:\u001b[0m\u001b[0;34m\u001b[0m\u001b[0;34m\u001b[0m\u001b[0m\n\u001b[0;32m---> 48\u001b[0;31m                 \u001b[0;32mraise\u001b[0m \u001b[0mTypeError\u001b[0m\u001b[0;34m(\u001b[0m\u001b[0;34m'{} is not supported'\u001b[0m\u001b[0;34m.\u001b[0m\u001b[0mformat\u001b[0m\u001b[0;34m(\u001b[0m\u001b[0mtype\u001b[0m\u001b[0;34m(\u001b[0m\u001b[0mdata\u001b[0m\u001b[0;34m)\u001b[0m\u001b[0;34m)\u001b[0m\u001b[0;34m)\u001b[0m\u001b[0;34m\u001b[0m\u001b[0;34m\u001b[0m\u001b[0m\n\u001b[0m\u001b[1;32m     49\u001b[0m \u001b[0;34m\u001b[0m\u001b[0m\n\u001b[1;32m     50\u001b[0m         \u001b[0mself\u001b[0m\u001b[0;34m.\u001b[0m\u001b[0mdata\u001b[0m \u001b[0;34m=\u001b[0m \u001b[0mdata\u001b[0m\u001b[0;34m\u001b[0m\u001b[0;34m\u001b[0m\u001b[0m\n",
            "\u001b[0;31mTypeError\u001b[0m: <class 'dezero.core.Variable'> is not supported"
          ]
        }
      ]
    },
    {
      "cell_type": "code",
      "source": [
        "def Rosenbrock(x,y):\n",
        "    return (1 + x)**2 + 100*(y - x**2)**2\n",
        "\n",
        "def Grad_Rosenbrock(x,y):\n",
        "    g1 = -400*x*y + 400*x**3 + 2*x -2\n",
        "    g2 = 200*y -200*x**2\n",
        "    return np.array([g1,g2])\n",
        "\n",
        "def Hessian_Rosenbrock(x,y):\n",
        "    h11 = -400*y + 1200*x**2 + 2\n",
        "    h12 = -400 * x\n",
        "    h21 = -400 * x\n",
        "    h22 = 200\n",
        "    return np.array([[h11,h12],[h21,h22]])"
      ],
      "metadata": {
        "id": "_DoDnejZGBbe"
      },
      "execution_count": null,
      "outputs": []
    },
    {
      "cell_type": "code",
      "source": [
        "def Gradient_Descent(Grad,x,y, gamma = 0.00125, epsilon=1e-4 , nMax = 10000 ):\n",
        "    #Initialization\n",
        "    i = 0\n",
        "    iter_x, iter_y, iter_count = np.empty(0),np.empty(0), np.empty(0)\n",
        "    error = 10\n",
        "    X = np.array([x,y])\n",
        "    \n",
        "    #Looping as long as error is greater than epsilon\n",
        "    while np.linalg.norm(error) > epsilon and i < nMax:\n",
        "        i +=1\n",
        "        iter_x = np.append(iter_x,x)\n",
        "        iter_y = np.append(iter_y,y)\n",
        "        iter_count = np.append(iter_count ,i)   \n",
        "        #print(X) \n",
        "        \n",
        "        X_prev = X\n",
        "        X = X - gamma * Grad(x,y)\n",
        "        error = X - X_prev\n",
        "        x,y = X[0], X[1]\n",
        "          \n",
        "    print(X)\n",
        "    return X, iter_x,iter_y, iter_count\n",
        "\n",
        "\n",
        "root,iter_x,iter_y, iter_count = Gradient_Descent(Grad_Rosenbrock,-2,2)"
      ],
      "metadata": {
        "id": "7SEs90wm-iqo"
      },
      "execution_count": null,
      "outputs": []
    },
    {
      "cell_type": "code",
      "source": [
        "[0.91654302 0.83970004]"
      ],
      "metadata": {
        "id": "k04WvAfXGG9O"
      },
      "execution_count": null,
      "outputs": []
    },
    {
      "cell_type": "code",
      "source": [
        "def f(x):\n",
        "    f1 = (1 + x[0])**2 + 100*(x[1] - x[0]**2)**2\n",
        "    return f1"
      ],
      "metadata": {
        "id": "OlVglqQuSgaj"
      },
      "execution_count": null,
      "outputs": []
    },
    {
      "cell_type": "code",
      "source": [
        "#First Derivative : Gradient, Jacobian"
      ],
      "metadata": {
        "id": "ZeKly5XRTgOe"
      },
      "execution_count": null,
      "outputs": []
    },
    {
      "cell_type": "code",
      "source": [
        "def gradient(x):\n",
        "    g1 = -400*x[0]*x[1] + 400*x[0]**3 + 2*x[0] -2\n",
        "    g2 = 200*x[1] -200*x[0]**2\n",
        "    return np.array([g1,g2])"
      ],
      "metadata": {
        "id": "yOOhWk7pT_Fx"
      },
      "execution_count": null,
      "outputs": []
    },
    {
      "cell_type": "code",
      "source": [
        "def jacobian(x):\n",
        "    h11 = -400*y + 1200*x**2 + 2\n",
        "    h12 = -400 * x\n",
        "    h21 = -400 * x\n",
        "    h22 = 200\n",
        "    return np.array([[h11,h12],[h21,h22]])"
      ],
      "metadata": {
        "id": "vB2nGMcXUnVR"
      },
      "execution_count": null,
      "outputs": []
    },
    {
      "cell_type": "code",
      "source": [
        "x = [-1, 1]"
      ],
      "metadata": {
        "id": "y56-OvqlXr6J"
      },
      "execution_count": null,
      "outputs": []
    },
    {
      "cell_type": "code",
      "source": [
        "J_inv = np.linalg.inv(jacobian(x))\n",
        "J_inv"
      ],
      "metadata": {
        "colab": {
          "base_uri": "https://localhost:8080/"
        },
        "id": "JqHtGKFZXF5o",
        "outputId": "4df6529c-5d0e-4c59-e2e2-7d8fd52a4022"
      },
      "execution_count": null,
      "outputs": [
        {
          "output_type": "execute_result",
          "data": {
            "text/plain": [
              "array([[0.5  , 1.   ],\n",
              "       [1.   , 2.005]])"
            ]
          },
          "metadata": {},
          "execution_count": 11
        }
      ]
    },
    {
      "cell_type": "code",
      "source": [
        "update = np.matmul(J_inv, gradient(x))"
      ],
      "metadata": {
        "id": "heIGYWYzXItE"
      },
      "execution_count": null,
      "outputs": []
    },
    {
      "cell_type": "code",
      "source": [
        "from copy import deepcopy\n",
        "import numpy as np\n",
        "def newton(f, init, epsilon=1e-4, verbose=True, history=False):\n",
        "    \"\"\" Newton Raphson Method.\n",
        "    f: function \n",
        "    init: np.array, with dimension n \"\"\"\n",
        "    x = deepcopy(init)\n",
        "    bound = 1e-4\n",
        "    memo = [x]\n",
        "    while True:\n",
        "        J_inv = np.linalg.inv(jacobian(x))\n",
        "        update = np.matmul(J_inv, gradient(x))\n",
        "        x = x - update\n",
        "        if bound > sum(np.abs(update)):\n",
        "            break\n",
        "        if verbose: print(\"x={} update={}\".format(x, sum(np.abs(update))))            \n",
        "        if history: memo.append(x)\n",
        "    if not history: return x\n",
        "    return x, np.array(list(zip(*memo)))"
      ],
      "metadata": {
        "id": "JwmZvu8XVoTS"
      },
      "execution_count": null,
      "outputs": []
    },
    {
      "cell_type": "code",
      "source": [
        "ans = newton(f,init=[1, 1], verbose=True)\n",
        "ans"
      ],
      "metadata": {
        "colab": {
          "base_uri": "https://localhost:8080/"
        },
        "id": "TD2NkkhAVxdz",
        "outputId": "b7eafd67-f1ff-4586-8141-107ab866f6d6"
      },
      "execution_count": null,
      "outputs": [
        {
          "output_type": "execute_result",
          "data": {
            "text/plain": [
              "array([1., 1.])"
            ]
          },
          "metadata": {},
          "execution_count": 15
        }
      ]
    },
    {
      "cell_type": "code",
      "source": [
        "def Rosenbrock(x,y):\n",
        "    z = (1 + x)**2 + 100*(y - x**2)**2\n",
        "    return z\n",
        "\n",
        "def Grad_Rosenbrock(x,y):\n",
        "    g1 = -400*x*y + 400*x**3 + 2*x -2\n",
        "    g2 = 200*y -200*x**2\n",
        "    return np.array([g1,g2])\n",
        "\n",
        "def Jaco_Roenbrock()\n",
        "\n",
        "\n",
        "xt = 100\n",
        "h = 0.000000001\n",
        "epsilon = 0.0000001\n",
        "i = 1\n",
        "while 1 == True:\n",
        "    xt1 = xt - Rosenbrock(xt)/Rosenbrock_drv\n",
        "    dist = abs(xt1 - xt)\n",
        "\n",
        "    if dist <= epsilon :\n",
        "        break\n",
        "    else :\n",
        "        xt = xt1\n",
        "        i += 1\n",
        "print(\"%s / %s / %s\" %i, xt1, Rosenbrock(xt1))"
      ],
      "metadata": {
        "colab": {
          "base_uri": "https://localhost:8080/",
          "height": 236
        },
        "id": "iNzSbaGKQ1cv",
        "outputId": "57916fac-28a5-4cb0-9881-70e77f6290e5"
      },
      "execution_count": null,
      "outputs": [
        {
          "output_type": "error",
          "ename": "TypeError",
          "evalue": "ignored",
          "traceback": [
            "\u001b[0;31m---------------------------------------------------------------------------\u001b[0m",
            "\u001b[0;31mTypeError\u001b[0m                                 Traceback (most recent call last)",
            "\u001b[0;32m<ipython-input-26-f4d51295a9ea>\u001b[0m in \u001b[0;36m<module>\u001b[0;34m\u001b[0m\n\u001b[1;32m     14\u001b[0m \u001b[0mi\u001b[0m \u001b[0;34m=\u001b[0m \u001b[0;36m1\u001b[0m\u001b[0;34m\u001b[0m\u001b[0;34m\u001b[0m\u001b[0m\n\u001b[1;32m     15\u001b[0m \u001b[0;32mwhile\u001b[0m \u001b[0;36m1\u001b[0m \u001b[0;34m==\u001b[0m \u001b[0;32mTrue\u001b[0m\u001b[0;34m:\u001b[0m\u001b[0;34m\u001b[0m\u001b[0;34m\u001b[0m\u001b[0m\n\u001b[0;32m---> 16\u001b[0;31m     \u001b[0mxt1\u001b[0m \u001b[0;34m=\u001b[0m \u001b[0mxt\u001b[0m \u001b[0;34m-\u001b[0m \u001b[0mRosenbrock\u001b[0m\u001b[0;34m(\u001b[0m\u001b[0mxt\u001b[0m\u001b[0;34m)\u001b[0m\u001b[0;34m/\u001b[0m\u001b[0mRosenbrock_drv\u001b[0m\u001b[0;34m\u001b[0m\u001b[0;34m\u001b[0m\u001b[0m\n\u001b[0m\u001b[1;32m     17\u001b[0m     \u001b[0mdist\u001b[0m \u001b[0;34m=\u001b[0m \u001b[0mabs\u001b[0m\u001b[0;34m(\u001b[0m\u001b[0mxt1\u001b[0m \u001b[0;34m-\u001b[0m \u001b[0mxt\u001b[0m\u001b[0;34m)\u001b[0m\u001b[0;34m\u001b[0m\u001b[0;34m\u001b[0m\u001b[0m\n\u001b[1;32m     18\u001b[0m \u001b[0;34m\u001b[0m\u001b[0m\n",
            "\u001b[0;31mTypeError\u001b[0m: Rosenbrock() missing 1 required positional argument: 'y'"
          ]
        }
      ]
    },
    {
      "cell_type": "code",
      "source": [
        "def f(x):\n",
        "    f1 = 3 * x[0] - cos(x[1] * x[2]) - 3 / 2\n",
        "    f2 = 4 * (x[0] ** 2) - 625 * (x[1] ** 2) + 2 * x[2] - 1\n",
        "    f3 = 20 * x[2] + exp(-x[0] * x[1]) + 9\n",
        "    return f1, f2, f3"
      ],
      "metadata": {
        "id": "4o9k7IqcRLYt"
      },
      "execution_count": null,
      "outputs": []
    },
    {
      "cell_type": "code",
      "source": [
        "f()"
      ],
      "metadata": {
        "id": "vjKRA_RWSVUB"
      },
      "execution_count": null,
      "outputs": []
    },
    {
      "cell_type": "code",
      "source": [],
      "metadata": {
        "id": "nlNjwV0acW54"
      },
      "execution_count": null,
      "outputs": []
    },
    {
      "cell_type": "code",
      "source": [],
      "metadata": {
        "id": "9dvt0b5qcWyA"
      },
      "execution_count": null,
      "outputs": []
    },
    {
      "cell_type": "markdown",
      "source": [
        "# 통계계산 과제 3"
      ],
      "metadata": {
        "id": "ivTeBKiU0OF7"
      }
    },
    {
      "cell_type": "code",
      "source": [
        "import numpy as np"
      ],
      "metadata": {
        "id": "mwP-QbfScWs1"
      },
      "execution_count": null,
      "outputs": []
    },
    {
      "cell_type": "code",
      "source": [
        "A = np.array([[1., 2., 3.], [1., 3., 4.], [2., 5., 7.]])"
      ],
      "metadata": {
        "id": "E92gW2akcX--"
      },
      "execution_count": null,
      "outputs": []
    },
    {
      "cell_type": "code",
      "source": [
        "U, Sigma, V = np.linalg.svd(A)\n",
        "print(Sigma)"
      ],
      "metadata": {
        "colab": {
          "base_uri": "https://localhost:8080/"
        },
        "id": "XfvK4t-zcZET",
        "outputId": "ec9c8c2b-6e2b-4199-d5dd-ffc5a624a99d"
      },
      "execution_count": null,
      "outputs": [
        {
          "output_type": "stream",
          "name": "stdout",
          "text": [
            "[1.08592670e+01 2.76261741e-01 3.68840788e-16]\n"
          ]
        }
      ]
    },
    {
      "cell_type": "code",
      "source": [
        "def ginvsvd(A):\n",
        "    U, Sigma, V = np.linalg.svd(A)\n",
        "    for i in range(3):\n",
        "        if Sigma[i] < 1e-13:\n",
        "            Sigma[i] = 0\n",
        "        else:\n",
        "          Sigma[i] = 1/Sigma[i]\n",
        "    A_pinv = np.dot(np.dot(V.transpose(), np.diag(Sigma)), U.transpose())\n",
        "    return A_pinv"
      ],
      "metadata": {
        "id": "Mok2_56GcZ7D"
      },
      "execution_count": null,
      "outputs": []
    },
    {
      "cell_type": "code",
      "source": [
        "ginvsvd(A)"
      ],
      "metadata": {
        "colab": {
          "base_uri": "https://localhost:8080/"
        },
        "id": "Jv8xPc_hccCb",
        "outputId": "fa7d0357-467f-45be-873b-9c180dc8c03d"
      },
      "execution_count": null,
      "outputs": [
        {
          "output_type": "execute_result",
          "data": {
            "text/plain": [
              "array([[ 2.11111111, -1.88888889,  0.22222222],\n",
              "       [-1.55555556,  1.44444444, -0.11111111],\n",
              "       [ 0.55555556, -0.44444444,  0.11111111]])"
            ]
          },
          "metadata": {},
          "execution_count": 6
        }
      ]
    },
    {
      "cell_type": "code",
      "source": [
        "#pseudo inverse\n",
        "\n",
        "A_pinv = np.linalg.pinv(A)\n",
        "print(A_pinv)"
      ],
      "metadata": {
        "id": "gFxYVXqTcfdN",
        "colab": {
          "base_uri": "https://localhost:8080/"
        },
        "outputId": "90605968-c9dc-4e6f-9957-2088a8becedd"
      },
      "execution_count": null,
      "outputs": [
        {
          "output_type": "stream",
          "name": "stdout",
          "text": [
            "[[ 2.11111111 -1.88888889  0.22222222]\n",
            " [-1.55555556  1.44444444 -0.11111111]\n",
            " [ 0.55555556 -0.44444444  0.11111111]]\n"
          ]
        }
      ]
    },
    {
      "cell_type": "code",
      "source": [
        "ginvsvd(A) == A_pinv"
      ],
      "metadata": {
        "colab": {
          "base_uri": "https://localhost:8080/"
        },
        "id": "I1iqx4wkCLtn",
        "outputId": "55805ee2-c2ab-46df-a9de-2995374583c2"
      },
      "execution_count": null,
      "outputs": [
        {
          "output_type": "execute_result",
          "data": {
            "text/plain": [
              "array([[ True, False,  True],\n",
              "       [ True, False, False],\n",
              "       [ True, False,  True]])"
            ]
          },
          "metadata": {},
          "execution_count": 8
        }
      ]
    },
    {
      "cell_type": "code",
      "source": [],
      "metadata": {
        "id": "aQMRU-FHCUA7"
      },
      "execution_count": null,
      "outputs": []
    },
    {
      "cell_type": "code",
      "source": [],
      "metadata": {
        "id": "4GxId6t7Cwi_"
      },
      "execution_count": null,
      "outputs": []
    },
    {
      "cell_type": "code",
      "source": [
        "import numpy as np"
      ],
      "metadata": {
        "id": "W6aa7ifhCwg_"
      },
      "execution_count": null,
      "outputs": []
    },
    {
      "cell_type": "code",
      "source": [
        "A = np.array([[1., 2., 3.], [1., 3., 4.], [2., 5., 7.]])"
      ],
      "metadata": {
        "id": "t2AaNGrZCx81"
      },
      "execution_count": null,
      "outputs": []
    },
    {
      "cell_type": "code",
      "source": [
        "q, r = np.linalg.qr(A)"
      ],
      "metadata": {
        "id": "ev-nmFwVCyzi"
      },
      "execution_count": null,
      "outputs": []
    },
    {
      "cell_type": "code",
      "source": [
        "q #A matrix with orthonormal columns"
      ],
      "metadata": {
        "colab": {
          "base_uri": "https://localhost:8080/"
        },
        "id": "wG-ijOTaC0H3",
        "outputId": "86217c97-3d00-4438-d251-50d5d3346390"
      },
      "execution_count": null,
      "outputs": [
        {
          "output_type": "execute_result",
          "data": {
            "text/plain": [
              "array([[-4.08248290e-01,  7.07106781e-01, -5.77350269e-01],\n",
              "       [-4.08248290e-01, -7.07106781e-01, -5.77350269e-01],\n",
              "       [-8.16496581e-01,  5.55111512e-16,  5.77350269e-01]])"
            ]
          },
          "metadata": {},
          "execution_count": 12
        }
      ]
    },
    {
      "cell_type": "code",
      "source": [
        "r #The upper-triangular matrix"
      ],
      "metadata": {
        "colab": {
          "base_uri": "https://localhost:8080/"
        },
        "id": "akttNcRYC1Od",
        "outputId": "55744642-ca21-48ba-c666-8fcec8d2e8ac"
      },
      "execution_count": null,
      "outputs": [
        {
          "output_type": "execute_result",
          "data": {
            "text/plain": [
              "array([[-2.44948974e+00, -6.12372436e+00, -8.57321410e+00],\n",
              "       [ 0.00000000e+00, -7.07106781e-01, -7.07106781e-01],\n",
              "       [ 0.00000000e+00,  0.00000000e+00, -6.10622664e-16]])"
            ]
          },
          "metadata": {},
          "execution_count": 13
        }
      ]
    },
    {
      "cell_type": "code",
      "source": [
        "np.dot(q, r)"
      ],
      "metadata": {
        "colab": {
          "base_uri": "https://localhost:8080/"
        },
        "id": "KuaXaGPaC2BF",
        "outputId": "2c7d0dfd-8e3b-4a86-c706-798d3e6c7210"
      },
      "execution_count": null,
      "outputs": [
        {
          "output_type": "execute_result",
          "data": {
            "text/plain": [
              "array([[1., 2., 3.],\n",
              "       [1., 3., 4.],\n",
              "       [2., 5., 7.]])"
            ]
          },
          "metadata": {},
          "execution_count": 14
        }
      ]
    },
    {
      "cell_type": "code",
      "source": [
        "import numpy as np\n",
        "from scipy import linalg\n",
        "\n",
        "def gramschmidt(A):\n",
        "    R = np.zeros((A.shape[1], A.shape[1]))\n",
        "    Q = np.zeros(A.shape)\n",
        "    for k in range(0, A.shape[1]):\n",
        "        R[k, k] = np.sqrt(np.dot(A[:, k], A[:, k]))\n",
        "        Q[:, k] = A[:, k]/R[k, k]\n",
        "        for j in range(k+1, A.shape[1]):\n",
        "            R[k, j] = np.dot(Q[:, k], A[:, j])\n",
        "            A[:, j] = A[:, j] - R[k, j]*Q[:, k]\n",
        "    print(f'Q = {Q}')\n",
        "    print(f'R = {R}')\n",
        "    print(f'Q^T*Q = {np.dot(Q.transpose(), Q)}')\n",
        "    print(f'Q*R ={np.dot(Q, R)}')"
      ],
      "metadata": {
        "id": "5xqRQ4yuElTQ"
      },
      "execution_count": null,
      "outputs": []
    },
    {
      "cell_type": "code",
      "source": [
        "A = np.array([[8.,-6.,2.],[-4.,11.,-7.],[4.,-7.,6.]])\n",
        "gramschmidt(A)"
      ],
      "metadata": {
        "colab": {
          "base_uri": "https://localhost:8080/"
        },
        "id": "pQl3Cy3rElrD",
        "outputId": "3cddf2dd-9b06-4909-866a-a3c36abf87d9"
      },
      "execution_count": null,
      "outputs": [
        {
          "output_type": "stream",
          "name": "stdout",
          "text": [
            "Q = [[ 0.81649658  0.53452248 -0.21821789]\n",
            " [-0.40824829  0.80178373  0.43643578]\n",
            " [ 0.40824829 -0.26726124  0.87287156]]\n",
            "R = [[  9.79795897 -12.24744871   6.94022094]\n",
            " [  0.           7.48331477  -6.14700856]\n",
            " [  0.           0.           1.74574312]]\n",
            "Q^T*Q = [[1.00000000e+00 5.60828253e-16 1.29197864e-15]\n",
            " [5.60828253e-16 1.00000000e+00 1.83456127e-17]\n",
            " [1.29197864e-15 1.83456127e-17 1.00000000e+00]]\n",
            "Q*R =[[ 8. -6.  2.]\n",
            " [-4. 11. -7.]\n",
            " [ 4. -7.  6.]]\n"
          ]
        }
      ]
    },
    {
      "cell_type": "code",
      "source": [
        "q, r = np.linalg.qr(np.array([[8.,-6.,2.],[-4.,11.,-7.],[4.,-7.,6.]]))"
      ],
      "metadata": {
        "id": "A4NNP0PEEn0x"
      },
      "execution_count": null,
      "outputs": []
    },
    {
      "cell_type": "code",
      "source": [
        "q #A matrix with orthonormal columns"
      ],
      "metadata": {
        "colab": {
          "base_uri": "https://localhost:8080/"
        },
        "id": "4E7NyioMOO8n",
        "outputId": "76d52725-c3a5-4387-e26f-acfb13012f8d"
      },
      "execution_count": null,
      "outputs": [
        {
          "output_type": "execute_result",
          "data": {
            "text/plain": [
              "array([[-0.81649658, -0.53452248, -0.21821789],\n",
              "       [ 0.40824829, -0.80178373,  0.43643578],\n",
              "       [-0.40824829,  0.26726124,  0.87287156]])"
            ]
          },
          "metadata": {},
          "execution_count": 37
        }
      ]
    },
    {
      "cell_type": "code",
      "source": [
        "r #The upper-triangular matrix"
      ],
      "metadata": {
        "colab": {
          "base_uri": "https://localhost:8080/"
        },
        "id": "jU6lE8GmOQYe",
        "outputId": "eab1433a-f17a-47ba-c396-bc317c60319c"
      },
      "execution_count": null,
      "outputs": [
        {
          "output_type": "execute_result",
          "data": {
            "text/plain": [
              "array([[-9.79795897, 12.24744871, -6.94022094],\n",
              "       [ 0.        , -7.48331477,  6.14700856],\n",
              "       [ 0.        ,  0.        ,  1.74574312]])"
            ]
          },
          "metadata": {},
          "execution_count": 38
        }
      ]
    },
    {
      "cell_type": "code",
      "source": [
        "np.dot(q, r)"
      ],
      "metadata": {
        "colab": {
          "base_uri": "https://localhost:8080/"
        },
        "id": "ctkYgBPUOiJn",
        "outputId": "ee2940e1-e6d7-4db5-e346-f675ebba6e3d"
      },
      "execution_count": null,
      "outputs": [
        {
          "output_type": "execute_result",
          "data": {
            "text/plain": [
              "array([[ 8., -6.,  2.],\n",
              "       [-4., 11., -7.],\n",
              "       [ 4., -7.,  6.]])"
            ]
          },
          "metadata": {},
          "execution_count": 39
        }
      ]
    },
    {
      "cell_type": "code",
      "source": [
        "A = np.array([[8.,-6.,2.],[-4.,11.,-7.],[4.,-7.,6.]])"
      ],
      "metadata": {
        "id": "6anRwUSmOowE"
      },
      "execution_count": null,
      "outputs": []
    },
    {
      "cell_type": "code",
      "source": [
        "A[:, 0]"
      ],
      "metadata": {
        "colab": {
          "base_uri": "https://localhost:8080/"
        },
        "id": "9cxEV-_RTFQe",
        "outputId": "88674afd-96c5-4601-e9d6-ad89a0297830"
      },
      "execution_count": null,
      "outputs": [
        {
          "output_type": "execute_result",
          "data": {
            "text/plain": [
              "array([ 8., -4.,  4.])"
            ]
          },
          "metadata": {},
          "execution_count": 44
        }
      ]
    },
    {
      "cell_type": "code",
      "source": [
        "A[:, 1]"
      ],
      "metadata": {
        "colab": {
          "base_uri": "https://localhost:8080/"
        },
        "id": "L6MbSmNqT68F",
        "outputId": "e665ebee-b113-4394-aaa1-4db1a16eb384"
      },
      "execution_count": null,
      "outputs": [
        {
          "output_type": "execute_result",
          "data": {
            "text/plain": [
              "array([-6., 11., -7.])"
            ]
          },
          "metadata": {},
          "execution_count": 50
        }
      ]
    },
    {
      "cell_type": "code",
      "source": [
        "for i in range(1,)"
      ],
      "metadata": {
        "id": "GpY6B_bHR8BM"
      },
      "execution_count": null,
      "outputs": []
    },
    {
      "cell_type": "markdown",
      "source": [],
      "metadata": {
        "id": "yHaiCt_35vHm"
      }
    },
    {
      "cell_type": "code",
      "source": [],
      "metadata": {
        "id": "JFlDNwpPz5t9"
      },
      "execution_count": null,
      "outputs": []
    },
    {
      "cell_type": "code",
      "source": [
        "q[2]=A[:,1]-np.dot(np.dot(A[:,1].transpose(),q[1]),q[1])\n",
        "q[3]=A[:,2]-(np.dot(np.dot(A[:,2].transpose(),q[1]),q[1])+np.dot(np.dot(A[:,2].transpose(),q[2]),q[2]))\n",
        "q[4]=A[:,3]-(np.dot(np.dot(A[:,3].transpose(),q[1]),q[1])+np.dot(np.dot(A[:,3].transpose(),q[2]),q[2])+np.dot(np.dot(A[:,3].transpose(),q[3]),q[3]))"
      ],
      "metadata": {
        "id": "2BqFzZbfz5qz"
      },
      "execution_count": null,
      "outputs": []
    },
    {
      "cell_type": "code",
      "source": [
        "q[4]=A[:,3]-(np.dot(np.dot(A[:,3].transpose(),q[1]),q[1])+np.dot(np.dot(A[:,3].transpose(),q[2]),q[2])+np.dot(np.dot(A[:,3].transpose(),q[3]),q[3]))"
      ],
      "metadata": {
        "id": "mLwPMa82z5lu"
      },
      "execution_count": null,
      "outputs": []
    },
    {
      "cell_type": "code",
      "source": [
        "q={}\n",
        "q[1]=A[:,0]/linalg.norm(A[:,0])\n",
        "\n",
        "q[2]=A[:,1]-np.dot(np.dot(A[:,1].transpose(),q[1]),q[1])\n",
        "q[2]=q[2]/linalg.norm(q[2])\n",
        "\n",
        "q[3]=A[:,2]-(np.dot(np.dot(A[:,2].transpose(),q[1]),q[1])+np.dot(np.dot(A[:,2].transpose(),q[2]),q[2]))\n",
        "q[3]=q[3]/linalg.norm(q[3])\n",
        "\n",
        "print(q)"
      ],
      "metadata": {
        "id": "gOQojx1Cz5eP"
      },
      "execution_count": null,
      "outputs": []
    },
    {
      "cell_type": "code",
      "source": [
        "import numpy as np\n",
        "from scipy import linalg"
      ],
      "metadata": {
        "id": "Ia1wQXSAS7Ar"
      },
      "execution_count": null,
      "outputs": []
    },
    {
      "cell_type": "code",
      "source": [
        "from scipy import linalg"
      ],
      "metadata": {
        "id": "BbymvYycTebW"
      },
      "execution_count": null,
      "outputs": []
    },
    {
      "cell_type": "code",
      "source": [],
      "metadata": {
        "id": "7xIXNFuJ0EgT"
      },
      "execution_count": null,
      "outputs": []
    },
    {
      "cell_type": "code",
      "source": [
        "A = np.array([[8.,-6.,2.],[-4.,11.,-7.],[4.,-7.,6.]])"
      ],
      "metadata": {
        "id": "zJZ-TN0GTYBG"
      },
      "execution_count": null,
      "outputs": []
    },
    {
      "cell_type": "code",
      "source": [
        "A.shape[1]"
      ],
      "metadata": {
        "colab": {
          "base_uri": "https://localhost:8080/"
        },
        "id": "gCrz7Rf_2akY",
        "outputId": "afb841e3-d136-427c-ff94-f3617693be2c"
      },
      "execution_count": null,
      "outputs": [
        {
          "output_type": "execute_result",
          "data": {
            "text/plain": [
              "3"
            ]
          },
          "metadata": {},
          "execution_count": 38
        }
      ]
    },
    {
      "cell_type": "code",
      "source": [
        "q[1]=A[:,0]/linalg.norm(A[:,0])\n",
        "\n",
        "q[2]=A[:,1]-np.dot(np.dot(A[:,1].transpose(),q[1]),q[1])\n",
        "q[2]=q[2]/linalg.norm(q[2])"
      ],
      "metadata": {
        "id": "fE_ft7g50ahw"
      },
      "execution_count": null,
      "outputs": []
    },
    {
      "cell_type": "code",
      "source": [
        "A[:,2]"
      ],
      "metadata": {
        "colab": {
          "base_uri": "https://localhost:8080/"
        },
        "id": "rOdq1DgJ0_Qe",
        "outputId": "69f1e5a2-36c9-427a-a535-3e570260ebac"
      },
      "execution_count": null,
      "outputs": [
        {
          "output_type": "execute_result",
          "data": {
            "text/plain": [
              "array([ 2., -7.,  6.])"
            ]
          },
          "metadata": {},
          "execution_count": 21
        }
      ]
    },
    {
      "cell_type": "code",
      "source": [
        "np.dot(np.dot(A[:,2].transpose(),q[1]),q[1])"
      ],
      "metadata": {
        "colab": {
          "base_uri": "https://localhost:8080/"
        },
        "id": "7J3wfGwx1DjZ",
        "outputId": "95acb4ec-f77b-466c-844c-bf0b98148031"
      },
      "execution_count": null,
      "outputs": [
        {
          "output_type": "execute_result",
          "data": {
            "text/plain": [
              "array([ 5.66666667, -2.83333333,  2.83333333])"
            ]
          },
          "metadata": {},
          "execution_count": 23
        }
      ]
    },
    {
      "cell_type": "code",
      "source": [
        "np.dot(np.dot(A[:,2].transpose(),q[2]),q[2])"
      ],
      "metadata": {
        "colab": {
          "base_uri": "https://localhost:8080/"
        },
        "id": "dWfMdqkm1Qmj",
        "outputId": "1e973131-60dc-4743-dea1-2ca48eb75777"
      },
      "execution_count": null,
      "outputs": [
        {
          "output_type": "execute_result",
          "data": {
            "text/plain": [
              "array([-1.04099399,  0.68149053,  2.22573876])"
            ]
          },
          "metadata": {},
          "execution_count": 28
        }
      ]
    },
    {
      "cell_type": "code",
      "source": [
        "q[3]=A[:,2]-(np.dot(np.dot(A[:,2].transpose(),q[1]),q[1])+np.dot(np.dot(A[:,2].transpose(),q[2]),q[2]))\n",
        "q[3]"
      ],
      "metadata": {
        "colab": {
          "base_uri": "https://localhost:8080/"
        },
        "id": "4FLBCTlo0V18",
        "outputId": "fd579478-4572-4c40-cce1-6a6882d95c9c"
      },
      "execution_count": null,
      "outputs": [
        {
          "output_type": "execute_result",
          "data": {
            "text/plain": [
              "array([-1.02140518e-14,  9.32587341e-15, -8.88178420e-16])"
            ]
          },
          "metadata": {},
          "execution_count": 13
        }
      ]
    },
    {
      "cell_type": "code",
      "source": [
        "A[:,2]"
      ],
      "metadata": {
        "colab": {
          "base_uri": "https://localhost:8080/"
        },
        "id": "w1XiU6EG0qFO",
        "outputId": "62d2930a-5c26-465c-83de-b90d557b6ded"
      },
      "execution_count": null,
      "outputs": [
        {
          "output_type": "execute_result",
          "data": {
            "text/plain": [
              "array([3., 4., 7.])"
            ]
          },
          "metadata": {},
          "execution_count": 14
        }
      ]
    },
    {
      "cell_type": "code",
      "source": [
        "q[3]=A[1,2]-np.dot(np.dot(A[:,2].transpose(),q[2]),q[2])\n",
        "q[3]"
      ],
      "metadata": {
        "colab": {
          "base_uri": "https://localhost:8080/"
        },
        "id": "xgAfTFGe0Y64",
        "outputId": "c2afb816-0d48-4acb-d40b-cbcc7f8dd21a"
      },
      "execution_count": null,
      "outputs": [
        {
          "output_type": "execute_result",
          "data": {
            "text/plain": [
              "array([4.5, 3.5, 4. ])"
            ]
          },
          "metadata": {},
          "execution_count": 17
        }
      ]
    },
    {
      "cell_type": "code",
      "source": [
        "A[1,2:2]"
      ],
      "metadata": {
        "colab": {
          "base_uri": "https://localhost:8080/"
        },
        "id": "9hNrNmq30sxC",
        "outputId": "bcf809fe-ecd0-4d15-81fc-006c85fee809"
      },
      "execution_count": null,
      "outputs": [
        {
          "output_type": "execute_result",
          "data": {
            "text/plain": [
              "array([], dtype=float64)"
            ]
          },
          "metadata": {},
          "execution_count": 18
        }
      ]
    },
    {
      "cell_type": "code",
      "source": [
        "q = {}\n",
        "q[1]=A[:,0]/linalg.norm(A[:,0])\n",
        "\n",
        "q[2]=A[:,1]-np.dot(np.dot(A[:,1].transpose(),q[1]),q[1])\n",
        "q[2]=q[2]/linalg.norm(q[2])\n",
        "\n",
        "q[3]=A[:,2]-(np.dot(np.dot(A[:,2].transpose(),q[1]),q[1])+np.dot(np.dot(A[:,2].transpose(),q[2]),q[2]))\n",
        "q[3]=q[3]/linalg.norm(q[3])\n",
        "\n",
        "print(q)"
      ],
      "metadata": {
        "colab": {
          "base_uri": "https://localhost:8080/"
        },
        "id": "yVqW94uo0GuE",
        "outputId": "ced326e9-bbae-4f35-8113-9b7b21378c14"
      },
      "execution_count": null,
      "outputs": [
        {
          "output_type": "stream",
          "name": "stdout",
          "text": [
            "{1: array([ 0.81649658, -0.40824829,  0.40824829]), 2: array([ 0.53452248,  0.80178373, -0.26726124]), 3: array([-0.21821789,  0.43643578,  0.87287156])}\n"
          ]
        }
      ]
    },
    {
      "cell_type": "code",
      "source": [
        "#a를 n"
      ],
      "metadata": {
        "id": "H5v-wUg51msP"
      },
      "execution_count": null,
      "outputs": []
    },
    {
      "cell_type": "code",
      "source": [
        "q"
      ],
      "metadata": {
        "id": "1gxzg8sb0K12"
      },
      "execution_count": null,
      "outputs": []
    },
    {
      "cell_type": "code",
      "source": [
        "def orthogonal(A): #A는 n*n정방행렬\n",
        "  n = A.shaep[0]\n",
        "  q = {}\n",
        "  q[1]=A[:,0]/linalg.norm(A[:,0])\n",
        "  for i in range(1, n):\n",
        "    q[1]=A[:,0]/linalg.norm(A[:,0])\n",
        "    sig_i = np.dot(np.dot(A[:,i].transpose(),q[i]),q[i])\n",
        "    print(sig_i)\n",
        "\n"
      ],
      "metadata": {
        "id": "De40kXXW1aTE"
      },
      "execution_count": null,
      "outputs": []
    },
    {
      "cell_type": "code",
      "source": [
        "list(range(1,4))"
      ],
      "metadata": {
        "colab": {
          "base_uri": "https://localhost:8080/"
        },
        "id": "AJ370x8h32lI",
        "outputId": "7ea2c96f-d984-4118-eaf3-9b6cfcf67b93"
      },
      "execution_count": null,
      "outputs": [
        {
          "output_type": "execute_result",
          "data": {
            "text/plain": [
              "[1, 2, 3]"
            ]
          },
          "metadata": {},
          "execution_count": 40
        }
      ]
    },
    {
      "cell_type": "code",
      "source": [
        "A = np.array([[8.,-6.,2.],[-4.,11.,-7.],[4.,-7.,6.]])\n",
        "q = {}\n",
        "q[1]=A[:,0]/linalg.norm(A[:,0])\n",
        "for i in range(1, 3):\n",
        "  sig = np.dot(np.dot(A[:,i].transpose(),q[i]),q[i])\n",
        "  print(sig)"
      ],
      "metadata": {
        "colab": {
          "base_uri": "https://localhost:8080/",
          "height": 236
        },
        "id": "dWuDPa1u34Xr",
        "outputId": "cd8d2ccb-8950-4aab-cba5-3fc66749077d"
      },
      "execution_count": null,
      "outputs": [
        {
          "output_type": "stream",
          "name": "stdout",
          "text": [
            "[-10.   5.  -5.]\n"
          ]
        },
        {
          "output_type": "error",
          "ename": "KeyError",
          "evalue": "ignored",
          "traceback": [
            "\u001b[0;31m---------------------------------------------------------------------------\u001b[0m",
            "\u001b[0;31mKeyError\u001b[0m                                  Traceback (most recent call last)",
            "\u001b[0;32m<ipython-input-48-8f71356fdd04>\u001b[0m in \u001b[0;36m<module>\u001b[0;34m\u001b[0m\n\u001b[1;32m      3\u001b[0m \u001b[0mq\u001b[0m\u001b[0;34m[\u001b[0m\u001b[0;36m1\u001b[0m\u001b[0;34m]\u001b[0m\u001b[0;34m=\u001b[0m\u001b[0mA\u001b[0m\u001b[0;34m[\u001b[0m\u001b[0;34m:\u001b[0m\u001b[0;34m,\u001b[0m\u001b[0;36m0\u001b[0m\u001b[0;34m]\u001b[0m\u001b[0;34m/\u001b[0m\u001b[0mlinalg\u001b[0m\u001b[0;34m.\u001b[0m\u001b[0mnorm\u001b[0m\u001b[0;34m(\u001b[0m\u001b[0mA\u001b[0m\u001b[0;34m[\u001b[0m\u001b[0;34m:\u001b[0m\u001b[0;34m,\u001b[0m\u001b[0;36m0\u001b[0m\u001b[0;34m]\u001b[0m\u001b[0;34m)\u001b[0m\u001b[0;34m\u001b[0m\u001b[0;34m\u001b[0m\u001b[0m\n\u001b[1;32m      4\u001b[0m \u001b[0;32mfor\u001b[0m \u001b[0mi\u001b[0m \u001b[0;32min\u001b[0m \u001b[0mrange\u001b[0m\u001b[0;34m(\u001b[0m\u001b[0;36m1\u001b[0m\u001b[0;34m,\u001b[0m \u001b[0;36m3\u001b[0m\u001b[0;34m)\u001b[0m\u001b[0;34m:\u001b[0m\u001b[0;34m\u001b[0m\u001b[0;34m\u001b[0m\u001b[0m\n\u001b[0;32m----> 5\u001b[0;31m   \u001b[0msig\u001b[0m \u001b[0;34m=\u001b[0m \u001b[0mnp\u001b[0m\u001b[0;34m.\u001b[0m\u001b[0mdot\u001b[0m\u001b[0;34m(\u001b[0m\u001b[0mnp\u001b[0m\u001b[0;34m.\u001b[0m\u001b[0mdot\u001b[0m\u001b[0;34m(\u001b[0m\u001b[0mA\u001b[0m\u001b[0;34m[\u001b[0m\u001b[0;34m:\u001b[0m\u001b[0;34m,\u001b[0m\u001b[0mi\u001b[0m\u001b[0;34m]\u001b[0m\u001b[0;34m.\u001b[0m\u001b[0mtranspose\u001b[0m\u001b[0;34m(\u001b[0m\u001b[0;34m)\u001b[0m\u001b[0;34m,\u001b[0m\u001b[0mq\u001b[0m\u001b[0;34m[\u001b[0m\u001b[0mi\u001b[0m\u001b[0;34m]\u001b[0m\u001b[0;34m)\u001b[0m\u001b[0;34m,\u001b[0m\u001b[0mq\u001b[0m\u001b[0;34m[\u001b[0m\u001b[0mi\u001b[0m\u001b[0;34m]\u001b[0m\u001b[0;34m)\u001b[0m\u001b[0;34m\u001b[0m\u001b[0;34m\u001b[0m\u001b[0m\n\u001b[0m\u001b[1;32m      6\u001b[0m   \u001b[0mprint\u001b[0m\u001b[0;34m(\u001b[0m\u001b[0msig\u001b[0m\u001b[0;34m)\u001b[0m\u001b[0;34m\u001b[0m\u001b[0;34m\u001b[0m\u001b[0m\n",
            "\u001b[0;31mKeyError\u001b[0m: 2"
          ]
        }
      ]
    },
    {
      "cell_type": "code",
      "source": [
        "A = np.array([[8.,-6.,2.],[-4.,11.,-7.],[4.,-7.,6.]])\n",
        "\n",
        "q = {}\n",
        "def ortho(n):\n",
        "  if n == 1:\n",
        "    q[n]=A[:,n-1]/linalg.norm(A[:,n-1])\n",
        "\n",
        "\n",
        "\n",
        "#q[2]=A[:,1]-np.dot(np.dot(A[:,1].transpose(),q[1]),q[1])\n",
        "#q[3]=A[:,2]-(np.dot(np.dot(A[:,2].transpose(),q[1]),q[1])+np.dot(np.dot(A[:,2].transpose(),q[2]),q[2]))\n",
        "#q[4]=A[:,3]-(np.dot(np.dot(A[:,3].transpose(),q[1]),q[1])+np.dot(np.dot(A[:,3].transpose(),q[2]),q[2])+np.dot(np.dot(A[:,3].transpose(),q[3]),q[3]))\n",
        "\n",
        "\n",
        "  return q[i]"
      ],
      "metadata": {
        "id": "Xcm6xVza4lOV"
      },
      "execution_count": null,
      "outputs": []
    },
    {
      "cell_type": "code",
      "source": [
        "def ortho(n):\n",
        "  ort = np.dot(np.dot(A[:,1].transpose().q[n]"
      ],
      "metadata": {
        "id": "SBTl6jcE679z"
      },
      "execution_count": null,
      "outputs": []
    },
    {
      "cell_type": "code",
      "source": [
        "def sum_for_loop(N):\n",
        "    ret = 0\n",
        "    for n in range(1, N+1):\n",
        "        ret += n\n",
        "    return ret"
      ],
      "metadata": {
        "id": "nMt6mvJ57aKE"
      },
      "execution_count": null,
      "outputs": []
    },
    {
      "cell_type": "code",
      "source": [
        "sum_for_loop(3)"
      ],
      "metadata": {
        "colab": {
          "base_uri": "https://localhost:8080/"
        },
        "id": "u7SP-U0u7aW0",
        "outputId": "7e1050ac-42c7-4fe7-b6e9-a26f4d045290"
      },
      "execution_count": null,
      "outputs": [
        {
          "output_type": "execute_result",
          "data": {
            "text/plain": [
              "6"
            ]
          },
          "metadata": {},
          "execution_count": 50
        }
      ]
    },
    {
      "cell_type": "code",
      "source": [
        "A = np.array([[8.,-6.,2.],[-4.,11.,-7.],[4.,-7.,6.]])\n",
        "\n",
        "def orth(i, j):\n",
        "  A = np.array([[8.,-6.,2.],[-4.,11.,-7.],[4.,-7.,6.]])\n",
        "  q = {}\n",
        "  q[1]=A[:,0]/linalg.norm(A[:,0])\n",
        "  return np.dot(np.dot(A[:,i].transpose(),q[j]),q[j])\n",
        "\n",
        "for i in range(1, 4):\n",
        "  for j in range(1,i+1):\n",
        "    orth(i, j)"
      ],
      "metadata": {
        "colab": {
          "base_uri": "https://localhost:8080/",
          "height": 323
        },
        "id": "C35CnNLC7cZi",
        "outputId": "76a95f29-fad5-4028-93f5-2be8de12e0e7"
      },
      "execution_count": null,
      "outputs": [
        {
          "output_type": "error",
          "ename": "KeyError",
          "evalue": "ignored",
          "traceback": [
            "\u001b[0;31m---------------------------------------------------------------------------\u001b[0m",
            "\u001b[0;31mKeyError\u001b[0m                                  Traceback (most recent call last)",
            "\u001b[0;32m<ipython-input-61-5a34adb3a9b3>\u001b[0m in \u001b[0;36m<module>\u001b[0;34m\u001b[0m\n\u001b[1;32m      9\u001b[0m \u001b[0;32mfor\u001b[0m \u001b[0mi\u001b[0m \u001b[0;32min\u001b[0m \u001b[0mrange\u001b[0m\u001b[0;34m(\u001b[0m\u001b[0;36m1\u001b[0m\u001b[0;34m,\u001b[0m \u001b[0;36m4\u001b[0m\u001b[0;34m)\u001b[0m\u001b[0;34m:\u001b[0m\u001b[0;34m\u001b[0m\u001b[0;34m\u001b[0m\u001b[0m\n\u001b[1;32m     10\u001b[0m   \u001b[0;32mfor\u001b[0m \u001b[0mj\u001b[0m \u001b[0;32min\u001b[0m \u001b[0mrange\u001b[0m\u001b[0;34m(\u001b[0m\u001b[0;36m1\u001b[0m\u001b[0;34m,\u001b[0m\u001b[0mi\u001b[0m\u001b[0;34m+\u001b[0m\u001b[0;36m1\u001b[0m\u001b[0;34m)\u001b[0m\u001b[0;34m:\u001b[0m\u001b[0;34m\u001b[0m\u001b[0;34m\u001b[0m\u001b[0m\n\u001b[0;32m---> 11\u001b[0;31m     \u001b[0morth\u001b[0m\u001b[0;34m(\u001b[0m\u001b[0mi\u001b[0m\u001b[0;34m,\u001b[0m \u001b[0mj\u001b[0m\u001b[0;34m)\u001b[0m\u001b[0;34m\u001b[0m\u001b[0;34m\u001b[0m\u001b[0m\n\u001b[0m",
            "\u001b[0;32m<ipython-input-61-5a34adb3a9b3>\u001b[0m in \u001b[0;36morth\u001b[0;34m(i, j)\u001b[0m\n\u001b[1;32m      5\u001b[0m   \u001b[0mq\u001b[0m \u001b[0;34m=\u001b[0m \u001b[0;34m{\u001b[0m\u001b[0;34m}\u001b[0m\u001b[0;34m\u001b[0m\u001b[0;34m\u001b[0m\u001b[0m\n\u001b[1;32m      6\u001b[0m   \u001b[0mq\u001b[0m\u001b[0;34m[\u001b[0m\u001b[0;36m1\u001b[0m\u001b[0;34m]\u001b[0m\u001b[0;34m=\u001b[0m\u001b[0mA\u001b[0m\u001b[0;34m[\u001b[0m\u001b[0;34m:\u001b[0m\u001b[0;34m,\u001b[0m\u001b[0;36m0\u001b[0m\u001b[0;34m]\u001b[0m\u001b[0;34m/\u001b[0m\u001b[0mlinalg\u001b[0m\u001b[0;34m.\u001b[0m\u001b[0mnorm\u001b[0m\u001b[0;34m(\u001b[0m\u001b[0mA\u001b[0m\u001b[0;34m[\u001b[0m\u001b[0;34m:\u001b[0m\u001b[0;34m,\u001b[0m\u001b[0;36m0\u001b[0m\u001b[0;34m]\u001b[0m\u001b[0;34m)\u001b[0m\u001b[0;34m\u001b[0m\u001b[0;34m\u001b[0m\u001b[0m\n\u001b[0;32m----> 7\u001b[0;31m   \u001b[0;32mreturn\u001b[0m \u001b[0mnp\u001b[0m\u001b[0;34m.\u001b[0m\u001b[0mdot\u001b[0m\u001b[0;34m(\u001b[0m\u001b[0mnp\u001b[0m\u001b[0;34m.\u001b[0m\u001b[0mdot\u001b[0m\u001b[0;34m(\u001b[0m\u001b[0mA\u001b[0m\u001b[0;34m[\u001b[0m\u001b[0;34m:\u001b[0m\u001b[0;34m,\u001b[0m\u001b[0mi\u001b[0m\u001b[0;34m]\u001b[0m\u001b[0;34m.\u001b[0m\u001b[0mtranspose\u001b[0m\u001b[0;34m(\u001b[0m\u001b[0;34m)\u001b[0m\u001b[0;34m,\u001b[0m\u001b[0mq\u001b[0m\u001b[0;34m[\u001b[0m\u001b[0mj\u001b[0m\u001b[0;34m]\u001b[0m\u001b[0;34m)\u001b[0m\u001b[0;34m,\u001b[0m\u001b[0mq\u001b[0m\u001b[0;34m[\u001b[0m\u001b[0mj\u001b[0m\u001b[0;34m]\u001b[0m\u001b[0;34m)\u001b[0m\u001b[0;34m\u001b[0m\u001b[0;34m\u001b[0m\u001b[0m\n\u001b[0m\u001b[1;32m      8\u001b[0m \u001b[0;34m\u001b[0m\u001b[0m\n\u001b[1;32m      9\u001b[0m \u001b[0;32mfor\u001b[0m \u001b[0mi\u001b[0m \u001b[0;32min\u001b[0m \u001b[0mrange\u001b[0m\u001b[0;34m(\u001b[0m\u001b[0;36m1\u001b[0m\u001b[0;34m,\u001b[0m \u001b[0;36m4\u001b[0m\u001b[0;34m)\u001b[0m\u001b[0;34m:\u001b[0m\u001b[0;34m\u001b[0m\u001b[0;34m\u001b[0m\u001b[0m\n",
            "\u001b[0;31mKeyError\u001b[0m: 2"
          ]
        }
      ]
    },
    {
      "cell_type": "code",
      "source": [
        "np.dot(np.dot(A[:,1].transpose(),q[1]),q[1])"
      ],
      "metadata": {
        "colab": {
          "base_uri": "https://localhost:8080/"
        },
        "id": "55_TH5uG8lov",
        "outputId": "187c3545-bc2a-4e30-8ebf-6fb07425ba99"
      },
      "execution_count": null,
      "outputs": [
        {
          "output_type": "execute_result",
          "data": {
            "text/plain": [
              "array([-10.,   5.,  -5.])"
            ]
          },
          "metadata": {},
          "execution_count": 57
        }
      ]
    },
    {
      "cell_type": "code",
      "source": [
        "def orth(i, j):\n",
        "  A = np.array([[8.,-6.,2.],[-4.,11.,-7.],[4.,-7.,6.]])\n",
        "  q = {}\n",
        "  q[1]=A[:,0]/linalg.norm(A[:,0])\n",
        "  return np.dot(np.dot(A[:,i].transpose(),q[j]),q[j])"
      ],
      "metadata": {
        "id": "F6qojYH_9RLC"
      },
      "execution_count": null,
      "outputs": []
    },
    {
      "cell_type": "code",
      "source": [
        "for i in range(1, 3):\n",
        "  for j in range(1, i+1):\n",
        "    print(orth(i,j))"
      ],
      "metadata": {
        "colab": {
          "base_uri": "https://localhost:8080/",
          "height": 323
        },
        "id": "iLxS2uEo-DO6",
        "outputId": "a316fdec-5b84-479d-a49f-db101f7f2a10"
      },
      "execution_count": null,
      "outputs": [
        {
          "output_type": "stream",
          "name": "stdout",
          "text": [
            "[-10.   5.  -5.]\n",
            "[ 5.66666667 -2.83333333  2.83333333]\n"
          ]
        },
        {
          "output_type": "error",
          "ename": "KeyError",
          "evalue": "ignored",
          "traceback": [
            "\u001b[0;31m---------------------------------------------------------------------------\u001b[0m",
            "\u001b[0;31mKeyError\u001b[0m                                  Traceback (most recent call last)",
            "\u001b[0;32m<ipython-input-69-3f7579987bc3>\u001b[0m in \u001b[0;36m<module>\u001b[0;34m\u001b[0m\n\u001b[1;32m      1\u001b[0m \u001b[0;32mfor\u001b[0m \u001b[0mi\u001b[0m \u001b[0;32min\u001b[0m \u001b[0mrange\u001b[0m\u001b[0;34m(\u001b[0m\u001b[0;36m1\u001b[0m\u001b[0;34m,\u001b[0m \u001b[0;36m3\u001b[0m\u001b[0;34m)\u001b[0m\u001b[0;34m:\u001b[0m\u001b[0;34m\u001b[0m\u001b[0;34m\u001b[0m\u001b[0m\n\u001b[1;32m      2\u001b[0m   \u001b[0;32mfor\u001b[0m \u001b[0mj\u001b[0m \u001b[0;32min\u001b[0m \u001b[0mrange\u001b[0m\u001b[0;34m(\u001b[0m\u001b[0;36m1\u001b[0m\u001b[0;34m,\u001b[0m \u001b[0mi\u001b[0m\u001b[0;34m+\u001b[0m\u001b[0;36m1\u001b[0m\u001b[0;34m)\u001b[0m\u001b[0;34m:\u001b[0m\u001b[0;34m\u001b[0m\u001b[0;34m\u001b[0m\u001b[0m\n\u001b[0;32m----> 3\u001b[0;31m     \u001b[0mprint\u001b[0m\u001b[0;34m(\u001b[0m\u001b[0morth\u001b[0m\u001b[0;34m(\u001b[0m\u001b[0mi\u001b[0m\u001b[0;34m,\u001b[0m\u001b[0mj\u001b[0m\u001b[0;34m)\u001b[0m\u001b[0;34m)\u001b[0m\u001b[0;34m\u001b[0m\u001b[0;34m\u001b[0m\u001b[0m\n\u001b[0m",
            "\u001b[0;32m<ipython-input-62-cd99d8255fd2>\u001b[0m in \u001b[0;36morth\u001b[0;34m(i, j)\u001b[0m\n\u001b[1;32m      3\u001b[0m   \u001b[0mq\u001b[0m \u001b[0;34m=\u001b[0m \u001b[0;34m{\u001b[0m\u001b[0;34m}\u001b[0m\u001b[0;34m\u001b[0m\u001b[0;34m\u001b[0m\u001b[0m\n\u001b[1;32m      4\u001b[0m   \u001b[0mq\u001b[0m\u001b[0;34m[\u001b[0m\u001b[0;36m1\u001b[0m\u001b[0;34m]\u001b[0m\u001b[0;34m=\u001b[0m\u001b[0mA\u001b[0m\u001b[0;34m[\u001b[0m\u001b[0;34m:\u001b[0m\u001b[0;34m,\u001b[0m\u001b[0;36m0\u001b[0m\u001b[0;34m]\u001b[0m\u001b[0;34m/\u001b[0m\u001b[0mlinalg\u001b[0m\u001b[0;34m.\u001b[0m\u001b[0mnorm\u001b[0m\u001b[0;34m(\u001b[0m\u001b[0mA\u001b[0m\u001b[0;34m[\u001b[0m\u001b[0;34m:\u001b[0m\u001b[0;34m,\u001b[0m\u001b[0;36m0\u001b[0m\u001b[0;34m]\u001b[0m\u001b[0;34m)\u001b[0m\u001b[0;34m\u001b[0m\u001b[0;34m\u001b[0m\u001b[0m\n\u001b[0;32m----> 5\u001b[0;31m   \u001b[0;32mreturn\u001b[0m \u001b[0mnp\u001b[0m\u001b[0;34m.\u001b[0m\u001b[0mdot\u001b[0m\u001b[0;34m(\u001b[0m\u001b[0mnp\u001b[0m\u001b[0;34m.\u001b[0m\u001b[0mdot\u001b[0m\u001b[0;34m(\u001b[0m\u001b[0mA\u001b[0m\u001b[0;34m[\u001b[0m\u001b[0;34m:\u001b[0m\u001b[0;34m,\u001b[0m\u001b[0mi\u001b[0m\u001b[0;34m]\u001b[0m\u001b[0;34m.\u001b[0m\u001b[0mtranspose\u001b[0m\u001b[0;34m(\u001b[0m\u001b[0;34m)\u001b[0m\u001b[0;34m,\u001b[0m\u001b[0mq\u001b[0m\u001b[0;34m[\u001b[0m\u001b[0mj\u001b[0m\u001b[0;34m]\u001b[0m\u001b[0;34m)\u001b[0m\u001b[0;34m,\u001b[0m\u001b[0mq\u001b[0m\u001b[0;34m[\u001b[0m\u001b[0mj\u001b[0m\u001b[0;34m]\u001b[0m\u001b[0;34m)\u001b[0m\u001b[0;34m\u001b[0m\u001b[0;34m\u001b[0m\u001b[0m\n\u001b[0m",
            "\u001b[0;31mKeyError\u001b[0m: 2"
          ]
        }
      ]
    },
    {
      "cell_type": "code",
      "source": [
        "list(range(1, 3))"
      ],
      "metadata": {
        "colab": {
          "base_uri": "https://localhost:8080/"
        },
        "id": "jWbYxFGj-uPc",
        "outputId": "0d6d5918-1fca-4efa-fada-98b268e87ec5"
      },
      "execution_count": null,
      "outputs": [
        {
          "output_type": "execute_result",
          "data": {
            "text/plain": [
              "[1, 2]"
            ]
          },
          "metadata": {},
          "execution_count": 70
        }
      ]
    },
    {
      "cell_type": "code",
      "source": [
        "orth(1,1)"
      ],
      "metadata": {
        "colab": {
          "base_uri": "https://localhost:8080/"
        },
        "id": "6sWstFm19zRo",
        "outputId": "8fe12cae-d852-4790-bcae-4fcc35b61c24"
      },
      "execution_count": null,
      "outputs": [
        {
          "output_type": "execute_result",
          "data": {
            "text/plain": [
              "array([-10.,   5.,  -5.])"
            ]
          },
          "metadata": {},
          "execution_count": 64
        }
      ]
    },
    {
      "cell_type": "code",
      "source": [
        "orth(2,1)"
      ],
      "metadata": {
        "colab": {
          "base_uri": "https://localhost:8080/"
        },
        "id": "5dQQsmCd99Hh",
        "outputId": "52400f7c-8d6b-4faf-9f0b-946c4884bbf4"
      },
      "execution_count": null,
      "outputs": [
        {
          "output_type": "execute_result",
          "data": {
            "text/plain": [
              "array([ 5.66666667, -2.83333333,  2.83333333])"
            ]
          },
          "metadata": {},
          "execution_count": 65
        }
      ]
    },
    {
      "cell_type": "code",
      "source": [
        "np.dot(np.dot(A[:,2].transpose(),q[1]),q[1])"
      ],
      "metadata": {
        "colab": {
          "base_uri": "https://localhost:8080/"
        },
        "id": "lrBqLBde-Bjk",
        "outputId": "fcec17c3-dac8-4ac6-d580-c2e857e2a711"
      },
      "execution_count": null,
      "outputs": [
        {
          "output_type": "execute_result",
          "data": {
            "text/plain": [
              "array([ 5.66666667, -2.83333333,  2.83333333])"
            ]
          },
          "metadata": {},
          "execution_count": 66
        }
      ]
    },
    {
      "cell_type": "code",
      "source": [
        "np.dot(np.dot(A[:,2].transpose(),q[2]),q[2])"
      ],
      "metadata": {
        "colab": {
          "base_uri": "https://localhost:8080/",
          "height": 166
        },
        "id": "q_Pqzq-P-6xT",
        "outputId": "974d0364-71fa-4202-87f7-2a7b38d3a042"
      },
      "execution_count": null,
      "outputs": [
        {
          "output_type": "error",
          "ename": "KeyError",
          "evalue": "ignored",
          "traceback": [
            "\u001b[0;31m---------------------------------------------------------------------------\u001b[0m",
            "\u001b[0;31mKeyError\u001b[0m                                  Traceback (most recent call last)",
            "\u001b[0;32m<ipython-input-71-4c253aefaa9f>\u001b[0m in \u001b[0;36m<module>\u001b[0;34m\u001b[0m\n\u001b[0;32m----> 1\u001b[0;31m \u001b[0mnp\u001b[0m\u001b[0;34m.\u001b[0m\u001b[0mdot\u001b[0m\u001b[0;34m(\u001b[0m\u001b[0mnp\u001b[0m\u001b[0;34m.\u001b[0m\u001b[0mdot\u001b[0m\u001b[0;34m(\u001b[0m\u001b[0mA\u001b[0m\u001b[0;34m[\u001b[0m\u001b[0;34m:\u001b[0m\u001b[0;34m,\u001b[0m\u001b[0;36m2\u001b[0m\u001b[0;34m]\u001b[0m\u001b[0;34m.\u001b[0m\u001b[0mtranspose\u001b[0m\u001b[0;34m(\u001b[0m\u001b[0;34m)\u001b[0m\u001b[0;34m,\u001b[0m\u001b[0mq\u001b[0m\u001b[0;34m[\u001b[0m\u001b[0;36m2\u001b[0m\u001b[0;34m]\u001b[0m\u001b[0;34m)\u001b[0m\u001b[0;34m,\u001b[0m\u001b[0mq\u001b[0m\u001b[0;34m[\u001b[0m\u001b[0;36m2\u001b[0m\u001b[0;34m]\u001b[0m\u001b[0;34m)\u001b[0m\u001b[0;34m\u001b[0m\u001b[0;34m\u001b[0m\u001b[0m\n\u001b[0m",
            "\u001b[0;31mKeyError\u001b[0m: 2"
          ]
        }
      ]
    },
    {
      "cell_type": "code",
      "source": [
        "#q[2]=A[:,1]-np.dot(np.dot(A[:,1].transpose(),q[1]),q[1])\n",
        "#q[3]=A[:,2]-(np.dot(np.dot(A[:,2].transpose(),q[1]),q[1])+np.dot(np.dot(A[:,2].transpose(),q[2]),q[2]))\n",
        "#q[4]=A[:,3]-(np.dot(np.dot(A[:,3].transpose(),q[1]),q[1])+np.dot(np.dot(A[:,3].transpose(),q[2]),q[2])+np.dot(np.dot(A[:,3].transpose(),q[3]),q[3]))"
      ],
      "metadata": {
        "id": "HTNDQxk291Er"
      },
      "execution_count": null,
      "outputs": []
    },
    {
      "cell_type": "code",
      "source": [
        "import numpy as np\n",
        "from scipy import linalg\n",
        "\n",
        "def gramschmidt(A):\n",
        "    global part\n",
        "    q={}\n",
        "    q[1]=A[:,0]/linalg.norm(A[:,0])\n",
        "    for i in range(2,A.shape[0]+1):\n",
        "        part=0\n",
        "        for j in range(1,i):\n",
        "            part+=np.dot(np.dot(A[:,i-1].transpose(),q[j]),q[j])\n",
        "        q[i]=A[:,i-1]-part\n",
        "        q[i]=q[i]/linalg.norm(q[i])\n",
        "    \n",
        "\n",
        "    return q"
      ],
      "metadata": {
        "id": "yL7bbKWi_G43"
      },
      "execution_count": null,
      "outputs": []
    },
    {
      "cell_type": "code",
      "source": [
        "Q1 = np.array([k for k in gramschmidt(A).values()])\n",
        "Q1.T"
      ],
      "metadata": {
        "colab": {
          "base_uri": "https://localhost:8080/"
        },
        "id": "ayFfc5_EAvRi",
        "outputId": "f5b689e5-789c-4254-bf21-6643a7db4064"
      },
      "execution_count": null,
      "outputs": [
        {
          "output_type": "execute_result",
          "data": {
            "text/plain": [
              "array([[ 0.81649658,  0.53452248, -0.21821789],\n",
              "       [-0.40824829,  0.80178373,  0.43643578],\n",
              "       [ 0.40824829, -0.26726124,  0.87287156]])"
            ]
          },
          "metadata": {},
          "execution_count": 46
        }
      ]
    },
    {
      "cell_type": "markdown",
      "source": [
        "Q = [[ 0.81649658  0.53452248 -0.21821789]\n",
        " [-0.40824829  0.80178373  0.43643578]\n",
        " [ 0.40824829 -0.26726124  0.87287156]]"
      ],
      "metadata": {
        "id": "trTnWWkvFr9j"
      }
    },
    {
      "cell_type": "code",
      "source": [
        "q, r = linalg.qr(A)"
      ],
      "metadata": {
        "id": "Vl4bFAEQAIio"
      },
      "execution_count": null,
      "outputs": []
    },
    {
      "cell_type": "code",
      "source": [
        "q"
      ],
      "metadata": {
        "colab": {
          "base_uri": "https://localhost:8080/"
        },
        "id": "meO-Q5SjDFZk",
        "outputId": "2dfea5ba-7efc-4b5d-af8a-7291c14e64d3"
      },
      "execution_count": null,
      "outputs": [
        {
          "output_type": "execute_result",
          "data": {
            "text/plain": [
              "array([[-0.81649658, -0.53452248, -0.21821789],\n",
              "       [ 0.40824829, -0.80178373,  0.43643578],\n",
              "       [-0.40824829,  0.26726124,  0.87287156]])"
            ]
          },
          "metadata": {},
          "execution_count": 32
        }
      ]
    },
    {
      "cell_type": "code",
      "source": [
        "r"
      ],
      "metadata": {
        "colab": {
          "base_uri": "https://localhost:8080/"
        },
        "id": "pdAPRkwSDGNJ",
        "outputId": "3c22c792-9b32-4ff0-f702-bf6f641b2692"
      },
      "execution_count": null,
      "outputs": [
        {
          "output_type": "execute_result",
          "data": {
            "text/plain": [
              "array([[-9.79795897, 12.24744871, -6.94022094],\n",
              "       [ 0.        , -7.48331477,  6.14700856],\n",
              "       [ 0.        ,  0.        ,  1.74574312]])"
            ]
          },
          "metadata": {},
          "execution_count": 23
        }
      ]
    },
    {
      "cell_type": "code",
      "source": [
        "np.dot(q, r)"
      ],
      "metadata": {
        "colab": {
          "base_uri": "https://localhost:8080/"
        },
        "id": "gOVnuT2HDHWq",
        "outputId": "fd2bcdf5-0737-4dec-fece-c2b3cdfd6464"
      },
      "execution_count": null,
      "outputs": [
        {
          "output_type": "execute_result",
          "data": {
            "text/plain": [
              "array([[ 8., -6.,  2.],\n",
              "       [-4., 11., -7.],\n",
              "       [ 4., -7.,  6.]])"
            ]
          },
          "metadata": {},
          "execution_count": 24
        }
      ]
    },
    {
      "cell_type": "code",
      "source": [
        "#3*3 gramschmidt's 알고리즘\n",
        "A = np.array([[8.,-6.,2.], [-4.,11.,-7.], [4.,-7.,6.]])\n",
        "\n",
        "def gramschmidt(A):\n",
        "    global part\n",
        "    q={}\n",
        "    q[1]=A[:,0]/linalg.norm(A[:,0])\n",
        "    for i in range(2,4):\n",
        "        part=0\n",
        "        for j in range(1,i):\n",
        "            part+=np.dot(np.dot(A[:,i-1].transpose(),q[j]),q[j])\n",
        "        q[i]=A[:,i-1]-part\n",
        "        q[i]=q[i]/linalg.norm(q[i])\n",
        "    return q\n",
        "\n",
        "gramschmidt(A)"
      ],
      "metadata": {
        "colab": {
          "base_uri": "https://localhost:8080/"
        },
        "id": "rKQgjzA7AN8n",
        "outputId": "ae6cabd8-035c-4246-f201-1e6d4818cf26"
      },
      "execution_count": null,
      "outputs": [
        {
          "output_type": "execute_result",
          "data": {
            "text/plain": [
              "{1: array([ 0.81649658, -0.40824829,  0.40824829]),\n",
              " 2: array([ 0.53452248,  0.80178373, -0.26726124]),\n",
              " 3: array([-0.21821789,  0.43643578,  0.87287156])}"
            ]
          },
          "metadata": {},
          "execution_count": 7
        }
      ]
    },
    {
      "cell_type": "code",
      "source": [],
      "metadata": {
        "id": "RTtTrvQsAb9R"
      },
      "execution_count": null,
      "outputs": []
    },
    {
      "cell_type": "markdown",
      "source": [
        "# 고통프 과제 5"
      ],
      "metadata": {
        "id": "m1Rm18320RVb"
      }
    },
    {
      "cell_type": "markdown",
      "source": [
        "Exercise 10.1"
      ],
      "metadata": {
        "id": "0g5mfwzW3ZF4"
      }
    },
    {
      "cell_type": "code",
      "source": [
        "def nested_sum(list1):\n",
        "  if type(list1) != list:\n",
        "    print(f\"Type of '{list1}' must be list\")\n",
        "  else:\n",
        "    sum_list = []\n",
        "    for i in range(len(list1)):\n",
        "      sum_list.append(sum(list1[i]))\n",
        "    return sum(sum_list)"
      ],
      "metadata": {
        "id": "GQaI1kWN0STQ"
      },
      "execution_count": null,
      "outputs": []
    },
    {
      "cell_type": "code",
      "source": [
        "t = [[1,2], [3], [4,5,6]]\n",
        "nested_sum(t)"
      ],
      "metadata": {
        "colab": {
          "base_uri": "https://localhost:8080/"
        },
        "id": "AQNiS0zX0T_N",
        "outputId": "9669e1d0-ec63-4e89-9cea-ec874c387a28"
      },
      "execution_count": null,
      "outputs": [
        {
          "output_type": "execute_result",
          "data": {
            "text/plain": [
              "21"
            ]
          },
          "metadata": {},
          "execution_count": 254
        }
      ]
    },
    {
      "cell_type": "code",
      "source": [
        "t = [12345]"
      ],
      "metadata": {
        "id": "YDJn7kz3uKR4"
      },
      "execution_count": null,
      "outputs": []
    },
    {
      "cell_type": "code",
      "source": [
        "t2 = [[1,2], [3], [4,5,6],[7,8,9],[10]]\n",
        "nested_sum(t2)"
      ],
      "metadata": {
        "colab": {
          "base_uri": "https://localhost:8080/"
        },
        "id": "y0Mfmp_s3Rgx",
        "outputId": "ac59314c-b9a0-4299-dfc8-cae38d238a8b"
      },
      "execution_count": null,
      "outputs": [
        {
          "output_type": "execute_result",
          "data": {
            "text/plain": [
              "55"
            ]
          },
          "metadata": {},
          "execution_count": 256
        }
      ]
    },
    {
      "cell_type": "code",
      "source": [
        "t3 = 'a'\n",
        "nested_sum(t3)"
      ],
      "metadata": {
        "colab": {
          "base_uri": "https://localhost:8080/"
        },
        "id": "0kEuxPFT36wx",
        "outputId": "f232caed-9dce-4a3a-a529-b079c0d2dbcf"
      },
      "execution_count": null,
      "outputs": [
        {
          "output_type": "stream",
          "name": "stdout",
          "text": [
            "Type of 'a' must be list\n"
          ]
        }
      ]
    },
    {
      "cell_type": "markdown",
      "source": [
        "Exercie 10.4"
      ],
      "metadata": {
        "id": "ItAPcFRZ3chf"
      }
    },
    {
      "cell_type": "code",
      "source": [
        "def chop(t):\n",
        "  if type(t) != list:\n",
        "    print(f\"Type of {t} must be list\")\n",
        "  else:\n",
        "    lent = len(t)\n",
        "    for i in range(1, lent-1):\n",
        "      t.append(t[i])\n",
        "    del t[:lent]"
      ],
      "metadata": {
        "id": "smva9fHC0z46"
      },
      "execution_count": null,
      "outputs": []
    },
    {
      "cell_type": "code",
      "source": [
        "t = [1,2,3,4]\n",
        "chop(t)"
      ],
      "metadata": {
        "id": "vjIWJos_4X4S"
      },
      "execution_count": null,
      "outputs": []
    },
    {
      "cell_type": "code",
      "source": [
        "t"
      ],
      "metadata": {
        "colab": {
          "base_uri": "https://localhost:8080/"
        },
        "id": "qtig5BSE4vWm",
        "outputId": "bb20526a-75c6-4b26-da53-1380d25acad7"
      },
      "execution_count": null,
      "outputs": [
        {
          "output_type": "execute_result",
          "data": {
            "text/plain": [
              "[2, 3]"
            ]
          },
          "metadata": {},
          "execution_count": 117
        }
      ]
    },
    {
      "cell_type": "code",
      "source": [
        "t1 = [1,2,3,4,5,6,7,8]\n",
        "chop(t1)"
      ],
      "metadata": {
        "id": "221EHhKN4aWT"
      },
      "execution_count": null,
      "outputs": []
    },
    {
      "cell_type": "code",
      "source": [
        "t1"
      ],
      "metadata": {
        "colab": {
          "base_uri": "https://localhost:8080/"
        },
        "id": "Gs4JhjRx4gyC",
        "outputId": "fbade613-36c9-4e41-9f6d-850238ea5f34"
      },
      "execution_count": null,
      "outputs": [
        {
          "output_type": "execute_result",
          "data": {
            "text/plain": [
              "[2, 3, 4, 5, 6, 7]"
            ]
          },
          "metadata": {},
          "execution_count": 119
        }
      ]
    },
    {
      "cell_type": "markdown",
      "source": [
        "Exercise 10.5"
      ],
      "metadata": {
        "id": "zmeXnYtx75An"
      }
    },
    {
      "cell_type": "code",
      "source": [
        "def is_sorted(t):\n",
        "  if type(t) != list:\n",
        "    print(f\"Type of {t} must be list\")\n",
        "  return t == sorted(t)"
      ],
      "metadata": {
        "id": "2ZlFuzxB8lGg"
      },
      "execution_count": null,
      "outputs": []
    },
    {
      "cell_type": "code",
      "source": [
        "is_sorted(['b', 'a'])"
      ],
      "metadata": {
        "colab": {
          "base_uri": "https://localhost:8080/"
        },
        "id": "2t-KjrMy80Tu",
        "outputId": "f71c18ac-4088-4cdf-93bb-be3e3b3c2f5e"
      },
      "execution_count": null,
      "outputs": [
        {
          "output_type": "execute_result",
          "data": {
            "text/plain": [
              "False"
            ]
          },
          "metadata": {},
          "execution_count": 135
        }
      ]
    },
    {
      "cell_type": "code",
      "source": [
        "is_sorted([1,2,2])"
      ],
      "metadata": {
        "colab": {
          "base_uri": "https://localhost:8080/"
        },
        "id": "ihA702OU71-T",
        "outputId": "59e000f7-87cb-44f4-e9cf-d5ea0a9b6b15"
      },
      "execution_count": null,
      "outputs": [
        {
          "output_type": "execute_result",
          "data": {
            "text/plain": [
              "True"
            ]
          },
          "metadata": {},
          "execution_count": 136
        }
      ]
    },
    {
      "cell_type": "markdown",
      "source": [
        "Exercise 11.2"
      ],
      "metadata": {
        "id": "r3sv5NhG9RVa"
      }
    },
    {
      "cell_type": "code",
      "source": [
        "#setdefault 메서드는 딕셔너리에 key값이 존재하지 않는 경우,\n",
        "#key의 디폴트 값을 설정해주는 메서드이다.\n",
        "#setdefault(key[, default])"
      ],
      "metadata": {
        "id": "gzMHQTdU8bTn"
      },
      "execution_count": null,
      "outputs": []
    },
    {
      "cell_type": "code",
      "source": [
        "def invert_dic(d1):\n",
        "  invert = {}\n",
        "  for i in list(d1.keys()):\n",
        "    change = invert.setdefault(d1[i],i)\n",
        "  return invert"
      ],
      "metadata": {
        "id": "hDSF2dTO-ZP-"
      },
      "execution_count": null,
      "outputs": []
    },
    {
      "cell_type": "code",
      "source": [
        "invert_dic({'a' : 1, 'b' : 3, 'c' : 4})"
      ],
      "metadata": {
        "colab": {
          "base_uri": "https://localhost:8080/"
        },
        "id": "07qAvPzdAVon",
        "outputId": "262ab39c-5d4f-4984-db87-6d32ce4aac4b"
      },
      "execution_count": null,
      "outputs": [
        {
          "output_type": "execute_result",
          "data": {
            "text/plain": [
              "{1: 'a', 3: 'b', 4: 'c'}"
            ]
          },
          "metadata": {},
          "execution_count": 205
        }
      ]
    },
    {
      "cell_type": "code",
      "source": [
        "dd = {'name':'juran', 'id':'2020580034'}\n",
        "invert_dic(dd)"
      ],
      "metadata": {
        "colab": {
          "base_uri": "https://localhost:8080/"
        },
        "id": "UhURwFEHAyVY",
        "outputId": "4fdca47b-8095-405b-805d-b51c17561762"
      },
      "execution_count": null,
      "outputs": [
        {
          "output_type": "execute_result",
          "data": {
            "text/plain": [
              "{'juran': 'name', '2020580034': 'id'}"
            ]
          },
          "metadata": {},
          "execution_count": 209
        }
      ]
    },
    {
      "cell_type": "markdown",
      "source": [
        "Exercise 11.3"
      ],
      "metadata": {
        "id": "hmIge3L-GH-j"
      }
    },
    {
      "cell_type": "code",
      "source": [
        "memo = {}\n",
        "def ack(m,n):\n",
        "  if m == 0:\n",
        "    return n + 1\n",
        "  elif n == 0:\n",
        "    return ack(m-1, 1)\n",
        "  \n",
        "  if (m, n) in memo:\n",
        "    return memo[m,n]\n",
        "  else:\n",
        "    memo[m,n] = ack(m-1, ack(m, n-1))\n",
        "    return memo[m,n]"
      ],
      "metadata": {
        "id": "GJkIWH6_B-eN"
      },
      "execution_count": null,
      "outputs": []
    },
    {
      "cell_type": "code",
      "source": [
        "ack(4,1)"
      ],
      "metadata": {
        "colab": {
          "base_uri": "https://localhost:8080/",
          "height": 375
        },
        "id": "Vfw3GvSpKzQq",
        "outputId": "6a8273f4-8433-4ccf-8c1b-09a2c4e6fe2e"
      },
      "execution_count": null,
      "outputs": [
        {
          "output_type": "error",
          "ename": "RecursionError",
          "evalue": "ignored",
          "traceback": [
            "\u001b[0;31m---------------------------------------------------------------------------\u001b[0m",
            "\u001b[0;31mRecursionError\u001b[0m                            Traceback (most recent call last)",
            "\u001b[0;32m<ipython-input-10-f265b47904fa>\u001b[0m in \u001b[0;36m<module>\u001b[0;34m\u001b[0m\n\u001b[0;32m----> 1\u001b[0;31m \u001b[0mack\u001b[0m\u001b[0;34m(\u001b[0m\u001b[0;36m4\u001b[0m\u001b[0;34m,\u001b[0m\u001b[0;36m1\u001b[0m\u001b[0;34m)\u001b[0m\u001b[0;34m\u001b[0m\u001b[0;34m\u001b[0m\u001b[0m\n\u001b[0m",
            "\u001b[0;32m<ipython-input-5-a025f9b7dea8>\u001b[0m in \u001b[0;36mack\u001b[0;34m(m, n)\u001b[0m\n\u001b[1;32m      9\u001b[0m     \u001b[0;32mreturn\u001b[0m \u001b[0mmemo\u001b[0m\u001b[0;34m[\u001b[0m\u001b[0mm\u001b[0m\u001b[0;34m,\u001b[0m\u001b[0mn\u001b[0m\u001b[0;34m]\u001b[0m\u001b[0;34m\u001b[0m\u001b[0;34m\u001b[0m\u001b[0m\n\u001b[1;32m     10\u001b[0m   \u001b[0;32melse\u001b[0m\u001b[0;34m:\u001b[0m\u001b[0;34m\u001b[0m\u001b[0;34m\u001b[0m\u001b[0m\n\u001b[0;32m---> 11\u001b[0;31m     \u001b[0mmemo\u001b[0m\u001b[0;34m[\u001b[0m\u001b[0mm\u001b[0m\u001b[0;34m,\u001b[0m\u001b[0mn\u001b[0m\u001b[0;34m]\u001b[0m \u001b[0;34m=\u001b[0m \u001b[0mack\u001b[0m\u001b[0;34m(\u001b[0m\u001b[0mm\u001b[0m\u001b[0;34m-\u001b[0m\u001b[0;36m1\u001b[0m\u001b[0;34m,\u001b[0m \u001b[0mack\u001b[0m\u001b[0;34m(\u001b[0m\u001b[0mm\u001b[0m\u001b[0;34m,\u001b[0m \u001b[0mn\u001b[0m\u001b[0;34m-\u001b[0m\u001b[0;36m1\u001b[0m\u001b[0;34m)\u001b[0m\u001b[0;34m)\u001b[0m\u001b[0;34m\u001b[0m\u001b[0;34m\u001b[0m\u001b[0m\n\u001b[0m\u001b[1;32m     12\u001b[0m     \u001b[0;32mreturn\u001b[0m \u001b[0mmemo\u001b[0m\u001b[0;34m[\u001b[0m\u001b[0mm\u001b[0m\u001b[0;34m,\u001b[0m\u001b[0mn\u001b[0m\u001b[0;34m]\u001b[0m\u001b[0;34m\u001b[0m\u001b[0;34m\u001b[0m\u001b[0m\n",
            "... last 1 frames repeated, from the frame below ...\n",
            "\u001b[0;32m<ipython-input-5-a025f9b7dea8>\u001b[0m in \u001b[0;36mack\u001b[0;34m(m, n)\u001b[0m\n\u001b[1;32m      9\u001b[0m     \u001b[0;32mreturn\u001b[0m \u001b[0mmemo\u001b[0m\u001b[0;34m[\u001b[0m\u001b[0mm\u001b[0m\u001b[0;34m,\u001b[0m\u001b[0mn\u001b[0m\u001b[0;34m]\u001b[0m\u001b[0;34m\u001b[0m\u001b[0;34m\u001b[0m\u001b[0m\n\u001b[1;32m     10\u001b[0m   \u001b[0;32melse\u001b[0m\u001b[0;34m:\u001b[0m\u001b[0;34m\u001b[0m\u001b[0;34m\u001b[0m\u001b[0m\n\u001b[0;32m---> 11\u001b[0;31m     \u001b[0mmemo\u001b[0m\u001b[0;34m[\u001b[0m\u001b[0mm\u001b[0m\u001b[0;34m,\u001b[0m\u001b[0mn\u001b[0m\u001b[0;34m]\u001b[0m \u001b[0;34m=\u001b[0m \u001b[0mack\u001b[0m\u001b[0;34m(\u001b[0m\u001b[0mm\u001b[0m\u001b[0;34m-\u001b[0m\u001b[0;36m1\u001b[0m\u001b[0;34m,\u001b[0m \u001b[0mack\u001b[0m\u001b[0;34m(\u001b[0m\u001b[0mm\u001b[0m\u001b[0;34m,\u001b[0m \u001b[0mn\u001b[0m\u001b[0;34m-\u001b[0m\u001b[0;36m1\u001b[0m\u001b[0;34m)\u001b[0m\u001b[0;34m)\u001b[0m\u001b[0;34m\u001b[0m\u001b[0;34m\u001b[0m\u001b[0m\n\u001b[0m\u001b[1;32m     12\u001b[0m     \u001b[0;32mreturn\u001b[0m \u001b[0mmemo\u001b[0m\u001b[0;34m[\u001b[0m\u001b[0mm\u001b[0m\u001b[0;34m,\u001b[0m\u001b[0mn\u001b[0m\u001b[0;34m]\u001b[0m\u001b[0;34m\u001b[0m\u001b[0;34m\u001b[0m\u001b[0m\n",
            "\u001b[0;31mRecursionError\u001b[0m: maximum recursion depth exceeded in comparison"
          ]
        }
      ]
    },
    {
      "cell_type": "code",
      "source": [
        "for i in range(3):\n",
        "    a1_text = 'jason {0:02d}번 gate를 통과\\n'.format(i)\n",
        "    print(a1_text)"
      ],
      "metadata": {
        "id": "ZAFcaftiPCwF",
        "colab": {
          "base_uri": "https://localhost:8080/"
        },
        "outputId": "f9692cdf-8d91-427d-c57a-d631ab28aae7"
      },
      "execution_count": null,
      "outputs": [
        {
          "output_type": "stream",
          "name": "stdout",
          "text": [
            "jason 00번 gate를 통과\n",
            "\n",
            "jason 01번 gate를 통과\n",
            "\n",
            "jason 02번 gate를 통과\n",
            "\n"
          ]
        }
      ]
    },
    {
      "cell_type": "code",
      "source": [
        "for i in range(3):\n",
        "    a1_text = 'jason {0:02d}번 gate를 통과.\\n'.format(i) #{0:02d} -> 두자리수, 0 채움\n",
        "    print(a1_text)"
      ],
      "metadata": {
        "colab": {
          "base_uri": "https://localhost:8080/"
        },
        "id": "xL12rlLuquFz",
        "outputId": "4efadec9-9afb-4954-d2dd-a4e835b6e8fb"
      },
      "execution_count": null,
      "outputs": [
        {
          "output_type": "stream",
          "name": "stdout",
          "text": [
            "jason 00번 gate를 통과.\n",
            "\n",
            "jason 01번 gate를 통과.\n",
            "\n",
            "jason 02번 gate를 통과.\n",
            "\n"
          ]
        }
      ]
    },
    {
      "cell_type": "code",
      "source": [
        "with open(\"C:\\Users\\USER\\Desktop\\test.txt\", 'w') as f:\n",
        "    for i in range(3):\n",
        "        a1_text = ' {0:02d}번 gate를 통과.\\n'.format(i) #{0:02d} -> 2자리수, 0 입력\n",
        "        f.wirte( a1_text )"
      ],
      "metadata": {
        "colab": {
          "base_uri": "https://localhost:8080/",
          "height": 132
        },
        "id": "d_P0VTETzsS8",
        "outputId": "89bc7284-482b-4095-9a9f-b3d054645dea"
      },
      "execution_count": null,
      "outputs": [
        {
          "output_type": "error",
          "ename": "SyntaxError",
          "evalue": "ignored",
          "traceback": [
            "\u001b[0;36m  File \u001b[0;32m\"<ipython-input-3-0b12801bd9f6>\"\u001b[0;36m, line \u001b[0;32m1\u001b[0m\n\u001b[0;31m    with open(\"C:\\Users\\USER\\Desktop\\test.txt\", 'w') as f:\u001b[0m\n\u001b[0m             ^\u001b[0m\n\u001b[0;31mSyntaxError\u001b[0m\u001b[0;31m:\u001b[0m (unicode error) 'unicodeescape' codec can't decode bytes in position 2-3: truncated \\UXXXXXXXX escape\n"
          ]
        }
      ]
    },
    {
      "cell_type": "code",
      "source": [
        "with opne(\"C:\\Users\\USER\\Desktop\\test.txt\", 'w') as f:\n",
        "    for i in range(3):\n",
        "        a1_text = ' {0:02d}번 gate를 통과.\\n'.format(i) #{0:02d} -> 2자리수, 0 입력\n",
        "        f.wirte( a1_text )"
      ],
      "metadata": {
        "colab": {
          "base_uri": "https://localhost:8080/",
          "height": 132
        },
        "id": "wv8g4wVMzu0X",
        "outputId": "b7d2925f-1bcf-41c8-b9b5-1447e47c69a1"
      },
      "execution_count": null,
      "outputs": [
        {
          "output_type": "error",
          "ename": "SyntaxError",
          "evalue": "ignored",
          "traceback": [
            "\u001b[0;36m  File \u001b[0;32m\"<ipython-input-5-2fa433eb71d5>\"\u001b[0;36m, line \u001b[0;32m1\u001b[0m\n\u001b[0;31m    with opne(\"C:\\Users\\USER\\Desktop\\test.txt\", 'w') as f:\u001b[0m\n\u001b[0m             ^\u001b[0m\n\u001b[0;31mSyntaxError\u001b[0m\u001b[0;31m:\u001b[0m (unicode error) 'unicodeescape' codec can't decode bytes in position 2-3: truncated \\UXXXXXXXX escape\n"
          ]
        }
      ]
    },
    {
      "cell_type": "code",
      "source": [],
      "metadata": {
        "id": "PuIPjBtb4mr3"
      },
      "execution_count": null,
      "outputs": []
    },
    {
      "cell_type": "markdown",
      "source": [
        "# 다변량 계산"
      ],
      "metadata": {
        "id": "cvboT691oAtc"
      }
    },
    {
      "cell_type": "code",
      "source": [
        "import math"
      ],
      "metadata": {
        "id": "hgA8ZLlLoZEL"
      },
      "execution_count": null,
      "outputs": []
    },
    {
      "cell_type": "code",
      "source": [
        "(194.47368 - 179.55)/math.sqrt((39/380)*143.5591)"
      ],
      "metadata": {
        "colab": {
          "base_uri": "https://localhost:8080/"
        },
        "id": "ec7ImLS1oCDf",
        "outputId": "1198f2e3-8a43-401a-8dd0-71084a1607e0"
      },
      "execution_count": null,
      "outputs": [
        {
          "output_type": "execute_result",
          "data": {
            "text/plain": [
              "3.8879445236962766"
            ]
          },
          "metadata": {},
          "execution_count": 2
        }
      ]
    },
    {
      "cell_type": "code",
      "source": [
        "(267.05263 - 290.8)/math.sqrt((39/380)*367.78777)"
      ],
      "metadata": {
        "colab": {
          "base_uri": "https://localhost:8080/"
        },
        "id": "GSXTa_23obzD",
        "outputId": "8d9061a4-a9ee-4f0c-c766-c8524157c727"
      },
      "execution_count": null,
      "outputs": [
        {
          "output_type": "execute_result",
          "data": {
            "text/plain": [
              "-3.865239169107477"
            ]
          },
          "metadata": {},
          "execution_count": 3
        }
      ]
    },
    {
      "cell_type": "code",
      "source": [
        "(137.36842 - 157.2)/math.sqrt((39/380)*118.31408)"
      ],
      "metadata": {
        "colab": {
          "base_uri": "https://localhost:8080/"
        },
        "id": "8Ip_R9D1odyA",
        "outputId": "b330b382-3acc-493f-916a-c3ffd74bc93f"
      },
      "execution_count": null,
      "outputs": [
        {
          "output_type": "execute_result",
          "data": {
            "text/plain": [
              "-5.691131171188923"
            ]
          },
          "metadata": {},
          "execution_count": 4
        }
      ]
    },
    {
      "cell_type": "code",
      "source": [
        "(185.94737 - 209.25)/math.sqrt((39/380)*208.0729)"
      ],
      "metadata": {
        "colab": {
          "base_uri": "https://localhost:8080/"
        },
        "id": "S5lkkGXUoeEJ",
        "outputId": "054a9a91-550a-40c9-f99a-9c7af3b56b89"
      },
      "execution_count": null,
      "outputs": [
        {
          "output_type": "execute_result",
          "data": {
            "text/plain": [
              "-5.042625018507955"
            ]
          },
          "metadata": {},
          "execution_count": 5
        }
      ]
    },
    {
      "cell_type": "code",
      "source": [
        "( - )/math.sqrt((39/380)*)"
      ],
      "metadata": {
        "id": "eIlOoqexoeU7"
      },
      "execution_count": null,
      "outputs": []
    },
    {
      "cell_type": "markdown",
      "source": [
        "#통계계산 과제4"
      ],
      "metadata": {
        "id": "nA_SjC9L_9Qn"
      }
    },
    {
      "cell_type": "code",
      "source": [
        "import random"
      ],
      "metadata": {
        "id": "tANIqdUxBTtS"
      },
      "execution_count": null,
      "outputs": []
    },
    {
      "cell_type": "code",
      "source": [
        "for i in range(1000):\n",
        "  a = random.uniform(0,1)\n",
        "  print(f'{a}')"
      ],
      "metadata": {
        "id": "IZynTEs6BWz4",
        "colab": {
          "base_uri": "https://localhost:8080/"
        },
        "outputId": "f4c36c07-7a91-4841-e6d7-c244238fb1bd"
      },
      "execution_count": null,
      "outputs": [
        {
          "output_type": "stream",
          "name": "stdout",
          "text": [
            "0.6949057811954245\n",
            "0.5720905822453509\n",
            "0.9284265699872184\n",
            "0.05816671225962333\n",
            "0.195482116704344\n",
            "0.725086614303844\n",
            "0.6043799391269906\n",
            "0.9660165583143682\n",
            "0.27675793237058266\n",
            "0.8697116117457713\n",
            "0.4702211111546456\n",
            "0.237858807339002\n",
            "0.5863205355557676\n",
            "0.7702555947406302\n",
            "0.640342832464332\n",
            "0.2587261209931673\n",
            "0.8454406186933707\n",
            "0.5067441588520262\n",
            "0.976730920397375\n",
            "0.37057746745530873\n",
            "0.3179122475518792\n",
            "0.015970402218843605\n",
            "0.39230895545891975\n",
            "0.908695329793985\n",
            "0.8872103580128533\n",
            "0.4646186730418329\n",
            "0.8531175603413796\n",
            "0.42151349165445917\n",
            "0.359905237048073\n",
            "0.2235272203333507\n",
            "0.6307866677739532\n",
            "0.8256669931593288\n",
            "0.8171583121822926\n",
            "0.019654258625463772\n",
            "0.9966966144572074\n",
            "0.8595219365803446\n",
            "0.05471074000531306\n",
            "0.9874294935723491\n",
            "0.9202705771590663\n",
            "0.27652866621660754\n",
            "0.05439009514287274\n",
            "0.2016020223853464\n",
            "0.6314559906053355\n",
            "0.8866973468415353\n",
            "0.5418920679544112\n",
            "0.12508816230390662\n",
            "0.7939133296058184\n",
            "0.7183594110522865\n",
            "0.05553646874673046\n",
            "0.9018105915788187\n",
            "0.8552465649329747\n",
            "0.09821070464362758\n",
            "0.35303952199685495\n",
            "0.3177338754579314\n",
            "0.9506121888088346\n",
            "0.6308678762554114\n",
            "0.5313710807523628\n",
            "0.8902332231903813\n",
            "0.6338561214344614\n",
            "0.49259491612713935\n",
            "0.1997444463647733\n",
            "0.5353306796600248\n",
            "0.0032698385740954627\n",
            "0.18185999584078005\n",
            "0.3477106412935135\n",
            "0.8955331739446605\n",
            "0.7495131586620355\n",
            "0.10661853611348815\n",
            "0.6394262207335243\n",
            "0.2924997500017684\n",
            "0.4245112035326186\n",
            "0.1728908552608468\n",
            "0.6529258910028611\n",
            "0.20736471341703455\n",
            "0.9938307541902546\n",
            "0.5537325893101832\n",
            "0.03970169281976865\n",
            "0.478390208634187\n",
            "0.7535141383763053\n",
            "0.845397631767158\n",
            "0.3342324877999212\n",
            "0.11044304115384806\n",
            "0.8273287900601586\n",
            "0.8740361445332355\n",
            "0.5558256696641983\n",
            "0.19386719817067632\n",
            "0.436759107353329\n",
            "0.0014977555984695412\n",
            "0.7986336608775743\n",
            "0.48293245656967654\n",
            "0.5913277565333157\n",
            "0.27463331234721045\n",
            "0.5594082581789692\n",
            "0.3082498296179358\n",
            "0.9041468447374819\n",
            "0.019511913919105672\n",
            "0.6933469194081623\n",
            "0.3556860774807331\n",
            "0.9098710526184671\n",
            "0.753507077122247\n",
            "0.43630812956680265\n",
            "0.4211021433797152\n",
            "0.6983181312816077\n",
            "0.1631127822044307\n",
            "0.9551037431239229\n",
            "0.9206372497062372\n",
            "0.7187257903297289\n",
            "0.8051747611765818\n",
            "0.8426409858294625\n",
            "0.252254329725217\n",
            "0.2992869050185395\n",
            "0.42848360641405725\n",
            "0.05733260619195546\n",
            "0.6578237527143191\n",
            "0.48501720639143053\n",
            "0.09155226602218458\n",
            "0.8162872901674914\n",
            "0.5499505760255637\n",
            "0.8872985111502341\n",
            "0.7077808414303635\n",
            "0.12323305710516597\n",
            "0.5771278126631558\n",
            "0.10410205734423883\n",
            "0.646991042454685\n",
            "0.6088419062305088\n",
            "0.9054520519623602\n",
            "0.779747015834383\n",
            "0.9921215508247972\n",
            "0.5521569646912834\n",
            "0.7110358710044955\n",
            "0.944923201199289\n",
            "0.5373317656957959\n",
            "0.1887006103596076\n",
            "0.9989072033731923\n",
            "0.35853661410105864\n",
            "0.8210079892957048\n",
            "0.3189556134061521\n",
            "0.7361189574695101\n",
            "0.25716763183453206\n",
            "0.06062673423044962\n",
            "0.5202921524194851\n",
            "0.585002337071503\n",
            "0.9389350803920651\n",
            "0.10994830850175485\n",
            "0.6466242913785277\n",
            "0.7303333402121625\n",
            "0.6157436366556928\n",
            "0.3729059670532484\n",
            "0.637056135206605\n",
            "0.6911935539689555\n",
            "0.7263119286654078\n",
            "0.9061796598307783\n",
            "0.3893523893073775\n",
            "0.8283750260130792\n",
            "0.8460446993663022\n",
            "0.96034048491538\n",
            "0.34893176404305104\n",
            "0.15016686616689712\n",
            "0.4609388053295628\n",
            "0.6988341142858007\n",
            "0.9698942426671111\n",
            "0.3034911755010232\n",
            "0.42217555631101067\n",
            "0.05059631172525647\n",
            "0.3304715069855828\n",
            "0.4963001569648563\n",
            "0.6224536296295047\n",
            "0.9150893224718828\n",
            "0.12883660590703638\n",
            "0.037462508535018424\n",
            "0.1709348920964615\n",
            "0.2913321244426148\n",
            "0.595193187988722\n",
            "0.37693698565135425\n",
            "0.6457394888687378\n",
            "0.33744274250318995\n",
            "0.6397872806257634\n",
            "0.32937093273716\n",
            "0.024669027332773763\n",
            "0.6563785095868202\n",
            "0.8280611259597747\n",
            "0.48418745931080776\n",
            "0.9434264496294258\n",
            "0.7692537315020694\n",
            "0.8306762053751423\n",
            "0.5001564889374148\n",
            "0.9775798095208632\n",
            "0.3041797079529761\n",
            "0.8765728847344042\n",
            "0.052405718000172796\n",
            "0.19472236818196986\n",
            "0.35720093858405355\n",
            "0.008618812850530233\n",
            "0.0999302821690583\n",
            "0.25575265838989936\n",
            "0.19272090103216988\n",
            "0.9050356581354436\n",
            "0.7579191774289356\n",
            "0.6636418899027994\n",
            "0.48331544436123797\n",
            "0.30046533000605113\n",
            "0.0022203518985287607\n",
            "0.38404699282321275\n",
            "0.2703898010786665\n",
            "0.7525009022736152\n",
            "0.6262647078605503\n",
            "0.9427200070802154\n",
            "0.17578730103486873\n",
            "0.5030379222611924\n",
            "0.36657075554355845\n",
            "0.8507235032117711\n",
            "0.7192976358969205\n",
            "0.27880914217123653\n",
            "0.22303649479389798\n",
            "0.5439895690122497\n",
            "0.4455387647931024\n",
            "0.2613806215025617\n",
            "0.18268092033465677\n",
            "0.6931132960337895\n",
            "0.7896145818146655\n",
            "0.7979350786640089\n",
            "0.6510187329800798\n",
            "0.5222952962733777\n",
            "0.2794691636273947\n",
            "0.7066171858855703\n",
            "0.41345608819156887\n",
            "0.2921787460567167\n",
            "0.14552928956409972\n",
            "0.1766651408572344\n",
            "0.6500721395997795\n",
            "0.17742731412397494\n",
            "0.8339985531634502\n",
            "0.02380177067472966\n",
            "0.376920808586402\n",
            "0.048682959477686416\n",
            "0.9719842377143791\n",
            "0.7338946551854119\n",
            "0.9868944546072576\n",
            "0.03929435256836111\n",
            "0.5777766123235644\n",
            "0.4084913437361999\n",
            "0.9877994117979968\n",
            "0.0782834948948451\n",
            "0.4078369385451496\n",
            "0.6186391490569686\n",
            "0.08400439623116285\n",
            "0.7522301244732272\n",
            "0.6705025608851188\n",
            "0.8010984801971318\n",
            "0.9195046125203331\n",
            "0.17141214711472552\n",
            "0.6928370143148405\n",
            "0.8594040536208886\n",
            "0.3887360974829619\n",
            "0.38963037413206447\n",
            "0.7534407649250403\n",
            "0.2718271255508423\n",
            "0.6062442233427218\n",
            "0.5558497888342953\n",
            "0.490088038688431\n",
            "0.3285230303840816\n",
            "0.9122090701043744\n",
            "0.5838673721607237\n",
            "0.5534039388894014\n",
            "0.6432668971983029\n",
            "0.7887114350554214\n",
            "0.8365946330744487\n",
            "0.6205011094019818\n",
            "0.924014360401064\n",
            "0.8649099346967069\n",
            "0.1828231002718378\n",
            "0.9126943678765795\n",
            "0.11623097379750846\n",
            "0.3669997665153786\n",
            "0.7261793514395529\n",
            "0.3653337274726782\n",
            "0.2760033201520863\n",
            "0.19990503458180842\n",
            "0.5411925851226548\n",
            "0.3295119000441403\n",
            "0.7674164590207683\n",
            "0.13595027874221077\n",
            "0.913503056190344\n",
            "0.6547443095941441\n",
            "0.5943112398648395\n",
            "0.24536444925260303\n",
            "0.9748589506007007\n",
            "0.915778846624051\n",
            "0.30133638845948996\n",
            "0.5171161970153345\n",
            "0.9717813598423101\n",
            "0.6542637431770739\n",
            "0.23839923214698433\n",
            "0.9534365571814796\n",
            "0.6874671736344393\n",
            "0.4628362170486391\n",
            "0.447537901148678\n",
            "0.6327977979232825\n",
            "0.6117144286823295\n",
            "0.2030722902668637\n",
            "0.5844899473914622\n",
            "0.4762724160481636\n",
            "0.41004774163462154\n",
            "0.7664506790814822\n",
            "0.3264267936845474\n",
            "0.7394764360091323\n",
            "0.3692485234341999\n",
            "0.11057987951000003\n",
            "0.5607474979900325\n",
            "0.7079211532862704\n",
            "0.7446696298932912\n",
            "0.02692566975324928\n",
            "0.2766682157695899\n",
            "0.29934030095114716\n",
            "0.2132158759723517\n",
            "0.11394453879861666\n",
            "0.8648119296513821\n",
            "0.9403524883344607\n",
            "0.36077201641344425\n",
            "0.9278310276665483\n",
            "0.2026833550646655\n",
            "0.04489517446921121\n",
            "0.9047535959716777\n",
            "0.6847386557114951\n",
            "0.3229493467285728\n",
            "0.7826814514213726\n",
            "0.1651675844135322\n",
            "0.24652491949198174\n",
            "0.09608043407920075\n",
            "0.09940765375040161\n",
            "0.9496721929907078\n",
            "0.8741483332966559\n",
            "0.7875161452444484\n",
            "0.5904663492104014\n",
            "0.6648313473810359\n",
            "0.4389525534639387\n",
            "0.8079393119884569\n",
            "0.6371284333052499\n",
            "0.5171760666971229\n",
            "0.6887538672615726\n",
            "0.07138561097236373\n",
            "0.03801588822083757\n",
            "0.7010067272165234\n",
            "0.8510002950447596\n",
            "0.1762359808409636\n",
            "0.5983608197294304\n",
            "0.6592377540097364\n",
            "0.27246971431653055\n",
            "0.18306646839620477\n",
            "0.13491710091919773\n",
            "0.157496680646954\n",
            "0.9803223087729006\n",
            "0.7059780903346354\n",
            "0.8557973040916573\n",
            "0.7952225962909333\n",
            "0.9596798242463294\n",
            "0.6331431601660646\n",
            "0.3454869585063439\n",
            "0.9368720059720147\n",
            "0.3788452880410078\n",
            "0.3806952392907954\n",
            "0.8485614096868503\n",
            "0.1300616133061856\n",
            "0.24316340036604522\n",
            "0.43562325629342913\n",
            "0.8881778646564842\n",
            "0.4269887254571063\n",
            "0.9303157171980964\n",
            "0.718704016738668\n",
            "0.29416740575854416\n",
            "0.22102837971541323\n",
            "0.38364823451676566\n",
            "0.4365363424207147\n",
            "0.6053077054168555\n",
            "0.9323785502534934\n",
            "0.22351924429638992\n",
            "0.9008280927436219\n",
            "0.2502551089754206\n",
            "0.6646432346375036\n",
            "0.010725821852568651\n",
            "0.1728622203230793\n",
            "0.681631713435905\n",
            "0.4652580236626107\n",
            "0.6546911361952252\n",
            "0.5212083709039654\n",
            "0.16743433361083981\n",
            "0.7232518412509731\n",
            "0.8373458352515699\n",
            "0.5719287567561909\n",
            "0.7197790313384345\n",
            "0.7709699380218296\n",
            "0.5870704226904107\n",
            "0.049430330528078215\n",
            "0.8882976958250224\n",
            "0.4815709078139784\n",
            "0.0630748581654681\n",
            "0.9289875209406493\n",
            "0.09214625430028989\n",
            "0.6069861847248667\n",
            "0.1342722278911841\n",
            "0.09690980681747896\n",
            "0.16710678038339266\n",
            "0.510958834709886\n",
            "0.8007932997682908\n",
            "0.3638274257990116\n",
            "0.1480668860001677\n",
            "0.6120443249788149\n",
            "0.7229022883800392\n",
            "0.2779927425801021\n",
            "0.7962433299889207\n",
            "0.6378665610546659\n",
            "0.18417290389818197\n",
            "0.34113081985839744\n",
            "0.7250351968850162\n",
            "0.5765448857627203\n",
            "0.7518837771695224\n",
            "0.3554860183660361\n",
            "0.13475565766979547\n",
            "0.30621820406443234\n",
            "0.6841224834935957\n",
            "0.3718700288804635\n",
            "0.7726095517299569\n",
            "0.18379584749724476\n",
            "0.19871766623545983\n",
            "0.9878448555351004\n",
            "0.5157575378141372\n",
            "0.9639693594658366\n",
            "0.6726509186539144\n",
            "0.44565587558516273\n",
            "0.47481483199393637\n",
            "0.5048134940364853\n",
            "0.8917389852536809\n",
            "0.4650893026770626\n",
            "0.2817957838403604\n",
            "0.13347218540658534\n",
            "0.5158964948216639\n",
            "0.28592276311401466\n",
            "0.8869619424700095\n",
            "0.9050183573618983\n",
            "0.777614418483054\n",
            "0.022828743173717858\n",
            "0.28143913105344764\n",
            "0.6998667867917668\n",
            "0.5231475619269655\n",
            "0.7826304737202323\n",
            "0.8179062312368572\n",
            "0.9106311643112227\n",
            "0.43938984045626406\n",
            "0.7129805006340638\n",
            "0.3437002403073963\n",
            "0.25936698863546115\n",
            "0.16494291230498914\n",
            "0.19757786070636774\n",
            "0.9943734564979613\n",
            "0.21028150470773876\n",
            "0.6968420529504399\n",
            "0.9084428810474151\n",
            "0.544768163312634\n",
            "0.8771359675807152\n",
            "0.14830659028338333\n",
            "0.14809722871759257\n",
            "0.13236476563307487\n",
            "0.9914363442421089\n",
            "0.21528691310326076\n",
            "0.33437698730425747\n",
            "0.7294615573349812\n",
            "0.8883665498794668\n",
            "0.7918089968128563\n",
            "0.19223917598151397\n",
            "0.3546954381243431\n",
            "0.21822112784551473\n",
            "0.6705601416209421\n",
            "0.8300556220516705\n",
            "0.2729691269357174\n",
            "0.2344298538208418\n",
            "0.8284898454895236\n",
            "0.14147589070507038\n",
            "0.5518726865307372\n",
            "0.17942785343810919\n",
            "0.09511649060356853\n",
            "0.29823115294861435\n",
            "0.3862354139275115\n",
            "0.9044020961218389\n",
            "0.955696865745502\n",
            "0.015544474000747988\n",
            "0.30391792694910624\n",
            "0.41281669674160715\n",
            "0.4399764532835586\n",
            "0.24644120798261693\n",
            "0.5368440748224089\n",
            "0.5989303999609398\n",
            "0.7205909965364192\n",
            "0.38758731776483857\n",
            "0.5492192647222682\n",
            "0.4955888122618456\n",
            "0.9878066052408558\n",
            "0.5499550937245684\n",
            "0.7734151981557315\n",
            "0.8583062370378264\n",
            "0.539721248728091\n",
            "0.6783866916494116\n",
            "0.039588973830831486\n",
            "0.6865345869050452\n",
            "0.22972683382800485\n",
            "0.5504420003536487\n",
            "0.8778483530306156\n",
            "0.3491113861841314\n",
            "0.9278143809289433\n",
            "0.9355786328091357\n",
            "0.9552239747981216\n",
            "0.28422977752509804\n",
            "0.9717872211160488\n",
            "0.7501733957972248\n",
            "0.9886342798399778\n",
            "0.3059113841245322\n",
            "0.6837063212487988\n",
            "0.9347587835611039\n",
            "0.4470620856407487\n",
            "0.48696563807782445\n",
            "0.7728189321988068\n",
            "0.31538426114670404\n",
            "0.7553379348098075\n",
            "0.6290479490357845\n",
            "0.883707698067147\n",
            "0.5329554251471587\n",
            "0.6065655116718945\n",
            "0.3096300849377548\n",
            "0.6735286265882028\n",
            "0.23218608227472304\n",
            "0.3183227400034637\n",
            "0.3357833111896982\n",
            "0.387993222797282\n",
            "0.5172112084093192\n",
            "0.2201810018355428\n",
            "0.6209696054445997\n",
            "0.2830776928418207\n",
            "0.7993498255059404\n",
            "0.8047290580590083\n",
            "0.5101878288520914\n",
            "0.0837562889184541\n",
            "0.8912833293223708\n",
            "0.8673627658669285\n",
            "0.6540007467355308\n",
            "0.7225963681985041\n",
            "0.7163664709201623\n",
            "0.9417584504645149\n",
            "0.5503979551087336\n",
            "0.28785893062330803\n",
            "0.5925961380649547\n",
            "0.6883291148898107\n",
            "0.711544513776981\n",
            "0.1048194617299677\n",
            "0.4860771085048088\n",
            "0.7848319944905394\n",
            "0.0015655839229758994\n",
            "0.593777550663225\n",
            "0.11731427940041439\n",
            "0.7265101784895747\n",
            "0.6721571190084268\n",
            "0.7284463737874773\n",
            "0.9820154578860719\n",
            "0.8699126519873107\n",
            "0.35535210773848613\n",
            "0.9825303409838607\n",
            "0.770720475187229\n",
            "0.8245197017942278\n",
            "0.2662288850085367\n",
            "0.07238772389402126\n",
            "0.19768078840292402\n",
            "0.1189931635282605\n",
            "0.7698258854633827\n",
            "0.3781376773737407\n",
            "0.07575369618176908\n",
            "0.6034803917827135\n",
            "0.508618848718544\n",
            "0.7378995904328528\n",
            "0.06221227813849073\n",
            "0.09357362142331649\n",
            "0.8784739247986074\n",
            "0.4855126731002416\n",
            "0.38104615007681697\n",
            "0.6837408595265055\n",
            "0.5612068133482719\n",
            "0.14103459993175915\n",
            "0.8675073405156156\n",
            "0.3887923864114494\n",
            "0.6189887122208687\n",
            "0.41842792582596267\n",
            "0.23266997156199976\n",
            "0.27897370491017204\n",
            "0.4574340080874596\n",
            "0.807329568261549\n",
            "0.6471679687815621\n",
            "0.04122293195970739\n",
            "0.06225819699129287\n",
            "0.5016584523181846\n",
            "0.6759095261856192\n",
            "0.3685584705721081\n",
            "0.556384765534944\n",
            "0.06356722458469155\n",
            "0.20607171218498732\n",
            "0.5495483142637966\n",
            "0.3264031701403539\n",
            "0.8116978421734912\n",
            "0.8942101331172467\n",
            "0.8852906389737636\n",
            "0.26861109084137047\n",
            "0.431868258841969\n",
            "0.9633753685054494\n",
            "0.6315929153599066\n",
            "0.30128645421784894\n",
            "0.537781555034715\n",
            "0.7985332762177737\n",
            "0.6926868326123559\n",
            "0.9314474637958364\n",
            "0.10108469213890492\n",
            "0.24130216994952403\n",
            "0.05899262749981127\n",
            "0.808681626407256\n",
            "0.6905154147127416\n",
            "0.10381958061244734\n",
            "0.5939503358264058\n",
            "0.27384986973254677\n",
            "0.7208162625148431\n",
            "0.931269007540351\n",
            "0.5404073011307788\n",
            "0.9417575637140767\n",
            "0.6250304380609414\n",
            "0.13100124408413483\n",
            "0.13549394763733402\n",
            "0.5422886721673117\n",
            "0.8511180068790553\n",
            "0.7219893235681594\n",
            "0.8539831463363606\n",
            "0.6618044098886413\n",
            "0.9048381945752778\n",
            "0.07881470360077025\n",
            "0.8062220867836687\n",
            "0.8678661794629012\n",
            "0.022368640011850016\n",
            "0.36904883830269564\n",
            "0.9011180407264621\n",
            "0.706321545038968\n",
            "0.5916044006953952\n",
            "0.8260918717583979\n",
            "0.20904601392514732\n",
            "0.4910706253900998\n",
            "0.7857812132711843\n",
            "0.6385798170930339\n",
            "0.957922411522936\n",
            "0.43853315310813723\n",
            "0.9686898261996945\n",
            "0.4496438195063357\n",
            "0.21085010582999109\n",
            "0.25017552695767575\n",
            "0.5978264429890556\n",
            "0.19237886301109852\n",
            "0.09004051849853312\n",
            "0.11326297944554409\n",
            "0.002840749289328426\n",
            "0.9743939505612684\n",
            "0.15836079881593246\n",
            "0.8188461905007208\n",
            "0.6589998416353869\n",
            "0.01061732045499697\n",
            "0.09979915003021778\n",
            "0.6821022510173921\n",
            "0.47575475504845466\n",
            "0.2691314860805246\n",
            "0.8316308640695821\n",
            "0.2592282646947831\n",
            "0.3171191104331419\n",
            "0.8758292905896571\n",
            "0.5910342188440136\n",
            "0.9510524593580157\n",
            "0.9411485215972561\n",
            "0.8298394477558838\n",
            "0.8668246420102237\n",
            "0.18529521020604722\n",
            "0.6686390578389161\n",
            "0.02704229034539174\n",
            "0.9610813865274787\n",
            "0.8042848816954381\n",
            "0.5399268556973688\n",
            "0.09337744879505938\n",
            "0.925287697254375\n",
            "0.15452451180760973\n",
            "0.06452999693890882\n",
            "0.7718653319497394\n",
            "0.5488105834393364\n",
            "0.5698001624373867\n",
            "0.3583131873473704\n",
            "0.03204149446042104\n",
            "0.3426313966469986\n",
            "0.762593251089491\n",
            "0.08611353087782092\n",
            "0.7754910836326601\n",
            "0.2638763714146898\n",
            "0.41809040076486936\n",
            "0.967654516537437\n",
            "0.16854045933387174\n",
            "0.7497049246212205\n",
            "0.20259816750763116\n",
            "0.7339582843227664\n",
            "0.3047033429888354\n",
            "0.3791933954552723\n",
            "0.9409461738119119\n",
            "0.7289192028286436\n",
            "0.9762445270198538\n",
            "0.6037553458829779\n",
            "0.9862979369173448\n",
            "0.5062076203889156\n",
            "0.06649839249562062\n",
            "0.5896559069003836\n",
            "0.41495997001118035\n",
            "0.09098084144206908\n",
            "0.6391309363129779\n",
            "0.7532481968806083\n",
            "0.3760132791366061\n",
            "0.6905633746444498\n",
            "0.9241774843664328\n",
            "0.7847228315306592\n",
            "0.07699495550406177\n",
            "0.7081667870512754\n",
            "0.9674499894192607\n",
            "0.6564070113839126\n",
            "0.2135221732901924\n",
            "0.5083843853711474\n",
            "0.47683564594844985\n",
            "0.4866413003982759\n",
            "0.45698230679376195\n",
            "0.8152330577354933\n",
            "0.9763151330922388\n",
            "0.8902533233951083\n",
            "0.9164000960101006\n",
            "0.26306528561306464\n",
            "0.5101862692558953\n",
            "0.7637129571675866\n",
            "0.34440998621225305\n",
            "0.188105905294914\n",
            "0.6048517921777082\n",
            "0.8618767361845877\n",
            "0.8316558535206952\n",
            "0.9702541732772664\n",
            "0.9820707105657058\n",
            "0.06915332733596558\n",
            "0.2869845273918453\n",
            "0.22905013921282502\n",
            "0.14123205371692216\n",
            "0.06189473939671741\n",
            "0.8962113766534211\n",
            "0.7373814974396198\n",
            "0.2087104105051527\n",
            "0.7789054512857158\n",
            "0.8910167554718379\n",
            "0.8483205066957515\n",
            "0.4745997323244744\n",
            "0.54884504849529\n",
            "0.5633204913928292\n",
            "0.8306880628972627\n",
            "0.5051559665042141\n",
            "0.9649373783822391\n",
            "0.8765671803008309\n",
            "0.8425569893926624\n",
            "0.6202627974364452\n",
            "0.7760999103554475\n",
            "0.7277542380567443\n",
            "0.4746186657202258\n",
            "0.3500943342486038\n",
            "0.03000202845327482\n",
            "0.8170392555861388\n",
            "0.17004660810004169\n",
            "0.27123239797864296\n",
            "0.7051704196866889\n",
            "0.44127767655672423\n",
            "0.07228056920624959\n",
            "0.13062156151715287\n",
            "0.3553046564352941\n",
            "0.6257347936534958\n",
            "0.17242007495795053\n",
            "0.06655566931669499\n",
            "0.365742646212171\n",
            "0.47598768611977516\n",
            "0.3366504711046808\n",
            "0.21192740913162011\n",
            "0.45984232300086303\n",
            "0.338485162200295\n",
            "0.1468012658118819\n",
            "0.25513459234061875\n",
            "0.5109363507296822\n",
            "0.5565694160837051\n",
            "0.06537748803824617\n",
            "0.9185852637754068\n",
            "0.012073686045065535\n",
            "0.6963579490802125\n",
            "0.8842456838533711\n",
            "0.048948883959948786\n",
            "0.015193103617373582\n",
            "0.7849234118324219\n",
            "0.4995779152234857\n",
            "0.6925596307510256\n",
            "0.9056492767308812\n",
            "0.0507558055326629\n",
            "0.22427084010507492\n",
            "0.038945265014691643\n",
            "0.24177992242004798\n",
            "0.1883110727522429\n",
            "0.31370407144655554\n",
            "0.022927906420596722\n",
            "0.012267365980034972\n",
            "0.6030939364581748\n",
            "0.6385517292426328\n",
            "0.09556050620570422\n",
            "0.22122847619403563\n",
            "0.5068796692247446\n",
            "0.7741374173711985\n",
            "0.7072369165425084\n",
            "0.8436175134541123\n",
            "0.7023772860805839\n",
            "0.602269648172905\n",
            "0.8712088971256082\n",
            "0.4641632767409518\n",
            "0.5469903779157776\n",
            "0.5843605633404964\n",
            "0.09233075239662536\n",
            "0.44352300868445005\n",
            "0.9614848958730452\n",
            "0.8593728835608874\n",
            "0.3685863148984395\n",
            "0.8284889580984511\n",
            "0.9072172980799119\n",
            "0.14560759592058425\n",
            "0.5148172946981403\n",
            "0.7119500228220723\n",
            "0.30458518718890215\n",
            "0.22031393957659595\n",
            "0.08601481811701306\n",
            "0.9067433400761554\n",
            "0.6969971544222564\n",
            "0.2834242294861812\n",
            "0.5664961158973918\n",
            "0.7088038443701045\n",
            "0.4875068273890345\n",
            "0.9007458233578083\n",
            "0.2175627913948991\n",
            "0.6400651441744074\n",
            "0.8804033320357325\n",
            "0.1459897068252246\n",
            "0.7765147813413952\n",
            "0.9041773323710777\n",
            "0.5316313181464061\n",
            "0.4664175088051604\n",
            "0.10896861324787366\n",
            "0.8243211687881771\n",
            "0.5309307665911017\n",
            "0.6314209001029337\n",
            "0.9879028174505948\n",
            "0.755595584951917\n",
            "0.8099744668852745\n",
            "0.5087504072531394\n",
            "0.4549576232594521\n",
            "0.7438703508359588\n",
            "0.013847470479371737\n",
            "0.29400762546837544\n",
            "0.509851176697896\n",
            "0.24920293404211014\n",
            "0.3205257789814505\n",
            "0.03077572891192437\n",
            "0.2721635221599641\n",
            "0.6390952599797008\n",
            "0.2474835234681222\n",
            "0.11287694354916378\n",
            "0.6641016792980038\n",
            "0.8716476847211676\n",
            "0.3946943517091537\n",
            "0.48207438316200246\n",
            "0.6225277370363863\n",
            "0.3319679617077028\n",
            "0.5076878177721611\n",
            "0.49365690290859643\n",
            "0.3037375284725413\n",
            "0.5826451224378996\n",
            "0.8064724879407924\n",
            "0.7054186022674103\n",
            "0.5197976214482293\n",
            "0.08995887285698279\n",
            "0.6340814357016507\n",
            "0.9094047437566062\n",
            "0.9662482426135076\n",
            "0.567676308408011\n",
            "0.13971492603909774\n",
            "0.18340395094419215\n",
            "0.6812497266205523\n",
            "0.547936371871022\n",
            "0.5211544634769371\n",
            "0.6840650499228403\n",
            "0.5964605275152092\n",
            "0.8515171965869751\n",
            "0.3729526469439156\n",
            "0.913159779791286\n",
            "0.8541741950373416\n",
            "0.9366422010451307\n",
            "0.19337871107127813\n",
            "0.15516532422767348\n",
            "0.37349172286357324\n",
            "0.18490618710161666\n",
            "0.6248694465561793\n",
            "0.9555774581051293\n",
            "0.9781451849087428\n",
            "0.06708826851737415\n",
            "0.29399527683231796\n",
            "0.5742706363272573\n",
            "0.6067091190229488\n",
            "0.450451767136109\n",
            "0.7473047393959157\n",
            "0.7686056925554463\n",
            "0.8392143453242156\n",
            "0.2745886679306304\n",
            "0.7422410248748259\n",
            "0.12113863379826517\n",
            "0.9595190182701476\n",
            "0.715657068131932\n",
            "0.7466666954540607\n",
            "0.3883932094377287\n",
            "0.7700194560267022\n",
            "0.9885592145801382\n",
            "0.905524131561524\n",
            "0.10999731404986612\n",
            "0.4562128450056089\n",
            "0.4612143355138749\n",
            "0.7766575710526962\n",
            "0.9057153723169488\n",
            "0.8529621049146338\n",
            "0.0329137797936816\n",
            "0.2991318663990542\n",
            "0.015875383978174784\n",
            "0.31575371565903787\n",
            "0.035178835931934826\n",
            "0.3246838349103217\n",
            "0.6786866450052574\n",
            "0.23180005172384455\n",
            "0.4241099597206678\n",
            "0.057858728570235995\n",
            "0.4984075716416133\n",
            "0.49579882867447245\n",
            "0.9563173879246877\n",
            "0.5789497315213319\n",
            "0.27848760036216735\n",
            "0.13649045827438433\n",
            "0.15300656612710217\n",
            "0.49026541359179476\n",
            "0.2865729752536277\n",
            "0.45094077891893136\n",
            "0.3245100735923043\n",
            "0.49893273511534353\n",
            "0.16431127509984045\n",
            "0.6447340498295059\n",
            "0.26717837570157155\n",
            "0.7489480675346467\n",
            "0.5886624613451203\n",
            "0.018861938363064823\n",
            "0.30609092630149903\n",
            "0.7430124230509746\n",
            "0.8555723061446604\n",
            "0.3558052014018611\n",
            "0.6397765845370409\n",
            "0.5166871586344055\n",
            "0.6148636403158256\n",
            "0.4492166706899886\n",
            "0.697629725637596\n",
            "0.9806237150632011\n",
            "0.5570739713132091\n",
            "0.3790348251479778\n",
            "0.22951014473831333\n",
            "0.38479799785372226\n",
            "0.15824036744833647\n",
            "0.48805911971889415\n",
            "0.7973548927847123\n",
            "0.4513209169345217\n",
            "0.10157361042456625\n",
            "0.7479013217982293\n",
            "0.2991407073917607\n",
            "0.4420385617923577\n",
            "0.3196607198950353\n",
            "0.3506686973365978\n",
            "0.26128075297066533\n",
            "0.3986990934513258\n",
            "0.23806014961195254\n",
            "0.002714936697348125\n",
            "0.2656147039975969\n",
            "0.3383822641797317\n",
            "0.5541302717875017\n",
            "0.6466311671123647\n",
            "0.43064316923388135\n",
            "0.5841881769227658\n",
            "0.6076399784135605\n",
            "0.4630759451452211\n",
            "0.732539231635105\n",
            "0.6422978497499354\n",
            "0.0927214292071612\n"
          ]
        }
      ]
    },
    {
      "cell_type": "code",
      "source": [
        "x={}\n",
        "for i in range(1000):\n",
        "    x[0]=0\n",
        "    x[i+1]=(69069*x[i]+1)%(2**32)/(2**32)\n",
        "print(x)"
      ],
      "metadata": {
        "colab": {
          "base_uri": "https://localhost:8080/"
        },
        "id": "fuyVaeww6rH5",
        "outputId": "1389400c-fd39-4d58-e940-25e68c1ce5ea"
      },
      "execution_count": null,
      "outputs": [
        {
          "output_type": "stream",
          "name": "stdout",
          "text": [
            "{0: 0, 1: 2.3283064365386963e-10, 2: 2.328343878918622e-10, 3: 2.328343879520747e-10, 4: 2.328343879520757e-10, 5: 2.328343879520757e-10, 6: 2.328343879520757e-10, 7: 2.328343879520757e-10, 8: 2.328343879520757e-10, 9: 2.328343879520757e-10, 10: 2.328343879520757e-10, 11: 2.328343879520757e-10, 12: 2.328343879520757e-10, 13: 2.328343879520757e-10, 14: 2.328343879520757e-10, 15: 2.328343879520757e-10, 16: 2.328343879520757e-10, 17: 2.328343879520757e-10, 18: 2.328343879520757e-10, 19: 2.328343879520757e-10, 20: 2.328343879520757e-10, 21: 2.328343879520757e-10, 22: 2.328343879520757e-10, 23: 2.328343879520757e-10, 24: 2.328343879520757e-10, 25: 2.328343879520757e-10, 26: 2.328343879520757e-10, 27: 2.328343879520757e-10, 28: 2.328343879520757e-10, 29: 2.328343879520757e-10, 30: 2.328343879520757e-10, 31: 2.328343879520757e-10, 32: 2.328343879520757e-10, 33: 2.328343879520757e-10, 34: 2.328343879520757e-10, 35: 2.328343879520757e-10, 36: 2.328343879520757e-10, 37: 2.328343879520757e-10, 38: 2.328343879520757e-10, 39: 2.328343879520757e-10, 40: 2.328343879520757e-10, 41: 2.328343879520757e-10, 42: 2.328343879520757e-10, 43: 2.328343879520757e-10, 44: 2.328343879520757e-10, 45: 2.328343879520757e-10, 46: 2.328343879520757e-10, 47: 2.328343879520757e-10, 48: 2.328343879520757e-10, 49: 2.328343879520757e-10, 50: 2.328343879520757e-10, 51: 2.328343879520757e-10, 52: 2.328343879520757e-10, 53: 2.328343879520757e-10, 54: 2.328343879520757e-10, 55: 2.328343879520757e-10, 56: 2.328343879520757e-10, 57: 2.328343879520757e-10, 58: 2.328343879520757e-10, 59: 2.328343879520757e-10, 60: 2.328343879520757e-10, 61: 2.328343879520757e-10, 62: 2.328343879520757e-10, 63: 2.328343879520757e-10, 64: 2.328343879520757e-10, 65: 2.328343879520757e-10, 66: 2.328343879520757e-10, 67: 2.328343879520757e-10, 68: 2.328343879520757e-10, 69: 2.328343879520757e-10, 70: 2.328343879520757e-10, 71: 2.328343879520757e-10, 72: 2.328343879520757e-10, 73: 2.328343879520757e-10, 74: 2.328343879520757e-10, 75: 2.328343879520757e-10, 76: 2.328343879520757e-10, 77: 2.328343879520757e-10, 78: 2.328343879520757e-10, 79: 2.328343879520757e-10, 80: 2.328343879520757e-10, 81: 2.328343879520757e-10, 82: 2.328343879520757e-10, 83: 2.328343879520757e-10, 84: 2.328343879520757e-10, 85: 2.328343879520757e-10, 86: 2.328343879520757e-10, 87: 2.328343879520757e-10, 88: 2.328343879520757e-10, 89: 2.328343879520757e-10, 90: 2.328343879520757e-10, 91: 2.328343879520757e-10, 92: 2.328343879520757e-10, 93: 2.328343879520757e-10, 94: 2.328343879520757e-10, 95: 2.328343879520757e-10, 96: 2.328343879520757e-10, 97: 2.328343879520757e-10, 98: 2.328343879520757e-10, 99: 2.328343879520757e-10, 100: 2.328343879520757e-10, 101: 2.328343879520757e-10, 102: 2.328343879520757e-10, 103: 2.328343879520757e-10, 104: 2.328343879520757e-10, 105: 2.328343879520757e-10, 106: 2.328343879520757e-10, 107: 2.328343879520757e-10, 108: 2.328343879520757e-10, 109: 2.328343879520757e-10, 110: 2.328343879520757e-10, 111: 2.328343879520757e-10, 112: 2.328343879520757e-10, 113: 2.328343879520757e-10, 114: 2.328343879520757e-10, 115: 2.328343879520757e-10, 116: 2.328343879520757e-10, 117: 2.328343879520757e-10, 118: 2.328343879520757e-10, 119: 2.328343879520757e-10, 120: 2.328343879520757e-10, 121: 2.328343879520757e-10, 122: 2.328343879520757e-10, 123: 2.328343879520757e-10, 124: 2.328343879520757e-10, 125: 2.328343879520757e-10, 126: 2.328343879520757e-10, 127: 2.328343879520757e-10, 128: 2.328343879520757e-10, 129: 2.328343879520757e-10, 130: 2.328343879520757e-10, 131: 2.328343879520757e-10, 132: 2.328343879520757e-10, 133: 2.328343879520757e-10, 134: 2.328343879520757e-10, 135: 2.328343879520757e-10, 136: 2.328343879520757e-10, 137: 2.328343879520757e-10, 138: 2.328343879520757e-10, 139: 2.328343879520757e-10, 140: 2.328343879520757e-10, 141: 2.328343879520757e-10, 142: 2.328343879520757e-10, 143: 2.328343879520757e-10, 144: 2.328343879520757e-10, 145: 2.328343879520757e-10, 146: 2.328343879520757e-10, 147: 2.328343879520757e-10, 148: 2.328343879520757e-10, 149: 2.328343879520757e-10, 150: 2.328343879520757e-10, 151: 2.328343879520757e-10, 152: 2.328343879520757e-10, 153: 2.328343879520757e-10, 154: 2.328343879520757e-10, 155: 2.328343879520757e-10, 156: 2.328343879520757e-10, 157: 2.328343879520757e-10, 158: 2.328343879520757e-10, 159: 2.328343879520757e-10, 160: 2.328343879520757e-10, 161: 2.328343879520757e-10, 162: 2.328343879520757e-10, 163: 2.328343879520757e-10, 164: 2.328343879520757e-10, 165: 2.328343879520757e-10, 166: 2.328343879520757e-10, 167: 2.328343879520757e-10, 168: 2.328343879520757e-10, 169: 2.328343879520757e-10, 170: 2.328343879520757e-10, 171: 2.328343879520757e-10, 172: 2.328343879520757e-10, 173: 2.328343879520757e-10, 174: 2.328343879520757e-10, 175: 2.328343879520757e-10, 176: 2.328343879520757e-10, 177: 2.328343879520757e-10, 178: 2.328343879520757e-10, 179: 2.328343879520757e-10, 180: 2.328343879520757e-10, 181: 2.328343879520757e-10, 182: 2.328343879520757e-10, 183: 2.328343879520757e-10, 184: 2.328343879520757e-10, 185: 2.328343879520757e-10, 186: 2.328343879520757e-10, 187: 2.328343879520757e-10, 188: 2.328343879520757e-10, 189: 2.328343879520757e-10, 190: 2.328343879520757e-10, 191: 2.328343879520757e-10, 192: 2.328343879520757e-10, 193: 2.328343879520757e-10, 194: 2.328343879520757e-10, 195: 2.328343879520757e-10, 196: 2.328343879520757e-10, 197: 2.328343879520757e-10, 198: 2.328343879520757e-10, 199: 2.328343879520757e-10, 200: 2.328343879520757e-10, 201: 2.328343879520757e-10, 202: 2.328343879520757e-10, 203: 2.328343879520757e-10, 204: 2.328343879520757e-10, 205: 2.328343879520757e-10, 206: 2.328343879520757e-10, 207: 2.328343879520757e-10, 208: 2.328343879520757e-10, 209: 2.328343879520757e-10, 210: 2.328343879520757e-10, 211: 2.328343879520757e-10, 212: 2.328343879520757e-10, 213: 2.328343879520757e-10, 214: 2.328343879520757e-10, 215: 2.328343879520757e-10, 216: 2.328343879520757e-10, 217: 2.328343879520757e-10, 218: 2.328343879520757e-10, 219: 2.328343879520757e-10, 220: 2.328343879520757e-10, 221: 2.328343879520757e-10, 222: 2.328343879520757e-10, 223: 2.328343879520757e-10, 224: 2.328343879520757e-10, 225: 2.328343879520757e-10, 226: 2.328343879520757e-10, 227: 2.328343879520757e-10, 228: 2.328343879520757e-10, 229: 2.328343879520757e-10, 230: 2.328343879520757e-10, 231: 2.328343879520757e-10, 232: 2.328343879520757e-10, 233: 2.328343879520757e-10, 234: 2.328343879520757e-10, 235: 2.328343879520757e-10, 236: 2.328343879520757e-10, 237: 2.328343879520757e-10, 238: 2.328343879520757e-10, 239: 2.328343879520757e-10, 240: 2.328343879520757e-10, 241: 2.328343879520757e-10, 242: 2.328343879520757e-10, 243: 2.328343879520757e-10, 244: 2.328343879520757e-10, 245: 2.328343879520757e-10, 246: 2.328343879520757e-10, 247: 2.328343879520757e-10, 248: 2.328343879520757e-10, 249: 2.328343879520757e-10, 250: 2.328343879520757e-10, 251: 2.328343879520757e-10, 252: 2.328343879520757e-10, 253: 2.328343879520757e-10, 254: 2.328343879520757e-10, 255: 2.328343879520757e-10, 256: 2.328343879520757e-10, 257: 2.328343879520757e-10, 258: 2.328343879520757e-10, 259: 2.328343879520757e-10, 260: 2.328343879520757e-10, 261: 2.328343879520757e-10, 262: 2.328343879520757e-10, 263: 2.328343879520757e-10, 264: 2.328343879520757e-10, 265: 2.328343879520757e-10, 266: 2.328343879520757e-10, 267: 2.328343879520757e-10, 268: 2.328343879520757e-10, 269: 2.328343879520757e-10, 270: 2.328343879520757e-10, 271: 2.328343879520757e-10, 272: 2.328343879520757e-10, 273: 2.328343879520757e-10, 274: 2.328343879520757e-10, 275: 2.328343879520757e-10, 276: 2.328343879520757e-10, 277: 2.328343879520757e-10, 278: 2.328343879520757e-10, 279: 2.328343879520757e-10, 280: 2.328343879520757e-10, 281: 2.328343879520757e-10, 282: 2.328343879520757e-10, 283: 2.328343879520757e-10, 284: 2.328343879520757e-10, 285: 2.328343879520757e-10, 286: 2.328343879520757e-10, 287: 2.328343879520757e-10, 288: 2.328343879520757e-10, 289: 2.328343879520757e-10, 290: 2.328343879520757e-10, 291: 2.328343879520757e-10, 292: 2.328343879520757e-10, 293: 2.328343879520757e-10, 294: 2.328343879520757e-10, 295: 2.328343879520757e-10, 296: 2.328343879520757e-10, 297: 2.328343879520757e-10, 298: 2.328343879520757e-10, 299: 2.328343879520757e-10, 300: 2.328343879520757e-10, 301: 2.328343879520757e-10, 302: 2.328343879520757e-10, 303: 2.328343879520757e-10, 304: 2.328343879520757e-10, 305: 2.328343879520757e-10, 306: 2.328343879520757e-10, 307: 2.328343879520757e-10, 308: 2.328343879520757e-10, 309: 2.328343879520757e-10, 310: 2.328343879520757e-10, 311: 2.328343879520757e-10, 312: 2.328343879520757e-10, 313: 2.328343879520757e-10, 314: 2.328343879520757e-10, 315: 2.328343879520757e-10, 316: 2.328343879520757e-10, 317: 2.328343879520757e-10, 318: 2.328343879520757e-10, 319: 2.328343879520757e-10, 320: 2.328343879520757e-10, 321: 2.328343879520757e-10, 322: 2.328343879520757e-10, 323: 2.328343879520757e-10, 324: 2.328343879520757e-10, 325: 2.328343879520757e-10, 326: 2.328343879520757e-10, 327: 2.328343879520757e-10, 328: 2.328343879520757e-10, 329: 2.328343879520757e-10, 330: 2.328343879520757e-10, 331: 2.328343879520757e-10, 332: 2.328343879520757e-10, 333: 2.328343879520757e-10, 334: 2.328343879520757e-10, 335: 2.328343879520757e-10, 336: 2.328343879520757e-10, 337: 2.328343879520757e-10, 338: 2.328343879520757e-10, 339: 2.328343879520757e-10, 340: 2.328343879520757e-10, 341: 2.328343879520757e-10, 342: 2.328343879520757e-10, 343: 2.328343879520757e-10, 344: 2.328343879520757e-10, 345: 2.328343879520757e-10, 346: 2.328343879520757e-10, 347: 2.328343879520757e-10, 348: 2.328343879520757e-10, 349: 2.328343879520757e-10, 350: 2.328343879520757e-10, 351: 2.328343879520757e-10, 352: 2.328343879520757e-10, 353: 2.328343879520757e-10, 354: 2.328343879520757e-10, 355: 2.328343879520757e-10, 356: 2.328343879520757e-10, 357: 2.328343879520757e-10, 358: 2.328343879520757e-10, 359: 2.328343879520757e-10, 360: 2.328343879520757e-10, 361: 2.328343879520757e-10, 362: 2.328343879520757e-10, 363: 2.328343879520757e-10, 364: 2.328343879520757e-10, 365: 2.328343879520757e-10, 366: 2.328343879520757e-10, 367: 2.328343879520757e-10, 368: 2.328343879520757e-10, 369: 2.328343879520757e-10, 370: 2.328343879520757e-10, 371: 2.328343879520757e-10, 372: 2.328343879520757e-10, 373: 2.328343879520757e-10, 374: 2.328343879520757e-10, 375: 2.328343879520757e-10, 376: 2.328343879520757e-10, 377: 2.328343879520757e-10, 378: 2.328343879520757e-10, 379: 2.328343879520757e-10, 380: 2.328343879520757e-10, 381: 2.328343879520757e-10, 382: 2.328343879520757e-10, 383: 2.328343879520757e-10, 384: 2.328343879520757e-10, 385: 2.328343879520757e-10, 386: 2.328343879520757e-10, 387: 2.328343879520757e-10, 388: 2.328343879520757e-10, 389: 2.328343879520757e-10, 390: 2.328343879520757e-10, 391: 2.328343879520757e-10, 392: 2.328343879520757e-10, 393: 2.328343879520757e-10, 394: 2.328343879520757e-10, 395: 2.328343879520757e-10, 396: 2.328343879520757e-10, 397: 2.328343879520757e-10, 398: 2.328343879520757e-10, 399: 2.328343879520757e-10, 400: 2.328343879520757e-10, 401: 2.328343879520757e-10, 402: 2.328343879520757e-10, 403: 2.328343879520757e-10, 404: 2.328343879520757e-10, 405: 2.328343879520757e-10, 406: 2.328343879520757e-10, 407: 2.328343879520757e-10, 408: 2.328343879520757e-10, 409: 2.328343879520757e-10, 410: 2.328343879520757e-10, 411: 2.328343879520757e-10, 412: 2.328343879520757e-10, 413: 2.328343879520757e-10, 414: 2.328343879520757e-10, 415: 2.328343879520757e-10, 416: 2.328343879520757e-10, 417: 2.328343879520757e-10, 418: 2.328343879520757e-10, 419: 2.328343879520757e-10, 420: 2.328343879520757e-10, 421: 2.328343879520757e-10, 422: 2.328343879520757e-10, 423: 2.328343879520757e-10, 424: 2.328343879520757e-10, 425: 2.328343879520757e-10, 426: 2.328343879520757e-10, 427: 2.328343879520757e-10, 428: 2.328343879520757e-10, 429: 2.328343879520757e-10, 430: 2.328343879520757e-10, 431: 2.328343879520757e-10, 432: 2.328343879520757e-10, 433: 2.328343879520757e-10, 434: 2.328343879520757e-10, 435: 2.328343879520757e-10, 436: 2.328343879520757e-10, 437: 2.328343879520757e-10, 438: 2.328343879520757e-10, 439: 2.328343879520757e-10, 440: 2.328343879520757e-10, 441: 2.328343879520757e-10, 442: 2.328343879520757e-10, 443: 2.328343879520757e-10, 444: 2.328343879520757e-10, 445: 2.328343879520757e-10, 446: 2.328343879520757e-10, 447: 2.328343879520757e-10, 448: 2.328343879520757e-10, 449: 2.328343879520757e-10, 450: 2.328343879520757e-10, 451: 2.328343879520757e-10, 452: 2.328343879520757e-10, 453: 2.328343879520757e-10, 454: 2.328343879520757e-10, 455: 2.328343879520757e-10, 456: 2.328343879520757e-10, 457: 2.328343879520757e-10, 458: 2.328343879520757e-10, 459: 2.328343879520757e-10, 460: 2.328343879520757e-10, 461: 2.328343879520757e-10, 462: 2.328343879520757e-10, 463: 2.328343879520757e-10, 464: 2.328343879520757e-10, 465: 2.328343879520757e-10, 466: 2.328343879520757e-10, 467: 2.328343879520757e-10, 468: 2.328343879520757e-10, 469: 2.328343879520757e-10, 470: 2.328343879520757e-10, 471: 2.328343879520757e-10, 472: 2.328343879520757e-10, 473: 2.328343879520757e-10, 474: 2.328343879520757e-10, 475: 2.328343879520757e-10, 476: 2.328343879520757e-10, 477: 2.328343879520757e-10, 478: 2.328343879520757e-10, 479: 2.328343879520757e-10, 480: 2.328343879520757e-10, 481: 2.328343879520757e-10, 482: 2.328343879520757e-10, 483: 2.328343879520757e-10, 484: 2.328343879520757e-10, 485: 2.328343879520757e-10, 486: 2.328343879520757e-10, 487: 2.328343879520757e-10, 488: 2.328343879520757e-10, 489: 2.328343879520757e-10, 490: 2.328343879520757e-10, 491: 2.328343879520757e-10, 492: 2.328343879520757e-10, 493: 2.328343879520757e-10, 494: 2.328343879520757e-10, 495: 2.328343879520757e-10, 496: 2.328343879520757e-10, 497: 2.328343879520757e-10, 498: 2.328343879520757e-10, 499: 2.328343879520757e-10, 500: 2.328343879520757e-10, 501: 2.328343879520757e-10, 502: 2.328343879520757e-10, 503: 2.328343879520757e-10, 504: 2.328343879520757e-10, 505: 2.328343879520757e-10, 506: 2.328343879520757e-10, 507: 2.328343879520757e-10, 508: 2.328343879520757e-10, 509: 2.328343879520757e-10, 510: 2.328343879520757e-10, 511: 2.328343879520757e-10, 512: 2.328343879520757e-10, 513: 2.328343879520757e-10, 514: 2.328343879520757e-10, 515: 2.328343879520757e-10, 516: 2.328343879520757e-10, 517: 2.328343879520757e-10, 518: 2.328343879520757e-10, 519: 2.328343879520757e-10, 520: 2.328343879520757e-10, 521: 2.328343879520757e-10, 522: 2.328343879520757e-10, 523: 2.328343879520757e-10, 524: 2.328343879520757e-10, 525: 2.328343879520757e-10, 526: 2.328343879520757e-10, 527: 2.328343879520757e-10, 528: 2.328343879520757e-10, 529: 2.328343879520757e-10, 530: 2.328343879520757e-10, 531: 2.328343879520757e-10, 532: 2.328343879520757e-10, 533: 2.328343879520757e-10, 534: 2.328343879520757e-10, 535: 2.328343879520757e-10, 536: 2.328343879520757e-10, 537: 2.328343879520757e-10, 538: 2.328343879520757e-10, 539: 2.328343879520757e-10, 540: 2.328343879520757e-10, 541: 2.328343879520757e-10, 542: 2.328343879520757e-10, 543: 2.328343879520757e-10, 544: 2.328343879520757e-10, 545: 2.328343879520757e-10, 546: 2.328343879520757e-10, 547: 2.328343879520757e-10, 548: 2.328343879520757e-10, 549: 2.328343879520757e-10, 550: 2.328343879520757e-10, 551: 2.328343879520757e-10, 552: 2.328343879520757e-10, 553: 2.328343879520757e-10, 554: 2.328343879520757e-10, 555: 2.328343879520757e-10, 556: 2.328343879520757e-10, 557: 2.328343879520757e-10, 558: 2.328343879520757e-10, 559: 2.328343879520757e-10, 560: 2.328343879520757e-10, 561: 2.328343879520757e-10, 562: 2.328343879520757e-10, 563: 2.328343879520757e-10, 564: 2.328343879520757e-10, 565: 2.328343879520757e-10, 566: 2.328343879520757e-10, 567: 2.328343879520757e-10, 568: 2.328343879520757e-10, 569: 2.328343879520757e-10, 570: 2.328343879520757e-10, 571: 2.328343879520757e-10, 572: 2.328343879520757e-10, 573: 2.328343879520757e-10, 574: 2.328343879520757e-10, 575: 2.328343879520757e-10, 576: 2.328343879520757e-10, 577: 2.328343879520757e-10, 578: 2.328343879520757e-10, 579: 2.328343879520757e-10, 580: 2.328343879520757e-10, 581: 2.328343879520757e-10, 582: 2.328343879520757e-10, 583: 2.328343879520757e-10, 584: 2.328343879520757e-10, 585: 2.328343879520757e-10, 586: 2.328343879520757e-10, 587: 2.328343879520757e-10, 588: 2.328343879520757e-10, 589: 2.328343879520757e-10, 590: 2.328343879520757e-10, 591: 2.328343879520757e-10, 592: 2.328343879520757e-10, 593: 2.328343879520757e-10, 594: 2.328343879520757e-10, 595: 2.328343879520757e-10, 596: 2.328343879520757e-10, 597: 2.328343879520757e-10, 598: 2.328343879520757e-10, 599: 2.328343879520757e-10, 600: 2.328343879520757e-10, 601: 2.328343879520757e-10, 602: 2.328343879520757e-10, 603: 2.328343879520757e-10, 604: 2.328343879520757e-10, 605: 2.328343879520757e-10, 606: 2.328343879520757e-10, 607: 2.328343879520757e-10, 608: 2.328343879520757e-10, 609: 2.328343879520757e-10, 610: 2.328343879520757e-10, 611: 2.328343879520757e-10, 612: 2.328343879520757e-10, 613: 2.328343879520757e-10, 614: 2.328343879520757e-10, 615: 2.328343879520757e-10, 616: 2.328343879520757e-10, 617: 2.328343879520757e-10, 618: 2.328343879520757e-10, 619: 2.328343879520757e-10, 620: 2.328343879520757e-10, 621: 2.328343879520757e-10, 622: 2.328343879520757e-10, 623: 2.328343879520757e-10, 624: 2.328343879520757e-10, 625: 2.328343879520757e-10, 626: 2.328343879520757e-10, 627: 2.328343879520757e-10, 628: 2.328343879520757e-10, 629: 2.328343879520757e-10, 630: 2.328343879520757e-10, 631: 2.328343879520757e-10, 632: 2.328343879520757e-10, 633: 2.328343879520757e-10, 634: 2.328343879520757e-10, 635: 2.328343879520757e-10, 636: 2.328343879520757e-10, 637: 2.328343879520757e-10, 638: 2.328343879520757e-10, 639: 2.328343879520757e-10, 640: 2.328343879520757e-10, 641: 2.328343879520757e-10, 642: 2.328343879520757e-10, 643: 2.328343879520757e-10, 644: 2.328343879520757e-10, 645: 2.328343879520757e-10, 646: 2.328343879520757e-10, 647: 2.328343879520757e-10, 648: 2.328343879520757e-10, 649: 2.328343879520757e-10, 650: 2.328343879520757e-10, 651: 2.328343879520757e-10, 652: 2.328343879520757e-10, 653: 2.328343879520757e-10, 654: 2.328343879520757e-10, 655: 2.328343879520757e-10, 656: 2.328343879520757e-10, 657: 2.328343879520757e-10, 658: 2.328343879520757e-10, 659: 2.328343879520757e-10, 660: 2.328343879520757e-10, 661: 2.328343879520757e-10, 662: 2.328343879520757e-10, 663: 2.328343879520757e-10, 664: 2.328343879520757e-10, 665: 2.328343879520757e-10, 666: 2.328343879520757e-10, 667: 2.328343879520757e-10, 668: 2.328343879520757e-10, 669: 2.328343879520757e-10, 670: 2.328343879520757e-10, 671: 2.328343879520757e-10, 672: 2.328343879520757e-10, 673: 2.328343879520757e-10, 674: 2.328343879520757e-10, 675: 2.328343879520757e-10, 676: 2.328343879520757e-10, 677: 2.328343879520757e-10, 678: 2.328343879520757e-10, 679: 2.328343879520757e-10, 680: 2.328343879520757e-10, 681: 2.328343879520757e-10, 682: 2.328343879520757e-10, 683: 2.328343879520757e-10, 684: 2.328343879520757e-10, 685: 2.328343879520757e-10, 686: 2.328343879520757e-10, 687: 2.328343879520757e-10, 688: 2.328343879520757e-10, 689: 2.328343879520757e-10, 690: 2.328343879520757e-10, 691: 2.328343879520757e-10, 692: 2.328343879520757e-10, 693: 2.328343879520757e-10, 694: 2.328343879520757e-10, 695: 2.328343879520757e-10, 696: 2.328343879520757e-10, 697: 2.328343879520757e-10, 698: 2.328343879520757e-10, 699: 2.328343879520757e-10, 700: 2.328343879520757e-10, 701: 2.328343879520757e-10, 702: 2.328343879520757e-10, 703: 2.328343879520757e-10, 704: 2.328343879520757e-10, 705: 2.328343879520757e-10, 706: 2.328343879520757e-10, 707: 2.328343879520757e-10, 708: 2.328343879520757e-10, 709: 2.328343879520757e-10, 710: 2.328343879520757e-10, 711: 2.328343879520757e-10, 712: 2.328343879520757e-10, 713: 2.328343879520757e-10, 714: 2.328343879520757e-10, 715: 2.328343879520757e-10, 716: 2.328343879520757e-10, 717: 2.328343879520757e-10, 718: 2.328343879520757e-10, 719: 2.328343879520757e-10, 720: 2.328343879520757e-10, 721: 2.328343879520757e-10, 722: 2.328343879520757e-10, 723: 2.328343879520757e-10, 724: 2.328343879520757e-10, 725: 2.328343879520757e-10, 726: 2.328343879520757e-10, 727: 2.328343879520757e-10, 728: 2.328343879520757e-10, 729: 2.328343879520757e-10, 730: 2.328343879520757e-10, 731: 2.328343879520757e-10, 732: 2.328343879520757e-10, 733: 2.328343879520757e-10, 734: 2.328343879520757e-10, 735: 2.328343879520757e-10, 736: 2.328343879520757e-10, 737: 2.328343879520757e-10, 738: 2.328343879520757e-10, 739: 2.328343879520757e-10, 740: 2.328343879520757e-10, 741: 2.328343879520757e-10, 742: 2.328343879520757e-10, 743: 2.328343879520757e-10, 744: 2.328343879520757e-10, 745: 2.328343879520757e-10, 746: 2.328343879520757e-10, 747: 2.328343879520757e-10, 748: 2.328343879520757e-10, 749: 2.328343879520757e-10, 750: 2.328343879520757e-10, 751: 2.328343879520757e-10, 752: 2.328343879520757e-10, 753: 2.328343879520757e-10, 754: 2.328343879520757e-10, 755: 2.328343879520757e-10, 756: 2.328343879520757e-10, 757: 2.328343879520757e-10, 758: 2.328343879520757e-10, 759: 2.328343879520757e-10, 760: 2.328343879520757e-10, 761: 2.328343879520757e-10, 762: 2.328343879520757e-10, 763: 2.328343879520757e-10, 764: 2.328343879520757e-10, 765: 2.328343879520757e-10, 766: 2.328343879520757e-10, 767: 2.328343879520757e-10, 768: 2.328343879520757e-10, 769: 2.328343879520757e-10, 770: 2.328343879520757e-10, 771: 2.328343879520757e-10, 772: 2.328343879520757e-10, 773: 2.328343879520757e-10, 774: 2.328343879520757e-10, 775: 2.328343879520757e-10, 776: 2.328343879520757e-10, 777: 2.328343879520757e-10, 778: 2.328343879520757e-10, 779: 2.328343879520757e-10, 780: 2.328343879520757e-10, 781: 2.328343879520757e-10, 782: 2.328343879520757e-10, 783: 2.328343879520757e-10, 784: 2.328343879520757e-10, 785: 2.328343879520757e-10, 786: 2.328343879520757e-10, 787: 2.328343879520757e-10, 788: 2.328343879520757e-10, 789: 2.328343879520757e-10, 790: 2.328343879520757e-10, 791: 2.328343879520757e-10, 792: 2.328343879520757e-10, 793: 2.328343879520757e-10, 794: 2.328343879520757e-10, 795: 2.328343879520757e-10, 796: 2.328343879520757e-10, 797: 2.328343879520757e-10, 798: 2.328343879520757e-10, 799: 2.328343879520757e-10, 800: 2.328343879520757e-10, 801: 2.328343879520757e-10, 802: 2.328343879520757e-10, 803: 2.328343879520757e-10, 804: 2.328343879520757e-10, 805: 2.328343879520757e-10, 806: 2.328343879520757e-10, 807: 2.328343879520757e-10, 808: 2.328343879520757e-10, 809: 2.328343879520757e-10, 810: 2.328343879520757e-10, 811: 2.328343879520757e-10, 812: 2.328343879520757e-10, 813: 2.328343879520757e-10, 814: 2.328343879520757e-10, 815: 2.328343879520757e-10, 816: 2.328343879520757e-10, 817: 2.328343879520757e-10, 818: 2.328343879520757e-10, 819: 2.328343879520757e-10, 820: 2.328343879520757e-10, 821: 2.328343879520757e-10, 822: 2.328343879520757e-10, 823: 2.328343879520757e-10, 824: 2.328343879520757e-10, 825: 2.328343879520757e-10, 826: 2.328343879520757e-10, 827: 2.328343879520757e-10, 828: 2.328343879520757e-10, 829: 2.328343879520757e-10, 830: 2.328343879520757e-10, 831: 2.328343879520757e-10, 832: 2.328343879520757e-10, 833: 2.328343879520757e-10, 834: 2.328343879520757e-10, 835: 2.328343879520757e-10, 836: 2.328343879520757e-10, 837: 2.328343879520757e-10, 838: 2.328343879520757e-10, 839: 2.328343879520757e-10, 840: 2.328343879520757e-10, 841: 2.328343879520757e-10, 842: 2.328343879520757e-10, 843: 2.328343879520757e-10, 844: 2.328343879520757e-10, 845: 2.328343879520757e-10, 846: 2.328343879520757e-10, 847: 2.328343879520757e-10, 848: 2.328343879520757e-10, 849: 2.328343879520757e-10, 850: 2.328343879520757e-10, 851: 2.328343879520757e-10, 852: 2.328343879520757e-10, 853: 2.328343879520757e-10, 854: 2.328343879520757e-10, 855: 2.328343879520757e-10, 856: 2.328343879520757e-10, 857: 2.328343879520757e-10, 858: 2.328343879520757e-10, 859: 2.328343879520757e-10, 860: 2.328343879520757e-10, 861: 2.328343879520757e-10, 862: 2.328343879520757e-10, 863: 2.328343879520757e-10, 864: 2.328343879520757e-10, 865: 2.328343879520757e-10, 866: 2.328343879520757e-10, 867: 2.328343879520757e-10, 868: 2.328343879520757e-10, 869: 2.328343879520757e-10, 870: 2.328343879520757e-10, 871: 2.328343879520757e-10, 872: 2.328343879520757e-10, 873: 2.328343879520757e-10, 874: 2.328343879520757e-10, 875: 2.328343879520757e-10, 876: 2.328343879520757e-10, 877: 2.328343879520757e-10, 878: 2.328343879520757e-10, 879: 2.328343879520757e-10, 880: 2.328343879520757e-10, 881: 2.328343879520757e-10, 882: 2.328343879520757e-10, 883: 2.328343879520757e-10, 884: 2.328343879520757e-10, 885: 2.328343879520757e-10, 886: 2.328343879520757e-10, 887: 2.328343879520757e-10, 888: 2.328343879520757e-10, 889: 2.328343879520757e-10, 890: 2.328343879520757e-10, 891: 2.328343879520757e-10, 892: 2.328343879520757e-10, 893: 2.328343879520757e-10, 894: 2.328343879520757e-10, 895: 2.328343879520757e-10, 896: 2.328343879520757e-10, 897: 2.328343879520757e-10, 898: 2.328343879520757e-10, 899: 2.328343879520757e-10, 900: 2.328343879520757e-10, 901: 2.328343879520757e-10, 902: 2.328343879520757e-10, 903: 2.328343879520757e-10, 904: 2.328343879520757e-10, 905: 2.328343879520757e-10, 906: 2.328343879520757e-10, 907: 2.328343879520757e-10, 908: 2.328343879520757e-10, 909: 2.328343879520757e-10, 910: 2.328343879520757e-10, 911: 2.328343879520757e-10, 912: 2.328343879520757e-10, 913: 2.328343879520757e-10, 914: 2.328343879520757e-10, 915: 2.328343879520757e-10, 916: 2.328343879520757e-10, 917: 2.328343879520757e-10, 918: 2.328343879520757e-10, 919: 2.328343879520757e-10, 920: 2.328343879520757e-10, 921: 2.328343879520757e-10, 922: 2.328343879520757e-10, 923: 2.328343879520757e-10, 924: 2.328343879520757e-10, 925: 2.328343879520757e-10, 926: 2.328343879520757e-10, 927: 2.328343879520757e-10, 928: 2.328343879520757e-10, 929: 2.328343879520757e-10, 930: 2.328343879520757e-10, 931: 2.328343879520757e-10, 932: 2.328343879520757e-10, 933: 2.328343879520757e-10, 934: 2.328343879520757e-10, 935: 2.328343879520757e-10, 936: 2.328343879520757e-10, 937: 2.328343879520757e-10, 938: 2.328343879520757e-10, 939: 2.328343879520757e-10, 940: 2.328343879520757e-10, 941: 2.328343879520757e-10, 942: 2.328343879520757e-10, 943: 2.328343879520757e-10, 944: 2.328343879520757e-10, 945: 2.328343879520757e-10, 946: 2.328343879520757e-10, 947: 2.328343879520757e-10, 948: 2.328343879520757e-10, 949: 2.328343879520757e-10, 950: 2.328343879520757e-10, 951: 2.328343879520757e-10, 952: 2.328343879520757e-10, 953: 2.328343879520757e-10, 954: 2.328343879520757e-10, 955: 2.328343879520757e-10, 956: 2.328343879520757e-10, 957: 2.328343879520757e-10, 958: 2.328343879520757e-10, 959: 2.328343879520757e-10, 960: 2.328343879520757e-10, 961: 2.328343879520757e-10, 962: 2.328343879520757e-10, 963: 2.328343879520757e-10, 964: 2.328343879520757e-10, 965: 2.328343879520757e-10, 966: 2.328343879520757e-10, 967: 2.328343879520757e-10, 968: 2.328343879520757e-10, 969: 2.328343879520757e-10, 970: 2.328343879520757e-10, 971: 2.328343879520757e-10, 972: 2.328343879520757e-10, 973: 2.328343879520757e-10, 974: 2.328343879520757e-10, 975: 2.328343879520757e-10, 976: 2.328343879520757e-10, 977: 2.328343879520757e-10, 978: 2.328343879520757e-10, 979: 2.328343879520757e-10, 980: 2.328343879520757e-10, 981: 2.328343879520757e-10, 982: 2.328343879520757e-10, 983: 2.328343879520757e-10, 984: 2.328343879520757e-10, 985: 2.328343879520757e-10, 986: 2.328343879520757e-10, 987: 2.328343879520757e-10, 988: 2.328343879520757e-10, 989: 2.328343879520757e-10, 990: 2.328343879520757e-10, 991: 2.328343879520757e-10, 992: 2.328343879520757e-10, 993: 2.328343879520757e-10, 994: 2.328343879520757e-10, 995: 2.328343879520757e-10, 996: 2.328343879520757e-10, 997: 2.328343879520757e-10, 998: 2.328343879520757e-10, 999: 2.328343879520757e-10, 1000: 2.328343879520757e-10}\n"
          ]
        }
      ]
    },
    {
      "cell_type": "code",
      "source": [
        "import numpy as np\n",
        "import pandas as pd\n",
        "import random\n",
        "import scipy.stats\n",
        "\n",
        "\n",
        "#Chi-Squared Test : 네 그룹으로 나누어 검정\n",
        "group1 = {}\n",
        "group2 = {}\n",
        "group3 = {}\n",
        "group4 = {}\n",
        "for i in range(0,250):\n",
        "  group1[i]=x[i]\n",
        "for j in range(250,500):\n",
        "  group2[j-250]=x[j]\n",
        "for k in range(500,750):\n",
        "  group3[k-500]=x[k]\n",
        "for p in range(750,1000):\n",
        "  group4[p-750]=x[p]\n",
        "  \n",
        "    \n",
        "table=pd.DataFrame([group1, group2, group3, group4])\n",
        "stat, p, dof, expected=scipy.stats.chi2_contingency(table)\n",
        "print('stat=%.10f, p=%.10f' % (stat, p))\n",
        "if p>0.05:\n",
        "    print(\"생성된 난수들은 [0,1] 사이의 균일분포를 따름\")\n",
        "else:\n",
        "    print(\"생성된 난수들은 [0,1] 사이의 균일분포를 따르지 않음\")"
      ],
      "metadata": {
        "id": "daC5EeMkAAiI",
        "colab": {
          "base_uri": "https://localhost:8080/"
        },
        "outputId": "2e226783-f173-4e9e-c045-5ce97f7c9dd1"
      },
      "execution_count": null,
      "outputs": [
        {
          "output_type": "stream",
          "name": "stdout",
          "text": [
            "stat=0.0000000002, p=1.0000000000\n",
            "생성된 난수들은 [0,1] 사이의 균일분포를 따름\n"
          ]
        }
      ]
    },
    {
      "cell_type": "code",
      "source": [
        "#2\n",
        "from random import uniform\n",
        "import statistics\n",
        "import scipy as sp\n",
        "import scipy.stats\n",
        "\n",
        "U1=np.random.uniform(0,1,size=10000)\n",
        "U2=np.random.uniform(0,1,size=10000)\n",
        "\n",
        "\n",
        "#(a) 추정\n",
        "print(f'Var(U1+U2) = {statistics.variance(U1+U2)}')\n",
        "print(f'Var(U1) + Var(U2)= {statistics.variance(U1) + statistics.variance(U2)}')\n",
        "\n",
        "print(abs(statistics.variance(U1+U2)-(1/6)))\n",
        "print(abs(statistics.variance(U1) + statistics.variance(U2)-(1/6)))\n",
        "\n",
        "#(b) 추정\n",
        "n=10000\n",
        "event=0\n",
        "for _ in range(n):\n",
        "    U1=np.random.uniform(0,1)\n",
        "    U2=np.random.uniform(0,1)\n",
        "    if U1+U2<=1.2:\n",
        "        event+=1\n",
        "print(f'P(U1+U2 <= 1.2) = {event/n}')\n"
      ],
      "metadata": {
        "colab": {
          "base_uri": "https://localhost:8080/"
        },
        "id": "hcKiFWk5vO_E",
        "outputId": "bd6ff65c-1216-476d-f529-a04d4dc341fe"
      },
      "execution_count": null,
      "outputs": [
        {
          "output_type": "stream",
          "name": "stdout",
          "text": [
            "Var(U1+U2) = 0.16548886528977078\n",
            "Var(U1) + Var(U2)= 0.16557570335642635\n",
            "0.0011778013768958817\n",
            "0.001090963310240306\n",
            "P(U1+U2 <= 1.2) = 0.6769\n"
          ]
        }
      ]
    },
    {
      "cell_type": "code",
      "source": [
        "import numpy as np\n",
        "import random\n",
        "\n",
        "dice=[\"1\",\"2\",\"3\",\"4\",\"5\",\"6\"]\n",
        "def pascal(n):\n",
        "    for i in range(n):\n",
        "        U1=np.random.choice(dice)\n",
        "        U2=np.random.choice(dice)\n",
        "        if U1==U2==\"6\":\n",
        "            return(\"A\")\n",
        "        else:\n",
        "            return(\"B\")\n",
        "event=0\n",
        "for i in range(100000):\n",
        "    if pascal(24)==\"B\":\n",
        "        event+=1\n",
        "    prob=1-(event/100000)**24 \n",
        "print(prob)"
      ],
      "metadata": {
        "colab": {
          "base_uri": "https://localhost:8080/"
        },
        "id": "HPo2VJZ74aLK",
        "outputId": "61fe0f55-279d-4fd9-f25d-589486858b90"
      },
      "execution_count": null,
      "outputs": [
        {
          "output_type": "stream",
          "name": "stdout",
          "text": [
            "0.49030067598099525\n"
          ]
        }
      ]
    },
    {
      "cell_type": "markdown",
      "source": [
        "# 고통프 과제 6"
      ],
      "metadata": {
        "id": "TgqhNUxP__gz"
      }
    },
    {
      "cell_type": "code",
      "source": [
        "#12.1"
      ],
      "metadata": {
        "id": "uUPj-wLyAB76"
      },
      "execution_count": null,
      "outputs": []
    },
    {
      "cell_type": "code",
      "source": [
        "import string\n",
        "\n",
        "def most_frequent(s):\n",
        "\td = dict()\n",
        "\tinv = dict()\n",
        "\tfor char in s:\n",
        "\t\tif char in string.ascii_letters:\n",
        "\t\t\tletter = char.lower()\t\t\n",
        "\t\t\td[letter] = d.get(letter, 0) + 1\n",
        "\t\t\t\n",
        "\tfor letter, freq in d.items():\n",
        "\t\tinv.setdefault(freq, []).append(letter)\n",
        "\t\t\n",
        "\tfor freq in sorted(inv, reverse=True):\n",
        "\t\tprint('{:.2%}:'.format(freq/(sum(list(inv)*len(inv[freq])))), ', '.join(inv[freq]))"
      ],
      "metadata": {
        "id": "8wyeSSFxADR8"
      },
      "execution_count": null,
      "outputs": []
    },
    {
      "cell_type": "code",
      "source": [
        "most_frequent('aaabbbbbcdefffg')"
      ],
      "metadata": {
        "colab": {
          "base_uri": "https://localhost:8080/"
        },
        "id": "VS2sZSnlBsVk",
        "outputId": "e3c2aa46-d8b8-4993-fb6d-aa2b0b0b7700"
      },
      "execution_count": null,
      "outputs": [
        {
          "output_type": "stream",
          "name": "stdout",
          "text": [
            "55.56%: b\n",
            "16.67%: a, f\n",
            "2.78%: c, d, e, g\n"
          ]
        }
      ]
    },
    {
      "cell_type": "code",
      "source": [
        "def most_frequent(s):\n",
        "    dict = {}\n",
        "    for letter in s:\n",
        "        dict[letter] = dict.get(letter, 0) + 1\n",
        "    freqs = [ (key, value) for (key, value) in sorted(dict.items(), key=lambda x: x[1], reverse=True) ]\n",
        "    return freqs\n",
        "\n",
        "\n",
        "print(\"most frequent hello: {}\".format(most_frequent('hello')))"
      ],
      "metadata": {
        "colab": {
          "base_uri": "https://localhost:8080/"
        },
        "id": "JjxWNUH9H8WF",
        "outputId": "0c04321c-b30f-4926-fe37-44b055e465f2"
      },
      "execution_count": null,
      "outputs": [
        {
          "output_type": "stream",
          "name": "stdout",
          "text": [
            "most frequent hello: [('l', 2), ('h', 1), ('e', 1), ('o', 1)]\n"
          ]
        }
      ]
    },
    {
      "cell_type": "code",
      "source": [
        "#12.2.1"
      ],
      "metadata": {
        "id": "cLzq_flfAgId"
      },
      "execution_count": null,
      "outputs": []
    },
    {
      "cell_type": "code",
      "source": [
        "import pdb\n",
        "\n",
        "dict = {}\n",
        "lengths = {}\n",
        "\n",
        "for line in open(\"C:/Users/USER/Desktop/word.txt\", 'r'):\n",
        "\n",
        "    word = line.strip()\n",
        "    key = tuple(sorted(word))\n",
        "    word_list = dict.get(key, [])\n",
        "    word_list.append(word)\n",
        "    dict[key] = word_list\n",
        "\n",
        "    length = lengths.get(key, 0)\n",
        "    length += 1\n",
        "    lengths[key] = length\n",
        "\n",
        "\n",
        "print(\"Found {} anagrams\".format(len(dict)))\n",
        "print(\"Anagrams for {}: {}\".format(\"deltas\", dict[tuple(sorted(\"deltas\"))]))"
      ],
      "metadata": {
        "colab": {
          "base_uri": "https://localhost:8080/",
          "height": 236
        },
        "id": "paxfvKaJJO_e",
        "outputId": "688cb752-835c-4e58-fafa-f65e6df67067"
      },
      "execution_count": null,
      "outputs": [
        {
          "output_type": "error",
          "ename": "FileNotFoundError",
          "evalue": "ignored",
          "traceback": [
            "\u001b[0;31m---------------------------------------------------------------------------\u001b[0m",
            "\u001b[0;31mFileNotFoundError\u001b[0m                         Traceback (most recent call last)",
            "\u001b[0;32m<ipython-input-59-a5150a565dd0>\u001b[0m in \u001b[0;36m<module>\u001b[0;34m\u001b[0m\n\u001b[1;32m      4\u001b[0m \u001b[0mlengths\u001b[0m \u001b[0;34m=\u001b[0m \u001b[0;34m{\u001b[0m\u001b[0;34m}\u001b[0m\u001b[0;34m\u001b[0m\u001b[0;34m\u001b[0m\u001b[0m\n\u001b[1;32m      5\u001b[0m \u001b[0;34m\u001b[0m\u001b[0m\n\u001b[0;32m----> 6\u001b[0;31m \u001b[0;32mfor\u001b[0m \u001b[0mline\u001b[0m \u001b[0;32min\u001b[0m \u001b[0mopen\u001b[0m\u001b[0;34m(\u001b[0m\u001b[0;34m\"C:/Users/USER/Desktop/word.txt\"\u001b[0m\u001b[0;34m,\u001b[0m \u001b[0;34m'r'\u001b[0m\u001b[0;34m)\u001b[0m\u001b[0;34m:\u001b[0m\u001b[0;34m\u001b[0m\u001b[0;34m\u001b[0m\u001b[0m\n\u001b[0m\u001b[1;32m      7\u001b[0m \u001b[0;34m\u001b[0m\u001b[0m\n\u001b[1;32m      8\u001b[0m     \u001b[0mword\u001b[0m \u001b[0;34m=\u001b[0m \u001b[0mline\u001b[0m\u001b[0;34m.\u001b[0m\u001b[0mstrip\u001b[0m\u001b[0;34m(\u001b[0m\u001b[0;34m)\u001b[0m\u001b[0;34m\u001b[0m\u001b[0;34m\u001b[0m\u001b[0m\n",
            "\u001b[0;31mFileNotFoundError\u001b[0m: [Errno 2] No such file or directory: 'C:/Users/USER/Desktop/word.txt'"
          ]
        }
      ]
    },
    {
      "cell_type": "code",
      "source": [
        "#12.2.2"
      ],
      "metadata": {
        "id": "eZL8XkC9FD1R"
      },
      "execution_count": null,
      "outputs": []
    },
    {
      "cell_type": "code",
      "source": [
        "sorted_anagram_lengths = [key for (key, value) in sorted(lengths.items(), key=lambda item: item[1], reverse=True)]\n",
        "\n",
        "for index, combo in zip(range(100), sorted_anagram_lengths):\n",
        "   print(\"Length {}: {}\".format(len(dict[combo]), dict[combo]))\n",
        "\n",
        "   if len(dict[combo][0]) == 8: print(\"Combo of length 8: {}\".format(combo))"
      ],
      "metadata": {
        "id": "O1a-h_OFFDvU"
      },
      "execution_count": null,
      "outputs": []
    },
    {
      "cell_type": "code",
      "source": [
        "#14.1"
      ],
      "metadata": {
        "id": "fYjQtjWFAgzm"
      },
      "execution_count": null,
      "outputs": []
    },
    {
      "cell_type": "code",
      "source": [
        "import sys\n",
        "\n",
        "def sed(pattern, replacement, in_path, out_path):\n",
        "\n",
        "    f_in = open(in_path, 'r')\n",
        "    new_body = f_in.read().replace(pattern, replacement)\n",
        "    f_in.close()\n",
        "    \n",
        "    f_out = open(out_path, 'w')\n",
        "    f_out.write(new_body)\n",
        "    f_out.close()\n",
        "    \n",
        "if __name__ == '__main__':\n",
        "    sed(sys.argv[1], sys.argv[2], sys.argv[3], sys.argv[4])"
      ],
      "metadata": {
        "colab": {
          "base_uri": "https://localhost:8080/",
          "height": 201
        },
        "id": "ZI2fPu4zI_Hn",
        "outputId": "12789377-93e5-43dc-e9e9-3995879c5f2c"
      },
      "execution_count": null,
      "outputs": [
        {
          "output_type": "error",
          "ename": "IndexError",
          "evalue": "ignored",
          "traceback": [
            "\u001b[0;31m---------------------------------------------------------------------------\u001b[0m",
            "\u001b[0;31mIndexError\u001b[0m                                Traceback (most recent call last)",
            "\u001b[0;32m<ipython-input-61-9a048438294a>\u001b[0m in \u001b[0;36m<module>\u001b[0;34m\u001b[0m\n\u001b[1;32m     12\u001b[0m \u001b[0;34m\u001b[0m\u001b[0m\n\u001b[1;32m     13\u001b[0m \u001b[0;32mif\u001b[0m \u001b[0m__name__\u001b[0m \u001b[0;34m==\u001b[0m \u001b[0;34m'__main__'\u001b[0m\u001b[0;34m:\u001b[0m\u001b[0;34m\u001b[0m\u001b[0;34m\u001b[0m\u001b[0m\n\u001b[0;32m---> 14\u001b[0;31m     \u001b[0msed\u001b[0m\u001b[0;34m(\u001b[0m\u001b[0msys\u001b[0m\u001b[0;34m.\u001b[0m\u001b[0margv\u001b[0m\u001b[0;34m[\u001b[0m\u001b[0;36m1\u001b[0m\u001b[0;34m]\u001b[0m\u001b[0;34m,\u001b[0m \u001b[0msys\u001b[0m\u001b[0;34m.\u001b[0m\u001b[0margv\u001b[0m\u001b[0;34m[\u001b[0m\u001b[0;36m2\u001b[0m\u001b[0;34m]\u001b[0m\u001b[0;34m,\u001b[0m \u001b[0msys\u001b[0m\u001b[0;34m.\u001b[0m\u001b[0margv\u001b[0m\u001b[0;34m[\u001b[0m\u001b[0;36m3\u001b[0m\u001b[0;34m]\u001b[0m\u001b[0;34m,\u001b[0m \u001b[0msys\u001b[0m\u001b[0;34m.\u001b[0m\u001b[0margv\u001b[0m\u001b[0;34m[\u001b[0m\u001b[0;36m4\u001b[0m\u001b[0;34m]\u001b[0m\u001b[0;34m)\u001b[0m\u001b[0;34m\u001b[0m\u001b[0;34m\u001b[0m\u001b[0m\n\u001b[0m",
            "\u001b[0;31mIndexError\u001b[0m: list index out of range"
          ]
        }
      ]
    },
    {
      "cell_type": "code",
      "source": [
        "s"
      ],
      "metadata": {
        "id": "VHxMQ5dMJf3a"
      },
      "execution_count": null,
      "outputs": []
    },
    {
      "cell_type": "markdown",
      "source": [
        "# 통계계산 과제5"
      ],
      "metadata": {
        "id": "bSL6dGQka_Io"
      }
    },
    {
      "cell_type": "code",
      "source": [
        "#1 로지스틱 분포\n",
        "#(a) 로지스틱 분포에 대한 역변환법 알고리즘\n",
        "\n",
        "import math\n",
        "import random\n",
        "import scipy.stats\n",
        "import numpy as np\n",
        "import matplotlib.pyplot as plt"
      ],
      "metadata": {
        "id": "SFtY5EmRbAhJ"
      },
      "execution_count": null,
      "outputs": []
    },
    {
      "cell_type": "code",
      "source": [
        "#로지스틱 함수의 cdf의 역함수\n",
        "def inv_logistic_df(u):\n",
        "  return math.log(u/(1-u))"
      ],
      "metadata": {
        "id": "jEbo8ggT3wlz"
      },
      "execution_count": null,
      "outputs": []
    },
    {
      "cell_type": "code",
      "source": [
        "#역변환법 알고리즘\n",
        "random_num = [random.random() for _ in range(10000)]\n",
        "random_nums_from_logistic = [inv_logistic_df(ran_num) for ran_num in random_num]"
      ],
      "metadata": {
        "id": "GQN6xh-C35dR"
      },
      "execution_count": null,
      "outputs": []
    },
    {
      "cell_type": "code",
      "source": [
        "#(b)\n",
        "#로지스틱 확률함수\n",
        "x = np.linspace(-10, 10)\n",
        "y = np.exp(-x)/((1+np.exp(-x))**2)"
      ],
      "metadata": {
        "id": "R3u27udR4Zwr"
      },
      "execution_count": null,
      "outputs": []
    },
    {
      "cell_type": "code",
      "source": [
        "hist = np.histogram(random_nums_from_logistic)\n",
        "hist_dist = scipy.stats.rv_histogram(hist)"
      ],
      "metadata": {
        "id": "uBNYO09b4TzH"
      },
      "execution_count": null,
      "outputs": []
    },
    {
      "cell_type": "code",
      "source": [
        "plt.hist(random_nums_from_logistic, density = True, bins = 50, label = 'random_number')\n",
        "plt.plot(x,y,label = 'logistic pdf')\n",
        "plt.legend()\n",
        "plt.show()"
      ],
      "metadata": {
        "colab": {
          "base_uri": "https://localhost:8080/",
          "height": 265
        },
        "id": "sALv-vWB5Lcr",
        "outputId": "b9d2aebe-8760-49af-8866-eba3fdf0d742"
      },
      "execution_count": null,
      "outputs": [
        {
          "output_type": "display_data",
          "data": {
            "text/plain": [
              "<Figure size 432x288 with 1 Axes>"
            ],
            "image/png": "[encoded data removed]"
          },
          "metadata": {
            "needs_background": "light"
          }
        }
      ]
    },
    {
      "cell_type": "code",
      "source": [
        "#2번"
      ],
      "metadata": {
        "id": "giGwE6iv6IJP"
      },
      "execution_count": null,
      "outputs": []
    },
    {
      "cell_type": "code",
      "source": [
        "import math\n",
        "import numpy as np\n",
        "import random\n",
        "import numpy as np\n",
        "from scipy import stats\n",
        "\n",
        "#h(x)의 cdf의 역함수 H-1(k)\n",
        "def H_inv(k):\n",
        "  return 5 - 2*math.log(1-k)\n",
        "\n",
        "#g(x)\n",
        "def g(x):\n",
        "  return (x*np.exp(-x/2))/(3*np.exp(-5/2))"
      ],
      "metadata": {
        "id": "Hnnf7ZwZ8FSP"
      },
      "execution_count": null,
      "outputs": []
    },
    {
      "cell_type": "code",
      "source": [
        "#역변환법 알고리즘\n",
        "u1 = [random.random() for _ in range(10000)]\n",
        "u2 = [random.random() for _ in range(10000)]\n",
        "random_nums_from_h_inv = [H_inv(ran_num) for ran_num in u1]\n",
        "gy = [g(i) for i in random_nums_from_h_inv]"
      ],
      "metadata": {
        "id": "45HbQGORkkA-"
      },
      "execution_count": null,
      "outputs": []
    },
    {
      "cell_type": "code",
      "source": [
        "accepted = []\n",
        "rejected = []\n",
        "\n",
        "\n",
        "if u2 <= gy:\n",
        "  accepted.extend([random_nums_from_h_inv])\n",
        "else:\n",
        "  rejected.append([random_nums_from_h_inv])"
      ],
      "metadata": {
        "id": "5b9czodvkPCd"
      },
      "execution_count": null,
      "outputs": []
    },
    {
      "cell_type": "code",
      "source": [
        "#(b)\n",
        "#감마함수\n",
        "x = np.linspace(5,10)\n",
        "y = x*np.exp(-x) / (6*np.exp(-5))"
      ],
      "metadata": {
        "id": "sQ3xfRwLldVh"
      },
      "execution_count": null,
      "outputs": []
    },
    {
      "cell_type": "code",
      "source": [
        "hist1 = np.histogram(random_nums_from_h_inv)\n",
        "hist_dist1 = scipy.stats.rv_histogram(hist1)"
      ],
      "metadata": {
        "id": "TttUNlalK9CQ"
      },
      "execution_count": null,
      "outputs": []
    },
    {
      "cell_type": "code",
      "source": [
        "simport matplotlib.pyplot as plt\n",
        "plt.hist(random_nums_from_h_inv, density = True, bins = 50, label = 'random_number')\n",
        "plt.plot(x,y,label = 'gamma pdf')\n",
        "plt.xlim([5,15])\n",
        "plt.legend()\n",
        "plt.show()"
      ],
      "metadata": {
        "colab": {
          "base_uri": "https://localhost:8080/",
          "height": 265
        },
        "id": "xhvW_nVCJytu",
        "outputId": "4b83f311-edfd-4511-ec63-985722606e66"
      },
      "execution_count": null,
      "outputs": [
        {
          "output_type": "display_data",
          "data": {
            "text/plain": [
              "<Figure size 432x288 with 1 Axes>"
            ],
            "image/png": "[encoded data removed]"
          },
          "metadata": {
            "needs_background": "light"
          }
        }
      ]
    },
    {
      "cell_type": "code",
      "source": [
        "#3번"
      ],
      "metadata": {
        "id": "vcqY8W-cnP7v"
      },
      "execution_count": null,
      "outputs": []
    },
    {
      "cell_type": "code",
      "source": [
        "import math\n",
        "import numpy as np\n",
        "import random\n",
        "import numpy as np\n",
        "import scipy\n",
        "from scipy import stats\n",
        "import scipy.stats as ss\n",
        "import matplotlib.pyplot as plt"
      ],
      "metadata": {
        "id": "JgbhI_IO2HmB"
      },
      "execution_count": null,
      "outputs": []
    },
    {
      "cell_type": "code",
      "source": [
        "#평균 -1, 분산1/4\n",
        "e11 = list(np.random.exponential(1, size = 10000))\n",
        "e22 = list(np.random.exponential(1, size = 10000))\n",
        "\n",
        "\n",
        "def p(e):\n",
        "  return ((e-1)**2) / 2\n",
        "\n",
        "\n",
        "random_nums = list(p(ran_num) for ran_num in e11)\n",
        "\n",
        "accepted1 = []\n",
        "rejected1 = []\n",
        "\n",
        "for i in range(10000):\n",
        "  if e2[i] >= random_nums[i]:\n",
        "    accepted1.extend([e11])\n",
        "  else:\n",
        "    rejected1.extend([e11])\n",
        "\n",
        "\n",
        "for i in range(len(e11)):\n",
        "  e11[i] = -1 +e11[i]*1/4\n",
        "\n",
        "for i in range(len(e11)):\n",
        "  e22[i] = -e11[i]-2\n",
        "\n",
        "\n",
        "\n",
        "hist11 = np.histogram(e11)\n",
        "hist_dist11 = scipy.stats.rv_histogram(hist11)\n",
        "import matplotlib.pyplot as plt\n",
        "x11 = np.linspace(0,10)\n",
        "y11 = (2/math.pi*(1/4)**2)**(1/2)*np.exp((-(x1)**2) / 2*(1/4)**2)\n",
        "plt.hist(e11,density = True, bins = 50)\n",
        "plt.plot(x11-1,y11, c = 'b')\n",
        "plt.plot(-x11-1,y11, c= 'b')"
      ],
      "metadata": {
        "colab": {
          "base_uri": "https://localhost:8080/",
          "height": 283
        },
        "id": "ypoEgjGxoQBp",
        "outputId": "656fbdd8-4937-44bc-8185-49b9ee232d84"
      },
      "execution_count": null,
      "outputs": [
        {
          "output_type": "execute_result",
          "data": {
            "text/plain": [
              "[<matplotlib.lines.Line2D at 0x7f67839b2650>]"
            ]
          },
          "metadata": {},
          "execution_count": 106
        },
        {
          "output_type": "display_data",
          "data": {
            "text/plain": [
              "<Figure size 432x288 with 1 Axes>"
            ],
            "image/png": "[encoded data removed]"
          },
          "metadata": {
            "needs_background": "light"
          }
        }
      ]
    },
    {
      "cell_type": "code",
      "source": [],
      "metadata": {
        "id": "Rd9ysfW03Qep"
      },
      "execution_count": null,
      "outputs": []
    },
    {
      "cell_type": "code",
      "source": [
        "e12 = list(np.random.exponential(1, size = 10))\n",
        "e22 = list(np.random.exponential(1, size = 10))\n",
        "u32 = list(random.random() for _ in range(10))"
      ],
      "metadata": {
        "id": "nEAdQytf3bZs"
      },
      "execution_count": null,
      "outputs": []
    },
    {
      "cell_type": "code",
      "source": [
        "accepted1"
      ],
      "metadata": {
        "colab": {
          "base_uri": "https://localhost:8080/"
        },
        "id": "MVjkFyUh3bRy",
        "outputId": "8d2a16f5-95b0-4811-b650-a564ecfa7672"
      },
      "execution_count": null,
      "outputs": [
        {
          "output_type": "execute_result",
          "data": {
            "text/plain": [
              "[-0.3973402313324171,\n",
              " 0.42260721987385375,\n",
              " -0.03889699628472197,\n",
              " 0.11687576757011801,\n",
              " 0.22779987585689657,\n",
              " 1.5935823951910335,\n",
              " -0.15500243075951026,\n",
              " 0.7030751863955196,\n",
              " -0.7011573405317139]"
            ]
          },
          "metadata": {},
          "execution_count": 114
        }
      ]
    },
    {
      "cell_type": "code",
      "source": [
        "#temp!!!!!!!!!!!!!!!\n",
        "#평균 0 분산 1\n",
        "e12 = list(np.random.exponential(1, size = 10000))\n",
        "e22 = list(np.random.exponential(1, size = 10000))\n",
        "u32 = list(random.random() for _ in range(10000))\n",
        "\n",
        "\n",
        "accepted = []\n",
        "rejected = []\n",
        "\n",
        "\n",
        "\n",
        "u = list(random.random() for _ in range(10000))\n",
        "\n",
        "if 0<= u < 1/2:\n",
        "  def p(e):\n",
        "    return ((e-1)**2) / 2\n",
        "\n",
        "  random_nums = list(p(ran_num) for ran_num in e12)\n",
        "\n",
        "  for i in range(10000):\n",
        "    if e22[i] >= random_nums[i]:\n",
        "      if u32[i] > 0.5:\n",
        "        accepted1.append(e12[i])\n",
        "      else:\n",
        "        accepted1.append(-e12[i])\n",
        "    else:\n",
        "      rejected1.extend([e12])\n",
        "\n",
        "\n",
        "import matplotlib.pyplot as plt\n",
        "\n",
        "plt.hist(accepted1,density = True, bins = 50)\n",
        "x12 = np.linspace(0,10)\n",
        "y12 = ((2*math.exp(1)/math.pi)**(1/2)) *np.exp(-x12) *np.exp(-((x12-1)**2) / 2)\n",
        "plt.plot(x12,y12, c = 'b')\n",
        "plt.plot(-x12,y12, c= 'b')\n"
      ],
      "metadata": {
        "colab": {
          "base_uri": "https://localhost:8080/",
          "height": 283
        },
        "id": "YldpcImD2RN6",
        "outputId": "a870e758-a6cd-4351-b0ff-521e351d7cd1"
      },
      "execution_count": null,
      "outputs": [
        {
          "output_type": "execute_result",
          "data": {
            "text/plain": [
              "[<matplotlib.lines.Line2D at 0x7f675ecd2550>]"
            ]
          },
          "metadata": {},
          "execution_count": 123
        },
        {
          "output_type": "display_data",
          "data": {
            "text/plain": [
              "<Figure size 432x288 with 1 Axes>"
            ],
            "image/png": "[encoded data removed]"
          },
          "metadata": {
            "needs_background": "light"
          }
        }
      ]
    },
    {
      "cell_type": "code",
      "source": [
        "#temp!!!!!!!!!!!!!!!\n",
        "e12 = list(np.random.exponential(1, size = 10000))\n",
        "e22 = list(np.random.exponential(1, size = 10000))\n",
        "\n",
        "\n",
        "\n",
        "def p(e):\n",
        "  return ((e-1)**2) / 2\n",
        "\n",
        "random_nums = list(p(ran_num) for ran_num in e12)\n",
        "\n",
        "accepted1 = []\n",
        "rejected1 = []\n",
        "\n",
        "for i in range(10000):\n",
        "  if e22[i] >= random_nums[i]:\n",
        "    accepted1.extend([e12])\n",
        "  else:\n",
        "    rejected1.extend([e12])\n",
        "\n",
        "import matplotlib.pyplot as plt\n",
        "x12 = np.linspace(0,10)\n",
        "plt.hist(e12,density = True, bins = 50)\n",
        "\n",
        "x12\n",
        "y11 = (2/math.pi*(1/4)**2)**(1/2)*np.exp((-(x1)**2) / 2*(1/4)**2)\n",
        "plt.hist(e11,density = True, bins = 50)\n",
        "plt.plot(x11-1,y11, c = 'b')\n",
        "plt.plot(-x11-1,y11, c= 'b')\n",
        "\n"
      ],
      "metadata": {
        "colab": {
          "base_uri": "https://localhost:8080/",
          "height": 754
        },
        "id": "812Gz1JN2tcw",
        "outputId": "d0504b8e-32b1-437b-fb2f-32538ea4ce88"
      },
      "execution_count": null,
      "outputs": [
        {
          "output_type": "execute_result",
          "data": {
            "text/plain": [
              "(array([9.07668834e-01, 6.96099824e-01, 5.91732075e-01, 4.77919282e-01,\n",
              "        3.99053155e-01, 3.14047749e-01, 2.60683245e-01, 2.02596217e-01,\n",
              "        1.65288289e-01, 1.47814956e-01, 1.08618019e-01, 9.35059465e-02,\n",
              "        7.22545950e-02, 5.57257661e-02, 4.81697300e-02, 3.73079281e-02,\n",
              "        3.02241443e-02, 1.93623424e-02, 2.07790992e-02, 1.70010812e-02,\n",
              "        1.18063064e-02, 1.22785586e-02, 5.19477480e-03, 2.83351353e-03,\n",
              "        4.25027029e-03, 3.77801804e-03, 2.36126127e-03, 3.77801804e-03,\n",
              "        2.36126127e-03, 2.36126127e-03, 4.72252255e-04, 4.72252255e-04,\n",
              "        4.72252255e-04, 4.72252255e-04, 9.44504510e-04, 1.41675676e-03,\n",
              "        4.72252255e-04, 4.72252255e-04, 0.00000000e+00, 0.00000000e+00,\n",
              "        0.00000000e+00, 0.00000000e+00, 0.00000000e+00, 0.00000000e+00,\n",
              "        0.00000000e+00, 0.00000000e+00, 0.00000000e+00, 0.00000000e+00,\n",
              "        0.00000000e+00, 4.72252255e-04]),\n",
              " array([1.24302977e-04, 2.11875542e-01, 4.23626781e-01, 6.35378019e-01,\n",
              "        8.47129258e-01, 1.05888050e+00, 1.27063174e+00, 1.48238297e+00,\n",
              "        1.69413421e+00, 1.90588545e+00, 2.11763669e+00, 2.32938793e+00,\n",
              "        2.54113917e+00, 2.75289041e+00, 2.96464165e+00, 3.17639289e+00,\n",
              "        3.38814412e+00, 3.59989536e+00, 3.81164660e+00, 4.02339784e+00,\n",
              "        4.23514908e+00, 4.44690032e+00, 4.65865156e+00, 4.87040280e+00,\n",
              "        5.08215403e+00, 5.29390527e+00, 5.50565651e+00, 5.71740775e+00,\n",
              "        5.92915899e+00, 6.14091023e+00, 6.35266147e+00, 6.56441271e+00,\n",
              "        6.77616395e+00, 6.98791518e+00, 7.19966642e+00, 7.41141766e+00,\n",
              "        7.62316890e+00, 7.83492014e+00, 8.04667138e+00, 8.25842262e+00,\n",
              "        8.47017386e+00, 8.68192509e+00, 8.89367633e+00, 9.10542757e+00,\n",
              "        9.31717881e+00, 9.52893005e+00, 9.74068129e+00, 9.95243253e+00,\n",
              "        1.01641838e+01, 1.03759350e+01, 1.05876862e+01]),\n",
              " <a list of 50 Patch objects>)"
            ]
          },
          "metadata": {},
          "execution_count": 109
        },
        {
          "output_type": "display_data",
          "data": {
            "text/plain": [
              "<Figure size 432x288 with 1 Axes>"
            ],
            "image/png": "[encoded data removed]"
          },
          "metadata": {
            "needs_background": "light"
          }
        }
      ]
    },
    {
      "cell_type": "code",
      "source": [
        "#평균 1, 분산1/2\n",
        "e13 = list(np.random.exponential(2, size = 10000))\n",
        "e23 = list(np.random.exponential(2, size = 10000))\n",
        "\n",
        "\n",
        "def p(e):\n",
        "  return ((e-21)**2) / 100\n",
        "\n",
        "random_nums = list(p(ran_num) for ran_num in e13)\n",
        "\n",
        "accepted1 = []\n",
        "rejected1 = []\n",
        "\n",
        "for i in range(10000):\n",
        "  if e23[i] >= random_nums[i]:\n",
        "    accepted1.extend([e13])\n",
        "  else:\n",
        "    rejected1.extend([e13])\n",
        "\n",
        "for i in range(len(e13)):\n",
        "  e13[i] = e13[i]+1\n",
        "\n",
        "for i in range(len(e13)):\n",
        "  e23[i] = -e13[i]+2\n",
        "\n",
        "\n",
        "\n",
        "hist113 = np.histogram(e13)\n",
        "hist_dist113 = scipy.stats.rv_histogram(hist113)\n",
        "import matplotlib.pyplot as plt\n",
        "x13 = np.linspace(0,10)\n",
        "y13 = (2/math.pi*(1/4)**2)**(1/2)*np.exp((-(x1)**2) / 2*(1/4)**2)\n",
        "plt.hist(e13,density = True, bins = 50)\n",
        "plt.hist(e23,density = True, bins = 50)\n",
        "plt.plot(x13+1,y13, c = 'b')\n",
        "plt.plot(-x13+1,y13, c= 'b')\n"
      ],
      "metadata": {
        "colab": {
          "base_uri": "https://localhost:8080/",
          "height": 283
        },
        "id": "UEa1SK0xqCbC",
        "outputId": "878e519f-4241-4715-9198-7aeb4ce4dc7f"
      },
      "execution_count": null,
      "outputs": [
        {
          "output_type": "execute_result",
          "data": {
            "text/plain": [
              "[<matplotlib.lines.Line2D at 0x7f677e50d850>]"
            ]
          },
          "metadata": {},
          "execution_count": 99
        },
        {
          "output_type": "display_data",
          "data": {
            "text/plain": [
              "<Figure size 432x288 with 1 Axes>"
            ],
            "image/png": "[encoded data removed]"
          },
          "metadata": {
            "needs_background": "light"
          }
        }
      ]
    },
    {
      "cell_type": "code",
      "source": [
        "e12 = list(np.random.exponential(1, size = 10000))\n",
        "e22 = list(np.random.exponential(1, size = 10000))\n",
        "u32 = list(random.random() for _ in range(10000))\n",
        "\n",
        "\n",
        "accepted = []\n",
        "rejected = []\n",
        "\n",
        "\n",
        "\n",
        "u = list(random.random() for _ in range(10000))\n",
        "\n",
        "if 0<= u < 1/2:\n",
        "  def p(e):\n",
        "    return ((e-1)**2) / 2\n",
        "\n",
        "  random_nums = list(p(ran_num) for ran_num in e12)\n",
        "\n",
        "  for i in range(10000):\n",
        "    if e22[i] >= random_nums[i]:\n",
        "      if u32[i] > 0.5:\n",
        "        accepted1.append(e12[i])\n",
        "      else:\n",
        "        accepted1.append(-e12[i])\n",
        "    else:\n",
        "      rejected1.extend([e12])\n",
        "for "
      ],
      "metadata": {
        "id": "reDRC_kmq7oJ"
      },
      "execution_count": null,
      "outputs": []
    },
    {
      "cell_type": "code",
      "source": [
        "import math\n",
        "import numpy as np\n",
        "import random\n",
        "import numpy as np\n",
        "import scipy\n",
        "from scipy import stats\n",
        "import scipy.stats as ss\n",
        "import matplotlib.pyplot as plt"
      ],
      "metadata": {
        "id": "7us2skcU71A1"
      },
      "execution_count": null,
      "outputs": []
    },
    {
      "cell_type": "code",
      "source": [
        "e1 = list(np.random.exponential(1, size = 10000))\n",
        "e2 = list(np.random.exponential(1, size = 10000))\n",
        "u1 = list(random.random() for _ in range(10000))\n",
        "u2 = list(random.random() for _ in range(10000))\n",
        "\n",
        "accepted = []\n",
        "\n",
        "def p1(e):\n",
        "  return ((e-1)**2) / 2\n",
        "\n",
        "def p2(e):\n",
        "  return ((e-1)**2)/32\n",
        "\n",
        "def p3(e):\n",
        "  return ((e-1)**2)/8\n",
        "\n",
        "\n",
        "u = list(random.random() for _ in range(10000))\n",
        "\n",
        "for i in range(10000):\n",
        "  if 0<= u1[i] < 1/2:\n",
        "    random_nums = list(p1(ran_num) for ran_num in e1)\n",
        "    if e2[i] >= random_nums[i]:\n",
        "      if u2[i] > 0.5:\n",
        "        accepted.append(e1[i])\n",
        "      else:\n",
        "        accepted.append(-e1[i])\n",
        "\n",
        "  if 1/2 <= u1[i] < 5/6:\n",
        "    random_nums = list(p(ran_num) for ran_num in e1)\n",
        "    if e2[i] >= random_nums[i]:\n",
        "      if u2[i] > 0.5:\n",
        "        accepted.append(e1[i])\n",
        "      else:\n",
        "        accepted.append(-e1[i])\n",
        "\n",
        "  if 5/6 <= u1[i] < 1:\n",
        "    random_nums = list(p(ran_num) for ran_num in e1)\n",
        "    if e2[i] >= random_nums[i]:\n",
        "      if u2[i] > 0.5:\n",
        "        accepted.append(e1[i])\n",
        "      else:\n",
        "        accepted.append(-e1[i])\n",
        "    \n",
        "\n",
        "\n",
        "\n",
        "\n",
        "#혼합정규분포의 모수\n",
        "norm_params = np.array([[-1, 1/4],\n",
        "                        [0, 1],\n",
        "                        [1, 1/2]])\n",
        "\n",
        "# 가중치\n",
        "weights = np.array([1/2, 1/3, 1/6])\n",
        "\n",
        "# f(x) 도출\n",
        "xs = np.linspace(-3, 3, 20000)\n",
        "ys = np.zeros_like(xs)\n",
        "\n",
        "\n",
        "for (l, s), w in zip(norm_params, weights):\n",
        "    ys += ss.norm.pdf(xs, loc=l, scale=s) * w\n",
        "\n",
        "plt.plot(xs, ys)\n",
        "plt.hist(accepted,density = True, bins = 50)   "
      ],
      "metadata": {
        "colab": {
          "base_uri": "https://localhost:8080/",
          "height": 663
        },
        "id": "FqgYvXJIZP9l",
        "outputId": "f67d3a7c-7cca-4e0c-f350-07aa09e3dcd0"
      },
      "execution_count": null,
      "outputs": [
        {
          "output_type": "execute_result",
          "data": {
            "text/plain": [
              "(array([0.00083938, 0.        , 0.        , 0.        , 0.00083938,\n",
              "        0.00167876, 0.00335751, 0.00503627, 0.01007254, 0.00335751,\n",
              "        0.01426943, 0.02434197, 0.0344145 , 0.03357513, 0.05791709,\n",
              "        0.09652849, 0.11163729, 0.13765802, 0.18550257, 0.19221759,\n",
              "        0.24174091, 0.2879067 , 0.30805178, 0.33575126, 0.3609326 ,\n",
              "        0.38275643, 0.37436265, 0.40122275, 0.38443519, 0.36764763,\n",
              "        0.36177198, 0.32483934, 0.26944038, 0.2459378 , 0.18550257,\n",
              "        0.16367874, 0.13765802, 0.11163729, 0.08393781, 0.06043523,\n",
              "        0.04868393, 0.02937824, 0.02602072, 0.01510881, 0.01175129,\n",
              "        0.00251813, 0.00167876, 0.00419689, 0.00251813, 0.00167876]),\n",
              " array([-4.19541498, -4.04029022, -3.88516546, -3.7300407 , -3.57491594,\n",
              "        -3.41979118, -3.26466642, -3.10954166, -2.9544169 , -2.79929214,\n",
              "        -2.64416738, -2.48904262, -2.33391786, -2.1787931 , -2.02366834,\n",
              "        -1.86854357, -1.71341881, -1.55829405, -1.40316929, -1.24804453,\n",
              "        -1.09291977, -0.93779501, -0.78267025, -0.62754549, -0.47242073,\n",
              "        -0.31729597, -0.16217121, -0.00704645,  0.14807831,  0.30320307,\n",
              "         0.45832783,  0.61345259,  0.76857735,  0.92370211,  1.07882687,\n",
              "         1.23395163,  1.38907639,  1.54420115,  1.69932591,  1.85445067,\n",
              "         2.00957543,  2.16470019,  2.31982495,  2.47494972,  2.63007448,\n",
              "         2.78519924,  2.940324  ,  3.09544876,  3.25057352,  3.40569828,\n",
              "         3.56082304]),\n",
              " <a list of 50 Patch objects>)"
            ]
          },
          "metadata": {},
          "execution_count": 9
        },
        {
          "output_type": "display_data",
          "data": {
            "text/plain": [
              "<Figure size 432x288 with 1 Axes>"
            ],
            "image/png": "[encoded data removed]"
          },
          "metadata": {
            "needs_background": "light"
          }
        }
      ]
    },
    {
      "cell_type": "code",
      "source": [
        "e1 = list(np.random.exponential(1, size = 10000))\n",
        "e2 = list(np.random.exponential(1, size = 10000))\n",
        "u1 = list(random.random() for _ in range(10000))\n",
        "u2 = list(random.random() for _ in range(10000))\n",
        "\n",
        "accepted = []\n",
        "rejected = []\n",
        "\n",
        "def p1(e):\n",
        "  return ((e-1)**2) / 2\n",
        "\n",
        "u = list(random.random() for _ in range(10000))\n",
        "\n",
        "for i in range(10000):\n",
        "  if 0<= u1[i] < 1/2:\n",
        "    random_nums = list(p1(ran_num) for ran_num in e1)\n",
        "    if e2[i] >= random_nums[i]:\n",
        "      if u2[i] > 0.5:\n",
        "        accepted.append(e1[i])\n",
        "      else:\n",
        "        accepted.append(-e1[i])\n",
        "  else:\n",
        "    rejected.append(e1[i])\n",
        "\n",
        "\n",
        "\n",
        "#혼합정규분포의 모수\n",
        "norm_params = np.array([[-1, 1/4],\n",
        "                        [0, 1],\n",
        "                        [1, 1/2]])\n",
        "\n",
        "# 가중치\n",
        "weights = np.array([1/2, 1/3, 1/6])\n",
        "\n",
        "# f(x) 도출\n",
        "xs = np.linspace(-3, 3, 20000)\n",
        "ys = np.zeros_like(xs)\n",
        "\n",
        "\n",
        "for (l, s), w in zip(norm_params, weights):\n",
        "    ys += ss.norm.pdf(xs, loc=l, scale=s) * w\n",
        "\n",
        "plt.plot(xs, ys)\n",
        "plt.hist(accepted,density = True, bins = 50)   "
      ],
      "metadata": {
        "colab": {
          "base_uri": "https://localhost:8080/",
          "height": 663
        },
        "id": "411mMWoy-A0_",
        "outputId": "b0395301-a3cd-489a-b17f-e1804f4adb55"
      },
      "execution_count": null,
      "outputs": [
        {
          "output_type": "execute_result",
          "data": {
            "text/plain": [
              "(array([0.00192237, 0.        , 0.00192237, 0.        , 0.00384474,\n",
              "        0.01345658, 0.01153421, 0.01345658, 0.01730131, 0.02883552,\n",
              "        0.02691315, 0.05574867, 0.05767104, 0.07304998, 0.13456576,\n",
              "        0.11534208, 0.14225523, 0.18070259, 0.21338284, 0.29027756,\n",
              "        0.29027756, 0.35179333, 0.3537157 , 0.34025913, 0.41715384,\n",
              "        0.43253279, 0.41523148, 0.37101701, 0.38255122, 0.37678412,\n",
              "        0.34025913, 0.32680255, 0.27489862, 0.23260652, 0.19992627,\n",
              "        0.17685785, 0.13072102, 0.13456576, 0.10380787, 0.06920525,\n",
              "        0.0538263 , 0.04421446, 0.04036973, 0.02883552, 0.01730131,\n",
              "        0.02114605, 0.00384474, 0.00384474, 0.        , 0.0057671 ]),\n",
              " array([-3.60261861, -3.46604949, -3.32948037, -3.19291125, -3.05634213,\n",
              "        -2.91977301, -2.78320389, -2.64663477, -2.51006565, -2.37349653,\n",
              "        -2.23692741, -2.10035829, -1.96378917, -1.82722005, -1.69065093,\n",
              "        -1.55408181, -1.41751269, -1.28094357, -1.14437445, -1.00780533,\n",
              "        -0.87123621, -0.73466709, -0.59809797, -0.46152885, -0.32495973,\n",
              "        -0.18839061, -0.05182149,  0.08474763,  0.22131675,  0.35788587,\n",
              "         0.49445499,  0.63102411,  0.76759323,  0.90416235,  1.04073147,\n",
              "         1.17730059,  1.31386971,  1.45043883,  1.58700795,  1.72357707,\n",
              "         1.86014619,  1.99671531,  2.13328443,  2.26985355,  2.40642267,\n",
              "         2.54299179,  2.67956091,  2.81613003,  2.95269915,  3.08926827,\n",
              "         3.22583739]),\n",
              " <a list of 50 Patch objects>)"
            ]
          },
          "metadata": {},
          "execution_count": 8
        },
        {
          "output_type": "display_data",
          "data": {
            "text/plain": [
              "<Figure size 432x288 with 1 Axes>"
            ],
            "image/png": "[encoded data removed]"
          },
          "metadata": {
            "needs_background": "light"
          }
        }
      ]
    },
    {
      "cell_type": "markdown",
      "source": [
        "# 고통프 과제 7"
      ],
      "metadata": {
        "id": "X83z7XVPY5K3"
      }
    },
    {
      "cell_type": "code",
      "source": [
        "import math\n",
        "import pdb\n",
        "\n",
        "class Point:\n",
        "    def __init__(self, x = 0, y = 0):\n",
        "        self.x = x\n",
        "        self.y = y\n",
        "\n",
        "    def distance(self, other):\n",
        "        return math.sqrt((self.x - other.x)**2 + (self.y - other.y)**2)\n",
        "\n",
        "class LineSegment:\n",
        "    def __init__(self, pointA=Point(), pointB = Point(1,1)):\n",
        "        self.pointA = pointA\n",
        "        self.pointB = pointB\n",
        "        self.x = pointB.x - pointA.x\n",
        "        self.y = pointB.y - pointA.y\n",
        "\n",
        "    def dot_product(self, other):\n",
        "        return self.x * other.x + self.y * other.y\n",
        "\n",
        "    def distance(self, pointE):\n",
        "        be = LineSegment(self.pointB, pointE)\n",
        "        ae = LineSegment(self.pointA, pointE)\n",
        "\n",
        "        if self.dot_product(be) > 0: return self.pointB.distance(pointE)\n",
        "        if self.dot_product(ae) < 0: return self.pointA.distance(pointE)\n",
        "        else: return Line(self.pointA, self.pointB).distance(pointE)\n",
        "\n",
        "class Line:\n",
        "    def __init__(self, pointA = Point(), pointB = Point(1,1)):\n",
        "        self.pointA = pointA\n",
        "        self.pointB = pointB\n",
        "\n",
        "    def distance(self, other_point):\n",
        "        return (\n",
        "            abs(\n",
        "              (self.pointB.x - self.pointA.x) * (self.pointA.y - other_point.y) - (self.pointA.x - other_point.x) * (self.pointB.y - self.pointA.y)\n",
        "        ) / (\n",
        "            math.sqrt(\n",
        "                ((self.pointB.x - self.pointA.x)**2 + ((self.pointB.y - self.pointA.y)**2))\n",
        "            ))\n",
        "        )\n",
        "    \n",
        "        \n",
        "class Circle:\n",
        "    def __init__(self, centre = Point(0,0), radius=1):\n",
        "        self.centre = centre\n",
        "        self.radius = radius\n",
        "    \n",
        "\n",
        "class Rectangle:\n",
        "    def __init__(self, point = Point(), width = 1, height = 1):\n",
        "        self.bl = point #bottom left\n",
        "        self.width = width\n",
        "        self.height = height\n",
        "\n",
        "    def vertices(self):\n",
        "        return [\n",
        "            self.bl,\n",
        "            Point(self.bl.x, self.bl.y + self.height),\n",
        "            Point(self.bl.x + self.width, self.bl.y + self.height),\n",
        "            Point(self.bl.x + self.width, self.bl.y)\n",
        "            ]\n",
        "            \n",
        "\n",
        "            \n",
        "def rect_in_circle(circ, rect):\n",
        "    for point in rect.vertices():\n",
        "        if not point_in_circle(circ, point):       \n",
        "            return False\n",
        "\n",
        "    return True\n",
        "\n",
        "\n",
        "def rect_circle_overlap(circ, rect):\n",
        "    vl = rect.vertices()\n",
        "    for a in range(len(vl)):\n",
        "        p1 = vl[a]\n",
        "        p2 = vl[(a + 1) % len(vl)]\n",
        "        d = LineSegment(p1, p2).distance(circ.centre)\n",
        "        if math.isclose(d, circ.radius) | circ.radius >= d:\n",
        "            return True\n",
        "\n",
        "    return False\n",
        "\n",
        "\n",
        "if __name__ == '__main__':\n",
        "    c = Circle()\n",
        "    c.centre = Point() \n",
        "    c.centre.x = 150\n",
        "    c.centre.y = 100\n",
        "    c.radius = 75\n",
        "\n",
        "    r = Rectangle(Point(0, 0), 100, 100)\n",
        "    print(f'r in c: {rect_in_circle(c, r)}')\n",
        "\n",
        "    v1 = LineSegment(Point(), Point(1,1))\n",
        "    print(f'v1 in c: {rect_circle_overlap(c, r)}')"
      ],
      "metadata": {
        "colab": {
          "base_uri": "https://localhost:8080/"
        },
        "id": "mCW7ptbeaee4",
        "outputId": "16cf918c-a4a6-40fc-bc4d-8f28c7c0177b"
      },
      "execution_count": null,
      "outputs": [
        {
          "output_type": "stream",
          "name": "stdout",
          "text": [
            "r in c: False\n",
            "v1 in c: True\n"
          ]
        }
      ]
    },
    {
      "cell_type": "code",
      "source": [
        "today = datetime.today()\n",
        "print(f\"오늘 날짜: {today}\")\n",
        "print(f\"오늘 요일: \" + today.strftime(\"%A\"))"
      ],
      "metadata": {
        "colab": {
          "base_uri": "https://localhost:8080/"
        },
        "id": "muEvuP8RQtJc",
        "outputId": "81a6ec48-8b63-45df-a580-d5898a469ceb"
      },
      "execution_count": null,
      "outputs": [
        {
          "output_type": "stream",
          "name": "stdout",
          "text": [
            "오늘 날짜: 2022-11-10 06:44:11.807172\n",
            "오늘 요일: Thursday\n"
          ]
        }
      ]
    },
    {
      "cell_type": "code",
      "source": [
        "bday = '09/15/1997'\n",
        "bday = datetime.strptime(bday, '%m/%d/%Y')\n",
        "\n",
        "next_bday = bday.replace(year=today.year)\n",
        "if next_bday < today:\n",
        "  next_bday = next_bday.replace(year=today.year+1)\n",
        "\n",
        "print(next_bday)\n",
        "until_next_bday = next_bday - today\n",
        "print(until_next_bday)"
      ],
      "metadata": {
        "colab": {
          "base_uri": "https://localhost:8080/"
        },
        "id": "PNXkhVo-RsYf",
        "outputId": "e7feb359-14f7-4f5f-d62f-b143af7a2f0a"
      },
      "execution_count": null,
      "outputs": [
        {
          "output_type": "stream",
          "name": "stdout",
          "text": [
            "2022-12-15 00:00:00\n",
            "34 days, 17:15:48.192828\n"
          ]
        }
      ]
    },
    {
      "cell_type": "code",
      "source": [
        "def double_day(bday1, bday2):\n",
        "  bday1 = datetime.strptime(bday1, '%m/%d/%Y')\n",
        "  bday2 = datetime.strptime(bday2, '%m/%d/%Y')\n",
        "\n",
        "  double_day = max(bday1, bday2) + abs(bday1-bday2)\n",
        "\n",
        "  return double_day"
      ],
      "metadata": {
        "id": "mPbWPBlpS0dv"
      },
      "execution_count": null,
      "outputs": []
    },
    {
      "cell_type": "code",
      "source": [
        "double_day('09/15/1997', '02/01/2001')"
      ],
      "metadata": {
        "colab": {
          "base_uri": "https://localhost:8080/"
        },
        "id": "vmSiiWzjUIvc",
        "outputId": "46b8e2c0-ae64-4180-ee4a-0f11200ac3b4"
      },
      "execution_count": null,
      "outputs": [
        {
          "output_type": "execute_result",
          "data": {
            "text/plain": [
              "datetime.datetime(2004, 6, 20, 0, 0)"
            ]
          },
          "metadata": {},
          "execution_count": 52
        }
      ]
    },
    {
      "cell_type": "code",
      "source": [
        "def get_n_times_older(bday1, bday2, n):\n",
        "  bday1 = datetime.strptime(bday1, '%m/%d/%Y')\n",
        "  bday2 = datetime.strptime(bday2, '%m/%d/%Y')\n",
        "  if bday1 == bday2:\n",
        "    print(\"생일이 같음\")\n",
        "  else:\n",
        "    ordered_bdays = sorted([bday1, bday2])\n",
        "  return ordered_bdays[0] + n * (ordered_bdays[1] - ordered_bdays[0])"
      ],
      "metadata": {
        "id": "erWbAi7YVFun"
      },
      "execution_count": null,
      "outputs": []
    },
    {
      "cell_type": "code",
      "source": [
        "get_n_times_older('09/15/1997', '02/01/2001', 2)"
      ],
      "metadata": {
        "colab": {
          "base_uri": "https://localhost:8080/"
        },
        "id": "HaPYzN1OVh7H",
        "outputId": "0ff360d7-67cc-4316-eafa-3d812de88da7"
      },
      "execution_count": null,
      "outputs": [
        {
          "output_type": "execute_result",
          "data": {
            "text/plain": [
              "datetime.datetime(2004, 6, 20, 0, 0)"
            ]
          },
          "metadata": {},
          "execution_count": 57
        }
      ]
    },
    {
      "cell_type": "code",
      "source": [
        "get_n_times_older('09/15/1997', '02/01/2001', 4)"
      ],
      "metadata": {
        "colab": {
          "base_uri": "https://localhost:8080/"
        },
        "id": "_VMNkeHLVlU3",
        "outputId": "7940bae7-afd1-4593-dd87-7e6fd86765ac"
      },
      "execution_count": null,
      "outputs": [
        {
          "output_type": "execute_result",
          "data": {
            "text/plain": [
              "datetime.datetime(2011, 3, 26, 0, 0)"
            ]
          },
          "metadata": {},
          "execution_count": 58
        }
      ]
    },
    {
      "cell_type": "code",
      "source": [],
      "metadata": {
        "id": "h6mHlgvvVt5s"
      },
      "execution_count": null,
      "outputs": []
    },
    {
      "cell_type": "markdown",
      "source": [
        "# 통계계산 과제6"
      ],
      "metadata": {
        "id": "qdn1wNKFdU3B"
      }
    },
    {
      "cell_type": "code",
      "source": [
        "import sympy as sy\n",
        "#참값 i\n",
        "y = sy.symbols('y')\n",
        "i = float(sy.integrate(sy.exp(-y), (y,1,2)))\n",
        "i"
      ],
      "metadata": {
        "colab": {
          "base_uri": "https://localhost:8080/"
        },
        "id": "aGufttRlqs6H",
        "outputId": "1bdaaea1-c04b-4f92-fe55-fe19edc37470"
      },
      "execution_count": null,
      "outputs": [
        {
          "output_type": "execute_result",
          "data": {
            "text/plain": [
              "0.23254415793482963"
            ]
          },
          "metadata": {},
          "execution_count": 9
        }
      ]
    },
    {
      "cell_type": "code",
      "source": [
        "#1 (a)\n",
        "#난수에 기반한 적중법 추정치 I1\n",
        "import numpy as np\n",
        "import matplotlib.pyplot as plt\n",
        "\n",
        "def func1(x):\n",
        "    return np.exp(-x)\n",
        "\n",
        "\n",
        "n = 100\n",
        "hits = 0\n",
        "misses = 0\n",
        "xH = []\n",
        "yH = []\n",
        "xM = []\n",
        "yM = []\n",
        "for i in range(n):\n",
        "    xx = np.random.uniform(1,2)\n",
        "    yy = np.random.uniform()\n",
        "    if yy <= func1(xx):\n",
        "        hits += 1\n",
        "        xH = xH + [xx]\n",
        "        yH = yH + [yy]\n",
        "    else:\n",
        "        misses += 1\n",
        "        xM = xM + [xx]\n",
        "        yM = yM + [yy]\n",
        "i1 = hits/n\n",
        "print('The Hit & Miss estimate of the integral of f(x) on 1 < x < 2 is', i1)"
      ],
      "metadata": {
        "colab": {
          "base_uri": "https://localhost:8080/"
        },
        "id": "LMVP4sbmbhMl",
        "outputId": "99cb531d-2217-46cc-8b6a-405ffced4112"
      },
      "execution_count": null,
      "outputs": [
        {
          "output_type": "stream",
          "name": "stdout",
          "text": [
            "The Hit & Miss estimate of the integral of f(x) on 1 < x < 2 is 0.29\n"
          ]
        }
      ]
    },
    {
      "cell_type": "code",
      "source": [
        "var1 = np.var(np.random.uniform(1, 2, 10000)+np.log(np.random.uniform(0, 1, 10000))<=0)/10000\n",
        "var1"
      ],
      "metadata": {
        "colab": {
          "base_uri": "https://localhost:8080/"
        },
        "id": "WJLOhWlWkXon",
        "outputId": "7d60b2d9-6001-4956-e9d3-acd0b7ad043f"
      },
      "execution_count": null,
      "outputs": [
        {
          "output_type": "execute_result",
          "data": {
            "text/plain": [
              "1.77639e-05"
            ]
          },
          "metadata": {},
          "execution_count": 28
        }
      ]
    },
    {
      "cell_type": "code",
      "source": [
        "#1 (a)\n",
        "#표본평균 몬테칼로 추정치 I2\n",
        "import numpy as np\n",
        "\n",
        "def func1(x):\n",
        "    return np.exp(-x)\n",
        "  \n",
        "def mc_integrate(func, a, b, n):\n",
        "    # Monte Carlo integration between x1 and x2 of given function from a to b\n",
        "    \n",
        "    vals = np.random.uniform(a, b, n)\n",
        "    y = [func(val) for val in vals]\n",
        "    \n",
        "    y_mean = np.sum(y)/n\n",
        "    integ = (b-a) * y_mean\n",
        "    \n",
        "    return integ\n",
        "\n",
        "i2 = mc_integrate(func1, 1, 2, 100)\n",
        "print(f\"Monte Carlo solution: {i2: .10f}\")\n",
        "\n"
      ],
      "metadata": {
        "id": "j9vY4-BudWWS",
        "colab": {
          "base_uri": "https://localhost:8080/"
        },
        "outputId": "ff65c5ca-7068-43c8-c871-a959e7af3dc0"
      },
      "execution_count": null,
      "outputs": [
        {
          "output_type": "stream",
          "name": "stdout",
          "text": [
            "Monte Carlo solution:  0.2272946510\n"
          ]
        }
      ]
    },
    {
      "cell_type": "code",
      "source": [
        "plt.plot(xH, yH, 'ro', fillstyle = 'none', markersize = 1.5)\n",
        "plt.plot(xM, yM, 'bo', fillstyle = 'none', markersize = 1.5)\n",
        "xx = np.arange(1, 2, 0.001)\n",
        "plt.plot(xx, func1(xx), 'k-', linewidth = 3)\n",
        "plt.xlabel('x')\n",
        "plt.ylabel('f(x)');"
      ],
      "metadata": {
        "colab": {
          "base_uri": "https://localhost:8080/",
          "height": 279
        },
        "id": "SAdHijy_lGvp",
        "outputId": "5cbecfbc-69ad-46e8-e94d-b0cefec06625"
      },
      "execution_count": null,
      "outputs": [
        {
          "output_type": "display_data",
          "data": {
            "text/plain": [
              "<Figure size 432x288 with 1 Axes>"
            ],
            "image/png": "[encoded data removed]"
          },
          "metadata": {
            "needs_background": "light"
          }
        }
      ]
    },
    {
      "cell_type": "code",
      "source": [
        "var2 = (np.mean(np.exp(-2*np.random.uniform(1,2,10000)))-i**2)/10000\n",
        "var2"
      ],
      "metadata": {
        "colab": {
          "base_uri": "https://localhost:8080/"
        },
        "id": "c_RJGORtl49y",
        "outputId": "7471b0d9-b317-49ac-afbf-507fde010850"
      },
      "execution_count": null,
      "outputs": [
        {
          "output_type": "execute_result",
          "data": {
            "text/plain": [
              "4.077275400300902e-07"
            ]
          },
          "metadata": {},
          "execution_count": 29
        }
      ]
    },
    {
      "cell_type": "code",
      "source": [
        "var1 - var2"
      ],
      "metadata": {
        "colab": {
          "base_uri": "https://localhost:8080/"
        },
        "id": "nlt9Kzh1q_UR",
        "outputId": "dbc19790-f1aa-4c75-cd4d-c775f664c13a"
      },
      "execution_count": null,
      "outputs": [
        {
          "output_type": "execute_result",
          "data": {
            "text/plain": [
              "1.735617245996991e-05"
            ]
          },
          "metadata": {},
          "execution_count": 30
        }
      ]
    },
    {
      "cell_type": "code",
      "source": [
        "#2번"
      ],
      "metadata": {
        "id": "MSlQQot2rF8R"
      },
      "execution_count": null,
      "outputs": []
    },
    {
      "cell_type": "code",
      "source": [
        "#참값 ii\n",
        "import sympy as sy\n",
        "#참값 i\n",
        "y = sy.symbols('y')\n",
        "ii = float(sy.integrate(sy.sqrt(1-y**2), (y,0,1)))\n",
        "ii"
      ],
      "metadata": {
        "colab": {
          "base_uri": "https://localhost:8080/"
        },
        "id": "iF39TBDOsQs7",
        "outputId": "1b718196-2a6a-4add-b220-93b1ba0e4616"
      },
      "execution_count": null,
      "outputs": [
        {
          "output_type": "execute_result",
          "data": {
            "text/plain": [
              "0.7853981633974483"
            ]
          },
          "metadata": {},
          "execution_count": 64
        }
      ]
    },
    {
      "cell_type": "code",
      "source": [
        "#표본평균 몬테칼로 추정치 i11\n",
        "import numpy as np\n",
        "import math\n",
        "\n",
        "def func2(x):\n",
        "    return math.sqrt(1-x**2)\n",
        "  \n",
        "def mc_integrate(func, a, b, n):\n",
        "    # Monte Carlo integration between x1 and x2 of given function from a to b\n",
        "    \n",
        "    vals = np.random.uniform(a, b, n)\n",
        "    y = [func(val) for val in vals]\n",
        "    \n",
        "    y_mean = np.sum(y)/n\n",
        "    integ = (b-a) * y_mean\n",
        "    \n",
        "    return integ\n",
        "\n",
        "i11 = mc_integrate(func2, 0, 1, 100)\n",
        "print(f\"Monte Carlo solution: {i11: .4f}\")"
      ],
      "metadata": {
        "colab": {
          "base_uri": "https://localhost:8080/"
        },
        "id": "m8oxA-VtrSuY",
        "outputId": "1f32511b-bd4d-49d0-c8b2-92a70fa47834"
      },
      "execution_count": null,
      "outputs": [
        {
          "output_type": "stream",
          "name": "stdout",
          "text": [
            "Monte Carlo solution:  0.7693\n"
          ]
        }
      ]
    },
    {
      "cell_type": "code",
      "source": [
        "var11 = (np.mean(1-np.random.uniform(0,1,10000)**2)-I**2)/10000\n",
        "var11"
      ],
      "metadata": {
        "colab": {
          "base_uri": "https://localhost:8080/"
        },
        "id": "DU_Wm5wDm7q_",
        "outputId": "807f383d-f5bb-4f46-a258-26675f5d906a"
      },
      "execution_count": null,
      "outputs": [
        {
          "output_type": "execute_result",
          "data": {
            "text/plain": [
              "6.127149881284096e-05"
            ]
          },
          "metadata": {},
          "execution_count": 31
        }
      ]
    },
    {
      "cell_type": "code",
      "source": [
        "#난수에 기반한 대조변수 몬테칼로 추정치 i22\n",
        "def func2(x):\n",
        "    return math.sqrt(1-x**2)\n",
        "u = np.random.uniform(0,1,100)\n",
        "i22 = 0\n",
        "for i in range(50):\n",
        "  i22 += (func2(u[i]) + func2(1-u[i]))/100\n",
        "print(i22)"
      ],
      "metadata": {
        "colab": {
          "base_uri": "https://localhost:8080/"
        },
        "id": "FDYvx9MkrjGN",
        "outputId": "e5bf68aa-7ccf-4f82-e0de-3febe1ef66af"
      },
      "execution_count": null,
      "outputs": [
        {
          "output_type": "stream",
          "name": "stdout",
          "text": [
            "0.7811746170976123\n"
          ]
        }
      ]
    },
    {
      "cell_type": "code",
      "source": [
        "n = 10000\n",
        "var22 = ((np.mean(1-np.random.uniform(0,1, int(n/2))**2)-I**2)+(np.mean(1-(1-np.random.uniform(0,1, int(n/2)))**2)-I**2))/(2*n)\n",
        "var22"
      ],
      "metadata": {
        "colab": {
          "base_uri": "https://localhost:8080/"
        },
        "id": "R2kyZ47om8b2",
        "outputId": "b9bb87af-e103-4cde-f394-5636c6475798"
      },
      "execution_count": null,
      "outputs": [
        {
          "output_type": "execute_result",
          "data": {
            "text/plain": [
              "6.118146416862871e-05"
            ]
          },
          "metadata": {},
          "execution_count": 32
        }
      ]
    },
    {
      "cell_type": "code",
      "source": [
        "#대조변수법을 사용하는 경우 표본평균 몬테칼로 적분법에 대한 추정량의 분산감소 비율\n",
        "var22/var11"
      ],
      "metadata": {
        "colab": {
          "base_uri": "https://localhost:8080/"
        },
        "id": "x91Q8A0Lnqpo",
        "outputId": "e91a06bb-f600-4397-cc52-19ea90425e3f"
      },
      "execution_count": null,
      "outputs": [
        {
          "output_type": "execute_result",
          "data": {
            "text/plain": [
              "0.9985305623992117"
            ]
          },
          "metadata": {},
          "execution_count": 34
        }
      ]
    },
    {
      "cell_type": "code",
      "source": [
        "import numpy as np\n",
        "from scipy import integrate\n",
        "import math"
      ],
      "metadata": {
        "id": "4Lc9KnC3Vhag"
      },
      "execution_count": null,
      "outputs": []
    },
    {
      "cell_type": "code",
      "source": [
        "#(c) 주표본기법"
      ],
      "metadata": {
        "id": "n_HPE0iKcQ_g"
      },
      "execution_count": null,
      "outputs": []
    },
    {
      "cell_type": "code",
      "source": [
        "def g(x):\n",
        "  return (1-x**2)**0.5"
      ],
      "metadata": {
        "id": "wP7cWo_pzXSU"
      },
      "execution_count": null,
      "outputs": []
    },
    {
      "cell_type": "code",
      "source": [
        "def f1(x):\n",
        "    return (6/5)*(1-x*x/2)"
      ],
      "metadata": {
        "id": "UrWKX9DtC_PP"
      },
      "execution_count": null,
      "outputs": []
    },
    {
      "cell_type": "code",
      "source": [
        "x = np.random.uniform(0,1,10000)\n",
        "i111 = 0\n",
        "for i in range(10000):\n",
        "  i111 += (5*(1-x[i]*x[i])**0.5) / (6*((1-x[i]*x[i]/2)))\n",
        "\n",
        "i111 = i111/10000\n",
        "i111"
      ],
      "metadata": {
        "colab": {
          "base_uri": "https://localhost:8080/"
        },
        "id": "8Z-DN-jHri1G",
        "outputId": "7856664c-2d09-40bd-b712-256847cb98c6"
      },
      "execution_count": null,
      "outputs": [
        {
          "output_type": "execute_result",
          "data": {
            "text/plain": [
              "0.7652605730740993"
            ]
          },
          "metadata": {},
          "execution_count": 38
        }
      ]
    },
    {
      "cell_type": "code",
      "source": [
        "var111 = np.var((5*(1-x*x)**0.5) / (6*((1-x*x/2))))/10000\n",
        "var111"
      ],
      "metadata": {
        "colab": {
          "base_uri": "https://localhost:8080/"
        },
        "id": "1l9a_7_MWrDk",
        "outputId": "a61db930-b093-4556-9f49-13bb5f9047ed"
      },
      "execution_count": null,
      "outputs": [
        {
          "output_type": "execute_result",
          "data": {
            "text/plain": [
              "1.6346932212929828e-06"
            ]
          },
          "metadata": {},
          "execution_count": 45
        }
      ]
    },
    {
      "cell_type": "code",
      "source": [
        "def g(x):\n",
        "  return (1-x**2)**0.5\n",
        "  \n",
        "def f2(x):\n",
        "  return 1"
      ],
      "metadata": {
        "id": "WM-L5R03VYjD"
      },
      "execution_count": null,
      "outputs": []
    },
    {
      "cell_type": "code",
      "source": [
        "x2 = np.random.uniform(0,1,10000)"
      ],
      "metadata": {
        "id": "XsyzjYw0Vdpf"
      },
      "execution_count": null,
      "outputs": []
    },
    {
      "cell_type": "code",
      "source": [
        "i222 = 0\n",
        "\n",
        "for i in range(10000):\n",
        "  i222 += math.sqrt(1-x2[i]*x2[i])\n",
        "\n",
        "i222 = i222/10000\n",
        "i222 "
      ],
      "metadata": {
        "colab": {
          "base_uri": "https://localhost:8080/"
        },
        "id": "0Xlv_lKgVtBB",
        "outputId": "c9f00dfa-7adf-4b61-a8bb-72db589f2f09"
      },
      "execution_count": null,
      "outputs": [
        {
          "output_type": "execute_result",
          "data": {
            "text/plain": [
              "0.7886824590761812"
            ]
          },
          "metadata": {},
          "execution_count": 24
        }
      ]
    },
    {
      "cell_type": "code",
      "source": [
        "var222 = np.var((1-(x2)**2)**0.5)/10000\n",
        "var222"
      ],
      "metadata": {
        "colab": {
          "base_uri": "https://localhost:8080/"
        },
        "id": "XQCKG0H7Z9SK",
        "outputId": "8579d2ee-5926-4891-f456-0967b9271176"
      },
      "execution_count": null,
      "outputs": [
        {
          "output_type": "execute_result",
          "data": {
            "text/plain": [
              "4.861095204549515e-06"
            ]
          },
          "metadata": {},
          "execution_count": 43
        }
      ]
    },
    {
      "cell_type": "code",
      "source": [
        "var222 > var111"
      ],
      "metadata": {
        "colab": {
          "base_uri": "https://localhost:8080/"
        },
        "id": "BQJIfDN1cJE3",
        "outputId": "d1265956-412d-47e1-9bb6-93babe3e9e9d"
      },
      "execution_count": null,
      "outputs": [
        {
          "output_type": "execute_result",
          "data": {
            "text/plain": [
              "True"
            ]
          },
          "metadata": {},
          "execution_count": 47
        }
      ]
    },
    {
      "cell_type": "code",
      "source": [],
      "metadata": {
        "id": "sOuI79PPcKXS"
      },
      "execution_count": null,
      "outputs": []
    },
    {
      "cell_type": "markdown",
      "source": [
        "# 고통프 과제8"
      ],
      "metadata": {
        "id": "P72RLWgVuXLv"
      }
    },
    {
      "cell_type": "code",
      "source": [
        "import numpy as np"
      ],
      "metadata": {
        "id": "UewvlI_uukJB"
      },
      "execution_count": null,
      "outputs": []
    },
    {
      "cell_type": "code",
      "source": [],
      "metadata": {
        "id": "PHV5SPzzxqEj"
      },
      "execution_count": null,
      "outputs": []
    }
  ]
}